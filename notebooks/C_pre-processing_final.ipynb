{
 "cells": [
  {
   "cell_type": "markdown",
   "metadata": {},
   "source": [
    "# Pre-processing"
   ]
  },
  {
   "cell_type": "markdown",
   "metadata": {},
   "source": [
    "# Objective"
   ]
  },
  {
   "cell_type": "markdown",
   "metadata": {},
   "source": [
    "- Prepare data for modelling"
   ]
  },
  {
   "cell_type": "markdown",
   "metadata": {},
   "source": [
    "## Tasks"
   ]
  },
  {
   "cell_type": "markdown",
   "metadata": {},
   "source": [
    "1. Find features with missing values\n",
    "2. Determine relevance of feature for modelling. Drop features you feel are not important\n",
    "3. Impute numerical missing values\n",
    "4. Convert categorical variables and datetime variables to numerical variables\n",
    "5. Impute categorical missing values\n",
    "6. Scale all data"
   ]
  },
  {
   "cell_type": "markdown",
   "metadata": {},
   "source": [
    "# Imports"
   ]
  },
  {
   "cell_type": "code",
   "execution_count": 1,
   "metadata": {},
   "outputs": [],
   "source": [
    "import numpy as np\n",
    "import pandas as pd\n",
    "import matplotlib.pyplot as plt\n",
    "import seaborn as sns\n",
    "import os\n",
    "from sklearn.model_selection import train_test_split\n",
    "from sklearn.preprocessing import StandardScaler\n",
    "from sklearn.linear_model import LinearRegression\n",
    "from sklearn.metrics import mean_absolute_error, r2_score"
   ]
  },
  {
   "cell_type": "markdown",
   "metadata": {},
   "source": [
    "# Load Data"
   ]
  },
  {
   "cell_type": "code",
   "execution_count": 2,
   "metadata": {},
   "outputs": [],
   "source": [
    "read = pd.read_csv('..\\data\\interim\\\\rentals_complete.csv')"
   ]
  },
  {
   "cell_type": "code",
   "execution_count": 3,
   "metadata": {},
   "outputs": [],
   "source": [
    "rentals = read.copy()"
   ]
  },
  {
   "cell_type": "code",
   "execution_count": 4,
   "metadata": {
    "scrolled": true
   },
   "outputs": [
    {
     "data": {
      "text/plain": [
       "(267690, 36)"
      ]
     },
     "execution_count": 4,
     "metadata": {},
     "output_type": "execute_result"
    }
   ],
   "source": [
    "rentals.shape"
   ]
  },
  {
   "cell_type": "code",
   "execution_count": 5,
   "metadata": {
    "scrolled": true
   },
   "outputs": [
    {
     "data": {
      "text/html": [
       "<div>\n",
       "<style scoped>\n",
       "    .dataframe tbody tr th:only-of-type {\n",
       "        vertical-align: middle;\n",
       "    }\n",
       "\n",
       "    .dataframe tbody tr th {\n",
       "        vertical-align: top;\n",
       "    }\n",
       "\n",
       "    .dataframe thead th {\n",
       "        text-align: right;\n",
       "    }\n",
       "</style>\n",
       "<table border=\"1\" class=\"dataframe\">\n",
       "  <thead>\n",
       "    <tr style=\"text-align: right;\">\n",
       "      <th></th>\n",
       "      <th>state</th>\n",
       "      <th>serviceCharge</th>\n",
       "      <th>newlyConst</th>\n",
       "      <th>balcony</th>\n",
       "      <th>hasKitchen</th>\n",
       "      <th>baseRent</th>\n",
       "      <th>livingSpace</th>\n",
       "      <th>condition</th>\n",
       "      <th>interiorQual</th>\n",
       "      <th>lift</th>\n",
       "      <th>...</th>\n",
       "      <th>medianServiceCharge_ct</th>\n",
       "      <th>medianThermalChar_ct</th>\n",
       "      <th>medianPictureCount_ct</th>\n",
       "      <th>medianNoRooms_muni</th>\n",
       "      <th>medianLivingSpace_muni</th>\n",
       "      <th>medianServiceCharge_muni</th>\n",
       "      <th>medianPictureCount_muni</th>\n",
       "      <th>medianNoRooms_zip</th>\n",
       "      <th>medianLivingSpace_zip</th>\n",
       "      <th>medianServiceCharge_zip</th>\n",
       "    </tr>\n",
       "  </thead>\n",
       "  <tbody>\n",
       "    <tr>\n",
       "      <th>0</th>\n",
       "      <td>Nordrhein_Westfalen</td>\n",
       "      <td>245.00</td>\n",
       "      <td>No</td>\n",
       "      <td>No</td>\n",
       "      <td>No</td>\n",
       "      <td>595.00</td>\n",
       "      <td>86.00</td>\n",
       "      <td>well_kept</td>\n",
       "      <td>normal</td>\n",
       "      <td>No</td>\n",
       "      <td>...</td>\n",
       "      <td>121.0</td>\n",
       "      <td>126.0</td>\n",
       "      <td>8.0</td>\n",
       "      <td>3.0</td>\n",
       "      <td>78.0</td>\n",
       "      <td>161.62</td>\n",
       "      <td>9.0</td>\n",
       "      <td>3.0</td>\n",
       "      <td>78.0</td>\n",
       "      <td>150.0</td>\n",
       "    </tr>\n",
       "    <tr>\n",
       "      <th>1</th>\n",
       "      <td>Nordrhein_Westfalen</td>\n",
       "      <td>141.00</td>\n",
       "      <td>No</td>\n",
       "      <td>Yes</td>\n",
       "      <td>No</td>\n",
       "      <td>579.00</td>\n",
       "      <td>70.95</td>\n",
       "      <td>unknown</td>\n",
       "      <td>unknown</td>\n",
       "      <td>No</td>\n",
       "      <td>...</td>\n",
       "      <td>121.0</td>\n",
       "      <td>126.0</td>\n",
       "      <td>8.0</td>\n",
       "      <td>3.0</td>\n",
       "      <td>78.0</td>\n",
       "      <td>161.62</td>\n",
       "      <td>9.0</td>\n",
       "      <td>3.0</td>\n",
       "      <td>78.0</td>\n",
       "      <td>150.0</td>\n",
       "    </tr>\n",
       "    <tr>\n",
       "      <th>2</th>\n",
       "      <td>Nordrhein_Westfalen</td>\n",
       "      <td>141.00</td>\n",
       "      <td>No</td>\n",
       "      <td>Yes</td>\n",
       "      <td>No</td>\n",
       "      <td>569.00</td>\n",
       "      <td>70.95</td>\n",
       "      <td>unknown</td>\n",
       "      <td>unknown</td>\n",
       "      <td>No</td>\n",
       "      <td>...</td>\n",
       "      <td>121.0</td>\n",
       "      <td>126.0</td>\n",
       "      <td>8.0</td>\n",
       "      <td>3.0</td>\n",
       "      <td>78.0</td>\n",
       "      <td>161.62</td>\n",
       "      <td>9.0</td>\n",
       "      <td>3.0</td>\n",
       "      <td>78.0</td>\n",
       "      <td>150.0</td>\n",
       "    </tr>\n",
       "    <tr>\n",
       "      <th>3</th>\n",
       "      <td>Nordrhein_Westfalen</td>\n",
       "      <td>322.16</td>\n",
       "      <td>Yes</td>\n",
       "      <td>Yes</td>\n",
       "      <td>Yes</td>\n",
       "      <td>1398.60</td>\n",
       "      <td>115.58</td>\n",
       "      <td>first_time_use</td>\n",
       "      <td>sophisticated</td>\n",
       "      <td>Yes</td>\n",
       "      <td>...</td>\n",
       "      <td>121.0</td>\n",
       "      <td>126.0</td>\n",
       "      <td>8.0</td>\n",
       "      <td>3.0</td>\n",
       "      <td>78.0</td>\n",
       "      <td>161.62</td>\n",
       "      <td>9.0</td>\n",
       "      <td>3.0</td>\n",
       "      <td>78.0</td>\n",
       "      <td>150.0</td>\n",
       "    </tr>\n",
       "    <tr>\n",
       "      <th>4</th>\n",
       "      <td>Nordrhein_Westfalen</td>\n",
       "      <td>112.92</td>\n",
       "      <td>No</td>\n",
       "      <td>No</td>\n",
       "      <td>Yes</td>\n",
       "      <td>725.62</td>\n",
       "      <td>51.10</td>\n",
       "      <td>mint_condition</td>\n",
       "      <td>sophisticated</td>\n",
       "      <td>Yes</td>\n",
       "      <td>...</td>\n",
       "      <td>121.0</td>\n",
       "      <td>126.0</td>\n",
       "      <td>8.0</td>\n",
       "      <td>3.0</td>\n",
       "      <td>78.0</td>\n",
       "      <td>161.62</td>\n",
       "      <td>9.0</td>\n",
       "      <td>3.0</td>\n",
       "      <td>78.0</td>\n",
       "      <td>150.0</td>\n",
       "    </tr>\n",
       "  </tbody>\n",
       "</table>\n",
       "<p>5 rows × 36 columns</p>\n",
       "</div>"
      ],
      "text/plain": [
       "                 state  serviceCharge newlyConst balcony hasKitchen  baseRent  \\\n",
       "0  Nordrhein_Westfalen         245.00         No      No         No    595.00   \n",
       "1  Nordrhein_Westfalen         141.00         No     Yes         No    579.00   \n",
       "2  Nordrhein_Westfalen         141.00         No     Yes         No    569.00   \n",
       "3  Nordrhein_Westfalen         322.16        Yes     Yes        Yes   1398.60   \n",
       "4  Nordrhein_Westfalen         112.92         No      No        Yes    725.62   \n",
       "\n",
       "   livingSpace       condition   interiorQual lift  ...  \\\n",
       "0        86.00       well_kept         normal   No  ...   \n",
       "1        70.95         unknown        unknown   No  ...   \n",
       "2        70.95         unknown        unknown   No  ...   \n",
       "3       115.58  first_time_use  sophisticated  Yes  ...   \n",
       "4        51.10  mint_condition  sophisticated  Yes  ...   \n",
       "\n",
       "  medianServiceCharge_ct  medianThermalChar_ct  medianPictureCount_ct  \\\n",
       "0                  121.0                 126.0                    8.0   \n",
       "1                  121.0                 126.0                    8.0   \n",
       "2                  121.0                 126.0                    8.0   \n",
       "3                  121.0                 126.0                    8.0   \n",
       "4                  121.0                 126.0                    8.0   \n",
       "\n",
       "  medianNoRooms_muni medianLivingSpace_muni medianServiceCharge_muni  \\\n",
       "0                3.0                   78.0                   161.62   \n",
       "1                3.0                   78.0                   161.62   \n",
       "2                3.0                   78.0                   161.62   \n",
       "3                3.0                   78.0                   161.62   \n",
       "4                3.0                   78.0                   161.62   \n",
       "\n",
       "  medianPictureCount_muni  medianNoRooms_zip  medianLivingSpace_zip  \\\n",
       "0                     9.0                3.0                   78.0   \n",
       "1                     9.0                3.0                   78.0   \n",
       "2                     9.0                3.0                   78.0   \n",
       "3                     9.0                3.0                   78.0   \n",
       "4                     9.0                3.0                   78.0   \n",
       "\n",
       "   medianServiceCharge_zip  \n",
       "0                    150.0  \n",
       "1                    150.0  \n",
       "2                    150.0  \n",
       "3                    150.0  \n",
       "4                    150.0  \n",
       "\n",
       "[5 rows x 36 columns]"
      ]
     },
     "execution_count": 5,
     "metadata": {},
     "output_type": "execute_result"
    }
   ],
   "source": [
    "rentals.head()"
   ]
  },
  {
   "cell_type": "code",
   "execution_count": 6,
   "metadata": {
    "scrolled": false
   },
   "outputs": [
    {
     "name": "stdout",
     "output_type": "stream",
     "text": [
      "<class 'pandas.core.frame.DataFrame'>\n",
      "RangeIndex: 267690 entries, 0 to 267689\n",
      "Data columns (total 36 columns):\n",
      " #   Column                     Non-Null Count   Dtype  \n",
      "---  ------                     --------------   -----  \n",
      " 0   state                      267690 non-null  object \n",
      " 1   serviceCharge              257456 non-null  float64\n",
      " 2   newlyConst                 267690 non-null  object \n",
      " 3   balcony                    267690 non-null  object \n",
      " 4   hasKitchen                 267690 non-null  object \n",
      " 5   baseRent                   267670 non-null  float64\n",
      " 6   livingSpace                267690 non-null  float64\n",
      " 7   condition                  267690 non-null  object \n",
      " 8   interiorQual               267690 non-null  object \n",
      " 9   lift                       267690 non-null  object \n",
      " 10  typeOfFlat                 267690 non-null  object \n",
      " 11  zip_code                   267690 non-null  int64  \n",
      " 12  noRooms                    267690 non-null  float64\n",
      " 13  city_town                  267690 non-null  object \n",
      " 14  municipality               267690 non-null  object \n",
      " 15  description                248030 non-null  object \n",
      " 16  facilities                 215015 non-null  object \n",
      " 17  gdp_per_capita_2018        267690 non-null  int64  \n",
      " 18  hdi_2018                   267690 non-null  float64\n",
      " 19  medianLivingSpace_state    267690 non-null  float64\n",
      " 20  medianServiceCharge_state  267690 non-null  float64\n",
      " 21  medianThermalChar_state    267690 non-null  float64\n",
      " 22  medianHeatingCosts_state   267690 non-null  float64\n",
      " 23  medianPictureCount_state   267690 non-null  int64  \n",
      " 24  no_Listings_per_100people  267690 non-null  float64\n",
      " 25  medianLivingSpace_ct       267690 non-null  float64\n",
      " 26  medianServiceCharge_ct     267690 non-null  float64\n",
      " 27  medianThermalChar_ct       267690 non-null  float64\n",
      " 28  medianPictureCount_ct      267690 non-null  float64\n",
      " 29  medianNoRooms_muni         267690 non-null  float64\n",
      " 30  medianLivingSpace_muni     267690 non-null  float64\n",
      " 31  medianServiceCharge_muni   267540 non-null  float64\n",
      " 32  medianPictureCount_muni    267690 non-null  float64\n",
      " 33  medianNoRooms_zip          267690 non-null  float64\n",
      " 34  medianLivingSpace_zip      267690 non-null  float64\n",
      " 35  medianServiceCharge_zip    267588 non-null  float64\n",
      "dtypes: float64(21), int64(3), object(12)\n",
      "memory usage: 73.5+ MB\n"
     ]
    }
   ],
   "source": [
    "rentals.info()"
   ]
  },
  {
   "cell_type": "markdown",
   "metadata": {},
   "source": [
    "# Reviewing missing values"
   ]
  },
  {
   "cell_type": "code",
   "execution_count": 7,
   "metadata": {
    "scrolled": false
   },
   "outputs": [
    {
     "data": {
      "text/plain": [
       "Index(['serviceCharge', 'baseRent', 'description', 'facilities',\n",
       "       'medianServiceCharge_muni', 'medianServiceCharge_zip'],\n",
       "      dtype='object')"
      ]
     },
     "execution_count": 7,
     "metadata": {},
     "output_type": "execute_result"
    }
   ],
   "source": [
    "#Check columns with missing values\n",
    "rentals.columns[rentals.isnull().any()]"
   ]
  },
  {
   "cell_type": "markdown",
   "metadata": {},
   "source": [
    "We will impute median instead of mean values for the missing values for serviceCharge and and drop missing values for baseRent. We will impute mean values for the missing values for medianServiceCharge_muni and medianServiceCharge_zip because these values are unlikely to have outliers."
   ]
  },
  {
   "cell_type": "code",
   "execution_count": 8,
   "metadata": {
    "scrolled": true
   },
   "outputs": [],
   "source": [
    "#Dropping baseRent values that are null\n",
    "rentals = rentals[~(rentals.baseRent.isnull())]\n",
    "#Replace missing values for serviceCharge and baseRent with median\n",
    "rentals.loc[rentals.serviceCharge.isnull(), 'serviceCharge'] = rentals.serviceCharge.median()\n",
    "#Replace missing values for medianServiceCharge_muni and medianServiceCharge_zip with their means\n",
    "rentals.loc[rentals.medianServiceCharge_muni.isnull(), 'medianServiceCharge_muni'] = rentals.medianServiceCharge_muni.mean()\n",
    "rentals.loc[rentals.medianServiceCharge_zip.isnull(), 'medianServiceCharge_zip'] = rentals.medianServiceCharge_zip.mean()"
   ]
  },
  {
   "cell_type": "code",
   "execution_count": 9,
   "metadata": {},
   "outputs": [],
   "source": [
    "# We will drop description and facilities for now\n",
    "rentals.drop(columns = ['description', 'facilities'], inplace = True)"
   ]
  },
  {
   "cell_type": "code",
   "execution_count": 10,
   "metadata": {},
   "outputs": [
    {
     "data": {
      "text/plain": [
       "0"
      ]
     },
     "execution_count": 10,
     "metadata": {},
     "output_type": "execute_result"
    }
   ],
   "source": [
    "#Verify that there are no missing values\n",
    "rentals.isnull().any().sum()"
   ]
  },
  {
   "cell_type": "markdown",
   "metadata": {},
   "source": [
    "# Application set development"
   ]
  },
  {
   "cell_type": "markdown",
   "metadata": {},
   "source": [
    "An application set will be used to observe the performance of the model. A random sample of 5 properties will be selected. We will first of all obtain the index and location variables of this set prior to further pre-processor."
   ]
  },
  {
   "cell_type": "code",
   "execution_count": 11,
   "metadata": {
    "scrolled": true
   },
   "outputs": [
    {
     "data": {
      "text/html": [
       "<div>\n",
       "<style scoped>\n",
       "    .dataframe tbody tr th:only-of-type {\n",
       "        vertical-align: middle;\n",
       "    }\n",
       "\n",
       "    .dataframe tbody tr th {\n",
       "        vertical-align: top;\n",
       "    }\n",
       "\n",
       "    .dataframe thead th {\n",
       "        text-align: right;\n",
       "    }\n",
       "</style>\n",
       "<table border=\"1\" class=\"dataframe\">\n",
       "  <thead>\n",
       "    <tr style=\"text-align: right;\">\n",
       "      <th></th>\n",
       "      <th>state</th>\n",
       "      <th>serviceCharge</th>\n",
       "      <th>newlyConst</th>\n",
       "      <th>balcony</th>\n",
       "      <th>hasKitchen</th>\n",
       "      <th>baseRent</th>\n",
       "      <th>livingSpace</th>\n",
       "      <th>condition</th>\n",
       "      <th>interiorQual</th>\n",
       "      <th>lift</th>\n",
       "      <th>...</th>\n",
       "      <th>medianServiceCharge_ct</th>\n",
       "      <th>medianThermalChar_ct</th>\n",
       "      <th>medianPictureCount_ct</th>\n",
       "      <th>medianNoRooms_muni</th>\n",
       "      <th>medianLivingSpace_muni</th>\n",
       "      <th>medianServiceCharge_muni</th>\n",
       "      <th>medianPictureCount_muni</th>\n",
       "      <th>medianNoRooms_zip</th>\n",
       "      <th>medianLivingSpace_zip</th>\n",
       "      <th>medianServiceCharge_zip</th>\n",
       "    </tr>\n",
       "  </thead>\n",
       "  <tbody>\n",
       "    <tr>\n",
       "      <th>263051</th>\n",
       "      <td>Brandenburg</td>\n",
       "      <td>160.0</td>\n",
       "      <td>Yes</td>\n",
       "      <td>Yes</td>\n",
       "      <td>No</td>\n",
       "      <td>775.0</td>\n",
       "      <td>77.70</td>\n",
       "      <td>first_time_use</td>\n",
       "      <td>unknown</td>\n",
       "      <td>Yes</td>\n",
       "      <td>...</td>\n",
       "      <td>100.0</td>\n",
       "      <td>96.00</td>\n",
       "      <td>5.0</td>\n",
       "      <td>3.0</td>\n",
       "      <td>60.80</td>\n",
       "      <td>125.00</td>\n",
       "      <td>7.0</td>\n",
       "      <td>3.0</td>\n",
       "      <td>60.80</td>\n",
       "      <td>124.0</td>\n",
       "    </tr>\n",
       "    <tr>\n",
       "      <th>167352</th>\n",
       "      <td>Schleswig_Holstein</td>\n",
       "      <td>130.0</td>\n",
       "      <td>No</td>\n",
       "      <td>No</td>\n",
       "      <td>Yes</td>\n",
       "      <td>550.0</td>\n",
       "      <td>75.00</td>\n",
       "      <td>first_time_use_after_refurbishment</td>\n",
       "      <td>unknown</td>\n",
       "      <td>No</td>\n",
       "      <td>...</td>\n",
       "      <td>115.0</td>\n",
       "      <td>135.75</td>\n",
       "      <td>7.0</td>\n",
       "      <td>3.0</td>\n",
       "      <td>64.64</td>\n",
       "      <td>95.00</td>\n",
       "      <td>5.0</td>\n",
       "      <td>3.0</td>\n",
       "      <td>64.84</td>\n",
       "      <td>95.0</td>\n",
       "    </tr>\n",
       "    <tr>\n",
       "      <th>44685</th>\n",
       "      <td>Sachsen</td>\n",
       "      <td>75.0</td>\n",
       "      <td>No</td>\n",
       "      <td>Yes</td>\n",
       "      <td>Yes</td>\n",
       "      <td>250.0</td>\n",
       "      <td>73.00</td>\n",
       "      <td>refurbished</td>\n",
       "      <td>unknown</td>\n",
       "      <td>No</td>\n",
       "      <td>...</td>\n",
       "      <td>120.0</td>\n",
       "      <td>100.00</td>\n",
       "      <td>10.0</td>\n",
       "      <td>2.0</td>\n",
       "      <td>62.88</td>\n",
       "      <td>128.00</td>\n",
       "      <td>10.0</td>\n",
       "      <td>2.0</td>\n",
       "      <td>61.50</td>\n",
       "      <td>125.0</td>\n",
       "    </tr>\n",
       "    <tr>\n",
       "      <th>27092</th>\n",
       "      <td>Sachsen_Anhalt</td>\n",
       "      <td>60.9</td>\n",
       "      <td>No</td>\n",
       "      <td>Yes</td>\n",
       "      <td>No</td>\n",
       "      <td>280.1</td>\n",
       "      <td>56.02</td>\n",
       "      <td>negotiable</td>\n",
       "      <td>unknown</td>\n",
       "      <td>No</td>\n",
       "      <td>...</td>\n",
       "      <td>92.0</td>\n",
       "      <td>104.00</td>\n",
       "      <td>9.0</td>\n",
       "      <td>3.0</td>\n",
       "      <td>56.98</td>\n",
       "      <td>69.52</td>\n",
       "      <td>9.0</td>\n",
       "      <td>3.0</td>\n",
       "      <td>56.98</td>\n",
       "      <td>70.0</td>\n",
       "    </tr>\n",
       "    <tr>\n",
       "      <th>111161</th>\n",
       "      <td>Hessen</td>\n",
       "      <td>180.0</td>\n",
       "      <td>No</td>\n",
       "      <td>Yes</td>\n",
       "      <td>Yes</td>\n",
       "      <td>670.0</td>\n",
       "      <td>78.00</td>\n",
       "      <td>well_kept</td>\n",
       "      <td>normal</td>\n",
       "      <td>Yes</td>\n",
       "      <td>...</td>\n",
       "      <td>195.0</td>\n",
       "      <td>111.70</td>\n",
       "      <td>10.0</td>\n",
       "      <td>3.0</td>\n",
       "      <td>83.00</td>\n",
       "      <td>200.00</td>\n",
       "      <td>10.0</td>\n",
       "      <td>3.0</td>\n",
       "      <td>82.50</td>\n",
       "      <td>200.0</td>\n",
       "    </tr>\n",
       "  </tbody>\n",
       "</table>\n",
       "<p>5 rows × 34 columns</p>\n",
       "</div>"
      ],
      "text/plain": [
       "                     state  serviceCharge newlyConst balcony hasKitchen  \\\n",
       "263051         Brandenburg          160.0        Yes     Yes         No   \n",
       "167352  Schleswig_Holstein          130.0         No      No        Yes   \n",
       "44685              Sachsen           75.0         No     Yes        Yes   \n",
       "27092       Sachsen_Anhalt           60.9         No     Yes         No   \n",
       "111161              Hessen          180.0         No     Yes        Yes   \n",
       "\n",
       "        baseRent  livingSpace                           condition  \\\n",
       "263051     775.0        77.70                      first_time_use   \n",
       "167352     550.0        75.00  first_time_use_after_refurbishment   \n",
       "44685      250.0        73.00                         refurbished   \n",
       "27092      280.1        56.02                          negotiable   \n",
       "111161     670.0        78.00                           well_kept   \n",
       "\n",
       "       interiorQual lift  ... medianServiceCharge_ct  medianThermalChar_ct  \\\n",
       "263051      unknown  Yes  ...                  100.0                 96.00   \n",
       "167352      unknown   No  ...                  115.0                135.75   \n",
       "44685       unknown   No  ...                  120.0                100.00   \n",
       "27092       unknown   No  ...                   92.0                104.00   \n",
       "111161       normal  Yes  ...                  195.0                111.70   \n",
       "\n",
       "        medianPictureCount_ct medianNoRooms_muni medianLivingSpace_muni  \\\n",
       "263051                    5.0                3.0                  60.80   \n",
       "167352                    7.0                3.0                  64.64   \n",
       "44685                    10.0                2.0                  62.88   \n",
       "27092                     9.0                3.0                  56.98   \n",
       "111161                   10.0                3.0                  83.00   \n",
       "\n",
       "        medianServiceCharge_muni  medianPictureCount_muni  medianNoRooms_zip  \\\n",
       "263051                    125.00                      7.0                3.0   \n",
       "167352                     95.00                      5.0                3.0   \n",
       "44685                     128.00                     10.0                2.0   \n",
       "27092                      69.52                      9.0                3.0   \n",
       "111161                    200.00                     10.0                3.0   \n",
       "\n",
       "        medianLivingSpace_zip  medianServiceCharge_zip  \n",
       "263051                  60.80                    124.0  \n",
       "167352                  64.84                     95.0  \n",
       "44685                   61.50                    125.0  \n",
       "27092                   56.98                     70.0  \n",
       "111161                  82.50                    200.0  \n",
       "\n",
       "[5 rows x 34 columns]"
      ]
     },
     "execution_count": 11,
     "metadata": {},
     "output_type": "execute_result"
    }
   ],
   "source": [
    "#Create application set of observations\n",
    "application_set = rentals.sample(5, random_state = 77)\n",
    "application_set"
   ]
  },
  {
   "cell_type": "code",
   "execution_count": 12,
   "metadata": {},
   "outputs": [],
   "source": [
    "#Extracting the application-set location and quality features\n",
    "application_set_location = application_set[['state', 'city_town', 'municipality', 'zip_code', 'condition', 'interiorQual']]\n",
    "#Extracting the application-set index\n",
    "application_set_index = application_set.index"
   ]
  },
  {
   "cell_type": "markdown",
   "metadata": {},
   "source": [
    "# Encode categorical variables"
   ]
  },
  {
   "cell_type": "markdown",
   "metadata": {},
   "source": [
    "We will using a dummy encoder to encode categorical variables. But we have to first of all drop those features with a lot of categories. These include city / town, municipality and zip code. We have already obtained relevant information for these features related to such information as to their median livingSpace. "
   ]
  },
  {
   "cell_type": "code",
   "execution_count": 13,
   "metadata": {},
   "outputs": [],
   "source": [
    "#Drop categorical features with many unique values\n",
    "rentals.drop(columns = ['city_town', 'municipality', 'zip_code'], inplace = True)"
   ]
  },
  {
   "cell_type": "code",
   "execution_count": 14,
   "metadata": {
    "scrolled": false
   },
   "outputs": [
    {
     "data": {
      "text/plain": [
       "Index(['state', 'serviceCharge', 'newlyConst', 'balcony', 'hasKitchen',\n",
       "       'baseRent', 'livingSpace', 'condition', 'interiorQual', 'lift',\n",
       "       'typeOfFlat', 'noRooms', 'gdp_per_capita_2018', 'hdi_2018',\n",
       "       'medianLivingSpace_state', 'medianServiceCharge_state',\n",
       "       'medianThermalChar_state', 'medianHeatingCosts_state',\n",
       "       'medianPictureCount_state', 'no_Listings_per_100people',\n",
       "       'medianLivingSpace_ct', 'medianServiceCharge_ct',\n",
       "       'medianThermalChar_ct', 'medianPictureCount_ct', 'medianNoRooms_muni',\n",
       "       'medianLivingSpace_muni', 'medianServiceCharge_muni',\n",
       "       'medianPictureCount_muni', 'medianNoRooms_zip', 'medianLivingSpace_zip',\n",
       "       'medianServiceCharge_zip'],\n",
       "      dtype='object')"
      ]
     },
     "execution_count": 14,
     "metadata": {},
     "output_type": "execute_result"
    }
   ],
   "source": [
    "rentals.columns"
   ]
  },
  {
   "cell_type": "code",
   "execution_count": 15,
   "metadata": {},
   "outputs": [],
   "source": [
    "#Encode cateogrical features\n",
    "rentals_df = pd.get_dummies(rentals)"
   ]
  },
  {
   "cell_type": "code",
   "execution_count": 16,
   "metadata": {
    "scrolled": true
   },
   "outputs": [],
   "source": [
    "#Extracting application set samples from encoded rentals dataframe\n",
    "application_df = rentals_df.loc[application_set_index]\n",
    "#Drop values in the application set from dataframe\n",
    "rental_df = rentals_df.drop(application_set_index)"
   ]
  },
  {
   "cell_type": "code",
   "execution_count": 17,
   "metadata": {
    "scrolled": true
   },
   "outputs": [
    {
     "data": {
      "text/plain": [
       "(267670, 74)"
      ]
     },
     "execution_count": 17,
     "metadata": {},
     "output_type": "execute_result"
    }
   ],
   "source": [
    "rentals_df.shape"
   ]
  },
  {
   "cell_type": "code",
   "execution_count": 18,
   "metadata": {},
   "outputs": [
    {
     "data": {
      "text/plain": [
       "(5, 74)"
      ]
     },
     "execution_count": 18,
     "metadata": {},
     "output_type": "execute_result"
    }
   ],
   "source": [
    "application_df.shape"
   ]
  },
  {
   "cell_type": "markdown",
   "metadata": {},
   "source": [
    "# Create a Dataframe for the features and target variable"
   ]
  },
  {
   "cell_type": "code",
   "execution_count": 19,
   "metadata": {},
   "outputs": [],
   "source": [
    "X = rentals_df.drop(columns = ['baseRent'])\n",
    "y = rentals_df.baseRent\n",
    "X_features = X.columns"
   ]
  },
  {
   "cell_type": "code",
   "execution_count": 20,
   "metadata": {
    "scrolled": false
   },
   "outputs": [
    {
     "data": {
      "text/plain": [
       "Index(['serviceCharge', 'livingSpace', 'noRooms', 'gdp_per_capita_2018',\n",
       "       'hdi_2018', 'medianLivingSpace_state', 'medianServiceCharge_state',\n",
       "       'medianThermalChar_state', 'medianHeatingCosts_state',\n",
       "       'medianPictureCount_state', 'no_Listings_per_100people',\n",
       "       'medianLivingSpace_ct', 'medianServiceCharge_ct',\n",
       "       'medianThermalChar_ct', 'medianPictureCount_ct', 'medianNoRooms_muni',\n",
       "       'medianLivingSpace_muni', 'medianServiceCharge_muni',\n",
       "       'medianPictureCount_muni', 'medianNoRooms_zip', 'medianLivingSpace_zip',\n",
       "       'medianServiceCharge_zip', 'state_Baden_Württemberg', 'state_Bayern',\n",
       "       'state_Berlin', 'state_Brandenburg', 'state_Bremen', 'state_Hamburg',\n",
       "       'state_Hessen', 'state_Mecklenburg_Vorpommern', 'state_Niedersachsen',\n",
       "       'state_Nordrhein_Westfalen', 'state_Rheinland_Pfalz', 'state_Saarland',\n",
       "       'state_Sachsen', 'state_Sachsen_Anhalt', 'state_Schleswig_Holstein',\n",
       "       'state_Thüringen', 'newlyConst_No', 'newlyConst_Yes', 'balcony_No',\n",
       "       'balcony_Yes', 'hasKitchen_No', 'hasKitchen_Yes',\n",
       "       'condition_first_time_use',\n",
       "       'condition_first_time_use_after_refurbishment',\n",
       "       'condition_fully_renovated', 'condition_mint_condition',\n",
       "       'condition_modernized', 'condition_need_of_renovation',\n",
       "       'condition_negotiable', 'condition_refurbished',\n",
       "       'condition_ripe_for_demolition', 'condition_unknown',\n",
       "       'condition_well_kept', 'interiorQual_luxury', 'interiorQual_normal',\n",
       "       'interiorQual_simple', 'interiorQual_sophisticated',\n",
       "       'interiorQual_unknown', 'lift_No', 'lift_Yes', 'typeOfFlat_apartment',\n",
       "       'typeOfFlat_ground_floor', 'typeOfFlat_half_basement',\n",
       "       'typeOfFlat_loft', 'typeOfFlat_maisonette', 'typeOfFlat_other',\n",
       "       'typeOfFlat_penthouse', 'typeOfFlat_raised_ground_floor',\n",
       "       'typeOfFlat_roof_storey', 'typeOfFlat_terraced_flat',\n",
       "       'typeOfFlat_unknown'],\n",
       "      dtype='object')"
      ]
     },
     "execution_count": 20,
     "metadata": {},
     "output_type": "execute_result"
    }
   ],
   "source": [
    "X_features"
   ]
  },
  {
   "cell_type": "markdown",
   "metadata": {},
   "source": [
    "# Scaling the features"
   ]
  },
  {
   "cell_type": "code",
   "execution_count": 21,
   "metadata": {},
   "outputs": [],
   "source": [
    "scaler = StandardScaler(with_mean = False)\n",
    "X_scaled = scaler.fit_transform(X)"
   ]
  },
  {
   "cell_type": "code",
   "execution_count": 22,
   "metadata": {},
   "outputs": [
    {
     "data": {
      "text/plain": [
       "array([[ 2.76544573,  2.677037  ,  4.07261169,  5.32527978, 68.61715701,\n",
       "         9.77600442,  5.94304803, 10.88519767, 13.23631072, 11.63621134,\n",
       "         0.72907196,  7.72822371,  3.92930073,  7.48333364,  5.89452368,\n",
       "         5.94717572,  6.29471578,  4.08542212,  4.02837852,  6.00313939,\n",
       "         6.18224529,  3.62615569,  0.        ,  0.        ,  0.        ,\n",
       "         0.        ,  0.        ,  0.        ,  0.        ,  0.        ,\n",
       "         0.        ,  2.36118706,  0.        ,  0.        ,  0.        ,\n",
       "         0.        ,  0.        ,  0.        ,  3.72042691,  0.        ,\n",
       "         2.05667054,  0.        ,  2.10777964,  0.        ,  0.        ,\n",
       "         0.        ,  0.        ,  0.        ,  0.        ,  0.        ,\n",
       "         0.        ,  0.        ,  0.        ,  0.        ,  2.31624267,\n",
       "         0.        ,  2.1723355 ,  0.        ,  0.        ,  0.        ,\n",
       "         2.35798375,  0.        ,  0.        ,  3.10691003,  0.        ,\n",
       "         0.        ,  0.        ,  0.        ,  0.        ,  0.        ,\n",
       "         0.        ,  0.        ,  0.        ]])"
      ]
     },
     "execution_count": 22,
     "metadata": {},
     "output_type": "execute_result"
    }
   ],
   "source": [
    "X_scaled[:1]"
   ]
  },
  {
   "cell_type": "markdown",
   "metadata": {},
   "source": [
    "# Create Train-Test Split"
   ]
  },
  {
   "cell_type": "code",
   "execution_count": 23,
   "metadata": {},
   "outputs": [],
   "source": [
    "#Split X and y to test and training set\n",
    "X_train, X_test, y_train, y_test = train_test_split(X_scaled, y, test_size = 0.3, random_state = 77)"
   ]
  },
  {
   "cell_type": "markdown",
   "metadata": {},
   "source": [
    "# Baseline model"
   ]
  },
  {
   "cell_type": "markdown",
   "metadata": {},
   "source": [
    "We will be using a linear regression algorithm to model the relationship between base rent and the features. We will also use the r-squared score and the mean absolute error to assess the model's performance. The r-squared score gives us an indication as to how much of the variation of base rent is due to the model, while the mean absolute error gives us a realistic sense for the margin of error associated with the model in terms of euros. "
   ]
  },
  {
   "cell_type": "code",
   "execution_count": 24,
   "metadata": {},
   "outputs": [],
   "source": [
    "#Instantiate linear regression model\n",
    "lm = LinearRegression()"
   ]
  },
  {
   "cell_type": "code",
   "execution_count": 25,
   "metadata": {},
   "outputs": [],
   "source": [
    "#Fit the model to the data\n",
    "lm.fit(X_train, y_train);"
   ]
  },
  {
   "cell_type": "code",
   "execution_count": 26,
   "metadata": {},
   "outputs": [],
   "source": [
    "#Determine predictions for train and the test set\n",
    "y_train_pred = lm.predict(X_train)\n",
    "y_test_pred = lm.predict(X_test)"
   ]
  },
  {
   "cell_type": "code",
   "execution_count": 27,
   "metadata": {},
   "outputs": [
    {
     "data": {
      "text/plain": [
       "(0.7264881063744089, 146.28933067903444)"
      ]
     },
     "execution_count": 27,
     "metadata": {},
     "output_type": "execute_result"
    }
   ],
   "source": [
    "#Review performance of model\n",
    "r2_score(y_train, y_train_pred), mean_absolute_error(y_train, y_train_pred)"
   ]
  },
  {
   "cell_type": "code",
   "execution_count": 28,
   "metadata": {},
   "outputs": [
    {
     "data": {
      "text/plain": [
       "(0.7478734650432224, 147.22967845979502)"
      ]
     },
     "execution_count": 28,
     "metadata": {},
     "output_type": "execute_result"
    }
   ],
   "source": [
    "#Review performance of model\n",
    "r2_score(y_test, y_test_pred), mean_absolute_error(y_test, y_test_pred)"
   ]
  },
  {
   "cell_type": "markdown",
   "metadata": {},
   "source": [
    "# Summary"
   ]
  },
  {
   "cell_type": "markdown",
   "metadata": {},
   "source": [
    "After processing the data to enable modelling, our base model gives us a 72% r2-score and a 147 euros mean absolute error on our test set. It seems like our model is informative and could be improved upond with other algorithms and modelling techniques. Our training set scores were 73.5% for r2-score 147 euros for mae. The closeness of set of values for our training and test sets suggests that there is minimal overfitting of the model. \n",
    "\n",
    "Going forward, we will attempt to improve on these scores by:\n",
    "- Choosing select features\n",
    "- Using other modelling algorithms\n",
    "- Tuning hyperparameters"
   ]
  },
  {
   "cell_type": "markdown",
   "metadata": {},
   "source": [
    "# Saving"
   ]
  },
  {
   "cell_type": "code",
   "execution_count": 29,
   "metadata": {},
   "outputs": [],
   "source": [
    "import pickle\n",
    "filepath = '../data/interim/'\n",
    "pickle.dump(lm, open(filepath + 'lm_base.pkl', 'wb'))\n",
    "pickle.dump(X_test, open(filepath + 'X_test_base.pkl', 'wb'))\n",
    "pickle.dump(y_test, open(filepath + 'y_test_base.pkl', 'wb'))\n",
    "pickle.dump(X_train, open(filepath + 'X_train_base.pkl', 'wb'))\n",
    "pickle.dump(y_train, open(filepath + 'y_train_base.pkl', 'wb'))\n",
    "pickle.dump(X_features, open(filepath + 'X_features_base.pkl', 'wb'))\n",
    "pickle.dump(X_scaled, open(filepath + 'X_scaled.pkl', 'wb'))\n",
    "pickle.dump(y, open(filepath + 'y.pkl', 'wb'))\n",
    "pickle.dump(application_df, open(filepath + 'application_df.pkl', 'wb'))\n",
    "pickle.dump(application_set_location, open(filepath + 'application_set_location.pkl', 'wb'))"
   ]
  }
 ],
 "metadata": {
  "kernelspec": {
   "display_name": "Python 3",
   "language": "python",
   "name": "python3"
  },
  "language_info": {
   "codemirror_mode": {
    "name": "ipython",
    "version": 3
   },
   "file_extension": ".py",
   "mimetype": "text/x-python",
   "name": "python",
   "nbconvert_exporter": "python",
   "pygments_lexer": "ipython3",
   "version": "3.8.8"
  }
 },
 "nbformat": 4,
 "nbformat_minor": 4
}
