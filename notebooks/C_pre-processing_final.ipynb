{
 "cells": [
  {
   "cell_type": "markdown",
   "metadata": {},
   "source": [
    "# Pre-processing"
   ]
  },
  {
   "cell_type": "markdown",
   "metadata": {},
   "source": [
    "# Objective"
   ]
  },
  {
   "cell_type": "markdown",
   "metadata": {},
   "source": [
    "- Prepare data for modelling"
   ]
  },
  {
   "cell_type": "markdown",
   "metadata": {},
   "source": [
    "## Tasks"
   ]
  },
  {
   "cell_type": "markdown",
   "metadata": {},
   "source": [
    "1. Find features with missing values\n",
    "2. Determine relevance of feature for modelling. Drop features you feel are not important\n",
    "3. Impute numerical missing values\n",
    "4. Convert categorical variables and datetime variables to numerical variables\n",
    "5. Impute categorical missing values\n",
    "6. Scale all data"
   ]
  },
  {
   "cell_type": "markdown",
   "metadata": {},
   "source": [
    "# Imports"
   ]
  },
  {
   "cell_type": "code",
   "execution_count": 1,
   "metadata": {},
   "outputs": [],
   "source": [
    "import numpy as np\n",
    "import pandas as pd\n",
    "import matplotlib.pyplot as plt\n",
    "import seaborn as sns\n",
    "import os\n",
    "from sklearn.model_selection import train_test_split\n",
    "from sklearn.preprocessing import StandardScaler\n",
    "from sklearn.linear_model import LinearRegression\n",
    "from sklearn.metrics import mean_absolute_error, r2_score"
   ]
  },
  {
   "cell_type": "markdown",
   "metadata": {},
   "source": [
    "# Load Data"
   ]
  },
  {
   "cell_type": "code",
   "execution_count": 2,
   "metadata": {},
   "outputs": [],
   "source": [
    "read = pd.read_csv('..\\data\\interim\\\\rentals_complete.csv')"
   ]
  },
  {
   "cell_type": "code",
   "execution_count": 3,
   "metadata": {},
   "outputs": [],
   "source": [
    "rentals = read.copy()"
   ]
  },
  {
   "cell_type": "code",
   "execution_count": 4,
   "metadata": {
    "scrolled": true
   },
   "outputs": [
    {
     "data": {
      "text/plain": [
       "(267690, 36)"
      ]
     },
     "execution_count": 4,
     "metadata": {},
     "output_type": "execute_result"
    }
   ],
   "source": [
    "rentals.shape"
   ]
  },
  {
   "cell_type": "code",
   "execution_count": 5,
   "metadata": {
    "scrolled": true
   },
   "outputs": [
    {
     "data": {
      "text/html": [
       "<div>\n",
       "<style scoped>\n",
       "    .dataframe tbody tr th:only-of-type {\n",
       "        vertical-align: middle;\n",
       "    }\n",
       "\n",
       "    .dataframe tbody tr th {\n",
       "        vertical-align: top;\n",
       "    }\n",
       "\n",
       "    .dataframe thead th {\n",
       "        text-align: right;\n",
       "    }\n",
       "</style>\n",
       "<table border=\"1\" class=\"dataframe\">\n",
       "  <thead>\n",
       "    <tr style=\"text-align: right;\">\n",
       "      <th></th>\n",
       "      <th>state</th>\n",
       "      <th>serviceCharge</th>\n",
       "      <th>newlyConst</th>\n",
       "      <th>balcony</th>\n",
       "      <th>hasKitchen</th>\n",
       "      <th>baseRent</th>\n",
       "      <th>livingSpace</th>\n",
       "      <th>condition</th>\n",
       "      <th>interiorQual</th>\n",
       "      <th>lift</th>\n",
       "      <th>...</th>\n",
       "      <th>medianServiceCharge_ct</th>\n",
       "      <th>medianThermalChar_ct</th>\n",
       "      <th>medianPictureCount_ct</th>\n",
       "      <th>medianNoRooms_muni</th>\n",
       "      <th>medianLivingSpace_muni</th>\n",
       "      <th>medianServiceCharge_muni</th>\n",
       "      <th>medianPictureCount_muni</th>\n",
       "      <th>medianNoRooms_zip</th>\n",
       "      <th>medianLivingSpace_zip</th>\n",
       "      <th>medianServiceCharge_zip</th>\n",
       "    </tr>\n",
       "  </thead>\n",
       "  <tbody>\n",
       "    <tr>\n",
       "      <th>0</th>\n",
       "      <td>Nordrhein_Westfalen</td>\n",
       "      <td>245.00</td>\n",
       "      <td>No</td>\n",
       "      <td>No</td>\n",
       "      <td>No</td>\n",
       "      <td>595.00</td>\n",
       "      <td>86.00</td>\n",
       "      <td>well_kept</td>\n",
       "      <td>normal</td>\n",
       "      <td>No</td>\n",
       "      <td>...</td>\n",
       "      <td>121.0</td>\n",
       "      <td>126.0</td>\n",
       "      <td>8.0</td>\n",
       "      <td>3.0</td>\n",
       "      <td>78.0</td>\n",
       "      <td>161.62</td>\n",
       "      <td>9.0</td>\n",
       "      <td>3.0</td>\n",
       "      <td>78.0</td>\n",
       "      <td>150.0</td>\n",
       "    </tr>\n",
       "    <tr>\n",
       "      <th>1</th>\n",
       "      <td>Nordrhein_Westfalen</td>\n",
       "      <td>141.00</td>\n",
       "      <td>No</td>\n",
       "      <td>Yes</td>\n",
       "      <td>No</td>\n",
       "      <td>579.00</td>\n",
       "      <td>70.95</td>\n",
       "      <td>unknown</td>\n",
       "      <td>unknown</td>\n",
       "      <td>No</td>\n",
       "      <td>...</td>\n",
       "      <td>121.0</td>\n",
       "      <td>126.0</td>\n",
       "      <td>8.0</td>\n",
       "      <td>3.0</td>\n",
       "      <td>78.0</td>\n",
       "      <td>161.62</td>\n",
       "      <td>9.0</td>\n",
       "      <td>3.0</td>\n",
       "      <td>78.0</td>\n",
       "      <td>150.0</td>\n",
       "    </tr>\n",
       "    <tr>\n",
       "      <th>2</th>\n",
       "      <td>Nordrhein_Westfalen</td>\n",
       "      <td>141.00</td>\n",
       "      <td>No</td>\n",
       "      <td>Yes</td>\n",
       "      <td>No</td>\n",
       "      <td>569.00</td>\n",
       "      <td>70.95</td>\n",
       "      <td>unknown</td>\n",
       "      <td>unknown</td>\n",
       "      <td>No</td>\n",
       "      <td>...</td>\n",
       "      <td>121.0</td>\n",
       "      <td>126.0</td>\n",
       "      <td>8.0</td>\n",
       "      <td>3.0</td>\n",
       "      <td>78.0</td>\n",
       "      <td>161.62</td>\n",
       "      <td>9.0</td>\n",
       "      <td>3.0</td>\n",
       "      <td>78.0</td>\n",
       "      <td>150.0</td>\n",
       "    </tr>\n",
       "    <tr>\n",
       "      <th>3</th>\n",
       "      <td>Nordrhein_Westfalen</td>\n",
       "      <td>322.16</td>\n",
       "      <td>Yes</td>\n",
       "      <td>Yes</td>\n",
       "      <td>Yes</td>\n",
       "      <td>1398.60</td>\n",
       "      <td>115.58</td>\n",
       "      <td>first_time_use</td>\n",
       "      <td>sophisticated</td>\n",
       "      <td>Yes</td>\n",
       "      <td>...</td>\n",
       "      <td>121.0</td>\n",
       "      <td>126.0</td>\n",
       "      <td>8.0</td>\n",
       "      <td>3.0</td>\n",
       "      <td>78.0</td>\n",
       "      <td>161.62</td>\n",
       "      <td>9.0</td>\n",
       "      <td>3.0</td>\n",
       "      <td>78.0</td>\n",
       "      <td>150.0</td>\n",
       "    </tr>\n",
       "    <tr>\n",
       "      <th>4</th>\n",
       "      <td>Nordrhein_Westfalen</td>\n",
       "      <td>112.92</td>\n",
       "      <td>No</td>\n",
       "      <td>No</td>\n",
       "      <td>Yes</td>\n",
       "      <td>725.62</td>\n",
       "      <td>51.10</td>\n",
       "      <td>mint_condition</td>\n",
       "      <td>sophisticated</td>\n",
       "      <td>Yes</td>\n",
       "      <td>...</td>\n",
       "      <td>121.0</td>\n",
       "      <td>126.0</td>\n",
       "      <td>8.0</td>\n",
       "      <td>3.0</td>\n",
       "      <td>78.0</td>\n",
       "      <td>161.62</td>\n",
       "      <td>9.0</td>\n",
       "      <td>3.0</td>\n",
       "      <td>78.0</td>\n",
       "      <td>150.0</td>\n",
       "    </tr>\n",
       "  </tbody>\n",
       "</table>\n",
       "<p>5 rows × 36 columns</p>\n",
       "</div>"
      ],
      "text/plain": [
       "                 state  serviceCharge newlyConst balcony hasKitchen  baseRent  \\\n",
       "0  Nordrhein_Westfalen         245.00         No      No         No    595.00   \n",
       "1  Nordrhein_Westfalen         141.00         No     Yes         No    579.00   \n",
       "2  Nordrhein_Westfalen         141.00         No     Yes         No    569.00   \n",
       "3  Nordrhein_Westfalen         322.16        Yes     Yes        Yes   1398.60   \n",
       "4  Nordrhein_Westfalen         112.92         No      No        Yes    725.62   \n",
       "\n",
       "   livingSpace       condition   interiorQual lift  ...  \\\n",
       "0        86.00       well_kept         normal   No  ...   \n",
       "1        70.95         unknown        unknown   No  ...   \n",
       "2        70.95         unknown        unknown   No  ...   \n",
       "3       115.58  first_time_use  sophisticated  Yes  ...   \n",
       "4        51.10  mint_condition  sophisticated  Yes  ...   \n",
       "\n",
       "  medianServiceCharge_ct  medianThermalChar_ct  medianPictureCount_ct  \\\n",
       "0                  121.0                 126.0                    8.0   \n",
       "1                  121.0                 126.0                    8.0   \n",
       "2                  121.0                 126.0                    8.0   \n",
       "3                  121.0                 126.0                    8.0   \n",
       "4                  121.0                 126.0                    8.0   \n",
       "\n",
       "  medianNoRooms_muni medianLivingSpace_muni medianServiceCharge_muni  \\\n",
       "0                3.0                   78.0                   161.62   \n",
       "1                3.0                   78.0                   161.62   \n",
       "2                3.0                   78.0                   161.62   \n",
       "3                3.0                   78.0                   161.62   \n",
       "4                3.0                   78.0                   161.62   \n",
       "\n",
       "  medianPictureCount_muni  medianNoRooms_zip  medianLivingSpace_zip  \\\n",
       "0                     9.0                3.0                   78.0   \n",
       "1                     9.0                3.0                   78.0   \n",
       "2                     9.0                3.0                   78.0   \n",
       "3                     9.0                3.0                   78.0   \n",
       "4                     9.0                3.0                   78.0   \n",
       "\n",
       "   medianServiceCharge_zip  \n",
       "0                    150.0  \n",
       "1                    150.0  \n",
       "2                    150.0  \n",
       "3                    150.0  \n",
       "4                    150.0  \n",
       "\n",
       "[5 rows x 36 columns]"
      ]
     },
     "execution_count": 5,
     "metadata": {},
     "output_type": "execute_result"
    }
   ],
   "source": [
    "rentals.head()"
   ]
  },
  {
   "cell_type": "code",
   "execution_count": 6,
   "metadata": {
    "scrolled": false
   },
   "outputs": [
    {
     "name": "stdout",
     "output_type": "stream",
     "text": [
      "<class 'pandas.core.frame.DataFrame'>\n",
      "RangeIndex: 267690 entries, 0 to 267689\n",
      "Data columns (total 36 columns):\n",
      " #   Column                     Non-Null Count   Dtype  \n",
      "---  ------                     --------------   -----  \n",
      " 0   state                      267690 non-null  object \n",
      " 1   serviceCharge              257456 non-null  float64\n",
      " 2   newlyConst                 267690 non-null  object \n",
      " 3   balcony                    267690 non-null  object \n",
      " 4   hasKitchen                 267690 non-null  object \n",
      " 5   baseRent                   267670 non-null  float64\n",
      " 6   livingSpace                267690 non-null  float64\n",
      " 7   condition                  267690 non-null  object \n",
      " 8   interiorQual               267690 non-null  object \n",
      " 9   lift                       267690 non-null  object \n",
      " 10  typeOfFlat                 267690 non-null  object \n",
      " 11  zip_code                   267690 non-null  int64  \n",
      " 12  noRooms                    267690 non-null  float64\n",
      " 13  city_town                  267690 non-null  object \n",
      " 14  municipality               267690 non-null  object \n",
      " 15  description                248030 non-null  object \n",
      " 16  facilities                 215015 non-null  object \n",
      " 17  gdp_per_capita_2018        267690 non-null  int64  \n",
      " 18  hdi_2018                   267690 non-null  float64\n",
      " 19  medianLivingSpace_state    267690 non-null  float64\n",
      " 20  medianServiceCharge_state  267690 non-null  float64\n",
      " 21  medianThermalChar_state    267690 non-null  float64\n",
      " 22  medianHeatingCosts_state   267690 non-null  float64\n",
      " 23  medianPictureCount_state   267690 non-null  int64  \n",
      " 24  no_Listings_per_100people  267690 non-null  float64\n",
      " 25  medianLivingSpace_ct       267690 non-null  float64\n",
      " 26  medianServiceCharge_ct     267690 non-null  float64\n",
      " 27  medianThermalChar_ct       267690 non-null  float64\n",
      " 28  medianPictureCount_ct      267690 non-null  float64\n",
      " 29  medianNoRooms_muni         267690 non-null  float64\n",
      " 30  medianLivingSpace_muni     267690 non-null  float64\n",
      " 31  medianServiceCharge_muni   267540 non-null  float64\n",
      " 32  medianPictureCount_muni    267690 non-null  float64\n",
      " 33  medianNoRooms_zip          267690 non-null  float64\n",
      " 34  medianLivingSpace_zip      267690 non-null  float64\n",
      " 35  medianServiceCharge_zip    267588 non-null  float64\n",
      "dtypes: float64(21), int64(3), object(12)\n",
      "memory usage: 73.5+ MB\n"
     ]
    }
   ],
   "source": [
    "rentals.info()"
   ]
  },
  {
   "cell_type": "markdown",
   "metadata": {},
   "source": [
    "# Reviewing missing values"
   ]
  },
  {
   "cell_type": "code",
   "execution_count": 7,
   "metadata": {
    "scrolled": false
   },
   "outputs": [
    {
     "data": {
      "text/plain": [
       "Index(['serviceCharge', 'baseRent', 'description', 'facilities',\n",
       "       'medianServiceCharge_muni', 'medianServiceCharge_zip'],\n",
       "      dtype='object')"
      ]
     },
     "execution_count": 7,
     "metadata": {},
     "output_type": "execute_result"
    }
   ],
   "source": [
    "#Check columns with missing values\n",
    "rentals.columns[rentals.isnull().any()]"
   ]
  },
  {
   "cell_type": "markdown",
   "metadata": {},
   "source": [
    "We will impute median instead of mean values for the missing values for serviceCharge and baseRent to avoid the impact of outliers. We will impute mean values for the missing values for medianServiceCharge_muni and medianServiceCharge_zip because these values are unlikely to have outliers."
   ]
  },
  {
   "cell_type": "code",
   "execution_count": 8,
   "metadata": {
    "scrolled": true
   },
   "outputs": [],
   "source": [
    "#Replace missing values for serviceCharge and baseRent with median\n",
    "rentals.loc[rentals.serviceCharge.isnull(), 'serviceCharge'] = rentals.serviceCharge.median()\n",
    "rentals.loc[rentals.baseRent.isnull(), 'baseRent'] = rentals.baseRent.median()\n",
    "#Replace missing values for medianServiceCharge_muni and medianServiceCharge_zip with their means\n",
    "rentals.loc[rentals.medianServiceCharge_muni.isnull(), 'medianServiceCharge_muni'] = rentals.medianServiceCharge_muni.mean()\n",
    "rentals.loc[rentals.medianServiceCharge_zip.isnull(), 'medianServiceCharge_zip'] = rentals.medianServiceCharge_zip.mean()"
   ]
  },
  {
   "cell_type": "code",
   "execution_count": 9,
   "metadata": {},
   "outputs": [],
   "source": [
    "# We will drop description and facilities for now\n",
    "rentals.drop(columns = ['description', 'facilities'], inplace = True)"
   ]
  },
  {
   "cell_type": "code",
   "execution_count": 10,
   "metadata": {},
   "outputs": [
    {
     "data": {
      "text/plain": [
       "0"
      ]
     },
     "execution_count": 10,
     "metadata": {},
     "output_type": "execute_result"
    }
   ],
   "source": [
    "#Verify that there are no missing values\n",
    "rentals.isnull().any().sum()"
   ]
  },
  {
   "cell_type": "markdown",
   "metadata": {},
   "source": [
    "# Encode categorical variables"
   ]
  },
  {
   "cell_type": "markdown",
   "metadata": {},
   "source": [
    "We will using a dummy encoder to encode categorical variables. But we have to first of all drop those features with a lot of categories. These include city / town, municipality and zip code. We have already obtained relevant information for these features related to such information as to their median livingSpace. "
   ]
  },
  {
   "cell_type": "code",
   "execution_count": 11,
   "metadata": {},
   "outputs": [],
   "source": [
    "#Drop categorical features with many unique values\n",
    "rentals.drop(columns = ['city_town', 'municipality', 'zip_code'], inplace = True)"
   ]
  },
  {
   "cell_type": "code",
   "execution_count": 12,
   "metadata": {
    "scrolled": true
   },
   "outputs": [
    {
     "data": {
      "text/plain": [
       "Index(['state', 'serviceCharge', 'newlyConst', 'balcony', 'hasKitchen',\n",
       "       'baseRent', 'livingSpace', 'condition', 'interiorQual', 'lift',\n",
       "       'typeOfFlat', 'noRooms', 'gdp_per_capita_2018', 'hdi_2018',\n",
       "       'medianLivingSpace_state', 'medianServiceCharge_state',\n",
       "       'medianThermalChar_state', 'medianHeatingCosts_state',\n",
       "       'medianPictureCount_state', 'no_Listings_per_100people',\n",
       "       'medianLivingSpace_ct', 'medianServiceCharge_ct',\n",
       "       'medianThermalChar_ct', 'medianPictureCount_ct', 'medianNoRooms_muni',\n",
       "       'medianLivingSpace_muni', 'medianServiceCharge_muni',\n",
       "       'medianPictureCount_muni', 'medianNoRooms_zip', 'medianLivingSpace_zip',\n",
       "       'medianServiceCharge_zip'],\n",
       "      dtype='object')"
      ]
     },
     "execution_count": 12,
     "metadata": {},
     "output_type": "execute_result"
    }
   ],
   "source": [
    "rentals.columns"
   ]
  },
  {
   "cell_type": "code",
   "execution_count": 13,
   "metadata": {},
   "outputs": [],
   "source": [
    "#Encode cateogrical features\n",
    "rentals_df = pd.get_dummies(rentals)"
   ]
  },
  {
   "cell_type": "code",
   "execution_count": 14,
   "metadata": {},
   "outputs": [
    {
     "data": {
      "text/plain": [
       "(267690, 74)"
      ]
     },
     "execution_count": 14,
     "metadata": {},
     "output_type": "execute_result"
    }
   ],
   "source": [
    "rentals_df.shape"
   ]
  },
  {
   "cell_type": "markdown",
   "metadata": {},
   "source": [
    "# Create a Dataframe for the features and target variable"
   ]
  },
  {
   "cell_type": "code",
   "execution_count": 15,
   "metadata": {},
   "outputs": [],
   "source": [
    "X = rentals_df.drop(columns = ['baseRent'])\n",
    "y = rentals_df.baseRent\n",
    "X_features = X.columns"
   ]
  },
  {
   "cell_type": "code",
   "execution_count": 16,
   "metadata": {
    "scrolled": false
   },
   "outputs": [
    {
     "data": {
      "text/plain": [
       "Index(['serviceCharge', 'livingSpace', 'noRooms', 'gdp_per_capita_2018',\n",
       "       'hdi_2018', 'medianLivingSpace_state', 'medianServiceCharge_state',\n",
       "       'medianThermalChar_state', 'medianHeatingCosts_state',\n",
       "       'medianPictureCount_state', 'no_Listings_per_100people',\n",
       "       'medianLivingSpace_ct', 'medianServiceCharge_ct',\n",
       "       'medianThermalChar_ct', 'medianPictureCount_ct', 'medianNoRooms_muni',\n",
       "       'medianLivingSpace_muni', 'medianServiceCharge_muni',\n",
       "       'medianPictureCount_muni', 'medianNoRooms_zip', 'medianLivingSpace_zip',\n",
       "       'medianServiceCharge_zip', 'state_Baden_Württemberg', 'state_Bayern',\n",
       "       'state_Berlin', 'state_Brandenburg', 'state_Bremen', 'state_Hamburg',\n",
       "       'state_Hessen', 'state_Mecklenburg_Vorpommern', 'state_Niedersachsen',\n",
       "       'state_Nordrhein_Westfalen', 'state_Rheinland_Pfalz', 'state_Saarland',\n",
       "       'state_Sachsen', 'state_Sachsen_Anhalt', 'state_Schleswig_Holstein',\n",
       "       'state_Thüringen', 'newlyConst_No', 'newlyConst_Yes', 'balcony_No',\n",
       "       'balcony_Yes', 'hasKitchen_No', 'hasKitchen_Yes',\n",
       "       'condition_first_time_use',\n",
       "       'condition_first_time_use_after_refurbishment',\n",
       "       'condition_fully_renovated', 'condition_mint_condition',\n",
       "       'condition_modernized', 'condition_need_of_renovation',\n",
       "       'condition_negotiable', 'condition_refurbished',\n",
       "       'condition_ripe_for_demolition', 'condition_unknown',\n",
       "       'condition_well_kept', 'interiorQual_luxury', 'interiorQual_normal',\n",
       "       'interiorQual_simple', 'interiorQual_sophisticated',\n",
       "       'interiorQual_unknown', 'lift_No', 'lift_Yes', 'typeOfFlat_apartment',\n",
       "       'typeOfFlat_ground_floor', 'typeOfFlat_half_basement',\n",
       "       'typeOfFlat_loft', 'typeOfFlat_maisonette', 'typeOfFlat_other',\n",
       "       'typeOfFlat_penthouse', 'typeOfFlat_raised_ground_floor',\n",
       "       'typeOfFlat_roof_storey', 'typeOfFlat_terraced_flat',\n",
       "       'typeOfFlat_unknown'],\n",
       "      dtype='object')"
      ]
     },
     "execution_count": 16,
     "metadata": {},
     "output_type": "execute_result"
    }
   ],
   "source": [
    "X_features"
   ]
  },
  {
   "cell_type": "markdown",
   "metadata": {},
   "source": [
    "# Scaling the features"
   ]
  },
  {
   "cell_type": "code",
   "execution_count": 17,
   "metadata": {},
   "outputs": [],
   "source": [
    "scaler = StandardScaler(with_mean = False)\n",
    "X_scaled = scaler.fit_transform(X)"
   ]
  },
  {
   "cell_type": "code",
   "execution_count": 18,
   "metadata": {},
   "outputs": [
    {
     "data": {
      "text/plain": [
       "array([[ 2.76549704,  2.67693789,  4.07245698,  5.32533454, 68.61803019,\n",
       "         9.77585149,  5.9431358 , 10.88529221, 13.23630657, 11.63627771,\n",
       "         0.72906719,  7.72816355,  3.92932394,  7.48335937,  5.89461833,\n",
       "         5.94689157,  6.29448499,  4.08547482,  4.0282086 ,  6.00296784,\n",
       "         6.18214023,  3.62621026,  0.        ,  0.        ,  0.        ,\n",
       "         0.        ,  0.        ,  0.        ,  0.        ,  0.        ,\n",
       "         0.        ,  2.36124829,  0.        ,  0.        ,  0.        ,\n",
       "         0.        ,  0.        ,  0.        ,  3.72039186,  0.        ,\n",
       "         2.05666549,  0.        ,  2.10778982,  0.        ,  0.        ,\n",
       "         0.        ,  0.        ,  0.        ,  0.        ,  0.        ,\n",
       "         0.        ,  0.        ,  0.        ,  0.        ,  2.31626557,\n",
       "         0.        ,  2.17236613,  0.        ,  0.        ,  0.        ,\n",
       "         2.35800584,  0.        ,  0.        ,  3.10683919,  0.        ,\n",
       "         0.        ,  0.        ,  0.        ,  0.        ,  0.        ,\n",
       "         0.        ,  0.        ,  0.        ]])"
      ]
     },
     "execution_count": 18,
     "metadata": {},
     "output_type": "execute_result"
    }
   ],
   "source": [
    "X_scaled[:1]"
   ]
  },
  {
   "cell_type": "markdown",
   "metadata": {},
   "source": [
    "# Create Train-Test Split"
   ]
  },
  {
   "cell_type": "code",
   "execution_count": 19,
   "metadata": {},
   "outputs": [],
   "source": [
    "#Split X and y to test and training set\n",
    "X_train, X_test, y_train, y_test = train_test_split(X_scaled, y, test_size = 0.3, random_state = 77)"
   ]
  },
  {
   "cell_type": "markdown",
   "metadata": {},
   "source": [
    "# Baseline model"
   ]
  },
  {
   "cell_type": "markdown",
   "metadata": {},
   "source": [
    "We will be using a linear regression algorithm to model the relationship between base rent and the features. We will also use the r-squared score and the mean absolute error to assess the model's performance. The r-squared score gives us an indication as to how much of the variation of base rent is due to the model, while the mean absolute error gives us a realistic sense for the margin of error associated with the model in terms of euros. "
   ]
  },
  {
   "cell_type": "code",
   "execution_count": 20,
   "metadata": {},
   "outputs": [],
   "source": [
    "#Instantiate linear regression model\n",
    "lm = LinearRegression()"
   ]
  },
  {
   "cell_type": "code",
   "execution_count": 21,
   "metadata": {},
   "outputs": [],
   "source": [
    "#Fit the model to the data\n",
    "lm.fit(X_train, y_train);"
   ]
  },
  {
   "cell_type": "code",
   "execution_count": 22,
   "metadata": {},
   "outputs": [],
   "source": [
    "#Determine predictions for train and the test set\n",
    "y_train_pred = lm.predict(X_train)\n",
    "y_test_pred = lm.predict(X_test)"
   ]
  },
  {
   "cell_type": "code",
   "execution_count": 23,
   "metadata": {},
   "outputs": [
    {
     "data": {
      "text/plain": [
       "(0.735007318521693, 147.1256859213482)"
      ]
     },
     "execution_count": 23,
     "metadata": {},
     "output_type": "execute_result"
    }
   ],
   "source": [
    "#Review performance of model\n",
    "r2_score(y_train, y_train_pred), mean_absolute_error(y_train, y_train_pred)"
   ]
  },
  {
   "cell_type": "code",
   "execution_count": 24,
   "metadata": {},
   "outputs": [
    {
     "data": {
      "text/plain": [
       "(0.7285429457365407, 147.26695580709028)"
      ]
     },
     "execution_count": 24,
     "metadata": {},
     "output_type": "execute_result"
    }
   ],
   "source": [
    "#Review performance of model\n",
    "r2_score(y_test, y_test_pred), mean_absolute_error(y_test, y_test_pred)"
   ]
  },
  {
   "cell_type": "markdown",
   "metadata": {},
   "source": [
    "# Summary"
   ]
  },
  {
   "cell_type": "markdown",
   "metadata": {},
   "source": [
    "After processing the data to enable modelling, our base model gives us a 72% r2-score and a 147 euros mean absolute error on our test set. It seems like our model is informative and could be improved upond with other algorithms and modelling techniques. Our training set scores were 73.5% for r2-score 147 euros for mae. The closeness of set of values for our training and test sets suggests that there is minimal overfitting of the model. \n",
    "\n",
    "Going forward, we will attempt to improve on these scores by:\n",
    "- Choosing select features\n",
    "- Using other modelling algorithms\n",
    "- Tuning hyperparameters"
   ]
  },
  {
   "cell_type": "markdown",
   "metadata": {},
   "source": [
    "# Saving"
   ]
  },
  {
   "cell_type": "code",
   "execution_count": 25,
   "metadata": {},
   "outputs": [],
   "source": [
    "import pickle\n",
    "filepath = '../data/interim/'\n",
    "pickle.dump(lm, open(filepath + 'lm_base.pkl', 'wb'))\n",
    "pickle.dump(X_test, open(filepath + 'X_test_base.pkl', 'wb'))\n",
    "pickle.dump(y_test, open(filepath + 'y_test_base.pkl', 'wb'))\n",
    "pickle.dump(X_train, open(filepath + 'X_train_base.pkl', 'wb'))\n",
    "pickle.dump(y_train, open(filepath + 'y_train_base.pkl', 'wb'))\n",
    "pickle.dump(X_features, open(filepath + 'X_features_base.pkl', 'wb'))\n",
    "pickle.dump(X_scaled, open(filepath + 'X_scaled.pkl', 'wb'))\n",
    "pickle.dump(y, open(filepath + 'y.pkl', 'wb'))"
   ]
  }
 ],
 "metadata": {
  "kernelspec": {
   "display_name": "Python 3",
   "language": "python",
   "name": "python3"
  },
  "language_info": {
   "codemirror_mode": {
    "name": "ipython",
    "version": 3
   },
   "file_extension": ".py",
   "mimetype": "text/x-python",
   "name": "python",
   "nbconvert_exporter": "python",
   "pygments_lexer": "ipython3",
   "version": "3.8.10"
  }
 },
 "nbformat": 4,
 "nbformat_minor": 4
}
