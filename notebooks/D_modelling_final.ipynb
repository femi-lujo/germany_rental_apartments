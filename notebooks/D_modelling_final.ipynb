{
 "cells": [
  {
   "cell_type": "markdown",
   "metadata": {},
   "source": [
    "# D. Modelling<a id = 'C_Pre-processing'></a>"
   ]
  },
  {
   "cell_type": "markdown",
   "metadata": {},
   "source": [
    "# Objective<a id = '2_Objective'></a>"
   ]
  },
  {
   "cell_type": "markdown",
   "metadata": {},
   "source": [
    "- Create a predictive model for rentals data"
   ]
  },
  {
   "cell_type": "markdown",
   "metadata": {},
   "source": [
    "# Imports"
   ]
  },
  {
   "cell_type": "code",
   "execution_count": 1,
   "metadata": {},
   "outputs": [],
   "source": [
    "import numpy as np\n",
    "import pandas as pd\n",
    "import matplotlib.pyplot as plt\n",
    "import seaborn as sns\n",
    "import os\n",
    "from sklearn.model_selection import train_test_split\n",
    "from sklearn.linear_model import LinearRegression, Ridge, Lasso\n",
    "from sklearn.model_selection import cross_val_score, GridSearchCV, RandomizedSearchCV, cross_validate\n",
    "from sklearn.feature_selection import SelectFromModel\n",
    "import xgboost as xgb\n",
    "from sklearn.ensemble import RandomForestRegressor\n",
    "from sklearn.svm import SVR\n",
    "from xgboost import plot_importance\n",
    "from sklearn.metrics import mean_squared_error, r2_score, mean_absolute_error\n",
    "import sklearn.metrics\n",
    "import eli5\n",
    "import pickle\n",
    "from sklearn.feature_selection import RFECV\n",
    "from sklearn.tree import DecisionTreeRegressor\n",
    "from bayes_opt import BayesianOptimization\n",
    "import datetime\n",
    "from sklearn.pipeline import Pipeline\n",
    "from sklearn.impute import SimpleImputer\n",
    "from sklearn.compose import ColumnTransformer\n",
    "from sklearn.preprocessing import OneHotEncoder, StandardScaler\n",
    "from scipy.stats import norm, skew, kurtosis\n",
    "from scipy import stats\n",
    "import statsmodels.api as sm\n"
   ]
  },
  {
   "cell_type": "markdown",
   "metadata": {},
   "source": [
    "# Load Data"
   ]
  },
  {
   "cell_type": "code",
   "execution_count": 2,
   "metadata": {},
   "outputs": [],
   "source": [
    "# Specifiy filepath\n",
    "filepath = '../data/interim/'"
   ]
  },
  {
   "cell_type": "code",
   "execution_count": 3,
   "metadata": {},
   "outputs": [],
   "source": [
    "# Load feature and target data\n",
    "X_scaled = pickle.load(open(filepath + 'X_scaled.pkl', 'rb'))\n",
    "y = pickle.load(open(filepath + 'y.pkl', 'rb'))\n",
    "X_features = pickle.load(open(filepath + 'X_features_base.pkl', 'rb'))\n",
    "X_train = pickle.load(open(filepath + 'X_train_base.pkl', 'rb'))\n",
    "y_train = pickle.load(open(filepath + 'y_train_base.pkl', 'rb'))\n",
    "X_test = pickle.load(open(filepath + 'X_test_base.pkl', 'rb'))\n",
    "y_test = pickle.load(open(filepath + 'y_test_base.pkl', 'rb'))\n",
    "lm = pickle.load(open(filepath + 'lm_base.pkl', 'rb'))\n",
    "application_df = pickle.load(open(filepath + 'application_df.pkl', 'rb'))\n",
    "application_set_location = pickle.load(open(filepath + 'application_set_location.pkl', 'rb'))"
   ]
  },
  {
   "cell_type": "code",
   "execution_count": 4,
   "metadata": {
    "scrolled": true
   },
   "outputs": [
    {
     "data": {
      "text/html": [
       "<div>\n",
       "<style scoped>\n",
       "    .dataframe tbody tr th:only-of-type {\n",
       "        vertical-align: middle;\n",
       "    }\n",
       "\n",
       "    .dataframe tbody tr th {\n",
       "        vertical-align: top;\n",
       "    }\n",
       "\n",
       "    .dataframe thead th {\n",
       "        text-align: right;\n",
       "    }\n",
       "</style>\n",
       "<table border=\"1\" class=\"dataframe\">\n",
       "  <thead>\n",
       "    <tr style=\"text-align: right;\">\n",
       "      <th></th>\n",
       "      <th>serviceCharge</th>\n",
       "      <th>baseRent</th>\n",
       "      <th>livingSpace</th>\n",
       "      <th>noRooms</th>\n",
       "      <th>gdp_per_capita_2018</th>\n",
       "      <th>hdi_2018</th>\n",
       "      <th>medianLivingSpace_state</th>\n",
       "      <th>medianServiceCharge_state</th>\n",
       "      <th>medianThermalChar_state</th>\n",
       "      <th>medianHeatingCosts_state</th>\n",
       "      <th>...</th>\n",
       "      <th>typeOfFlat_ground_floor</th>\n",
       "      <th>typeOfFlat_half_basement</th>\n",
       "      <th>typeOfFlat_loft</th>\n",
       "      <th>typeOfFlat_maisonette</th>\n",
       "      <th>typeOfFlat_other</th>\n",
       "      <th>typeOfFlat_penthouse</th>\n",
       "      <th>typeOfFlat_raised_ground_floor</th>\n",
       "      <th>typeOfFlat_roof_storey</th>\n",
       "      <th>typeOfFlat_terraced_flat</th>\n",
       "      <th>typeOfFlat_unknown</th>\n",
       "    </tr>\n",
       "  </thead>\n",
       "  <tbody>\n",
       "    <tr>\n",
       "      <th>263051</th>\n",
       "      <td>160.0</td>\n",
       "      <td>775.0</td>\n",
       "      <td>77.70</td>\n",
       "      <td>3.0</td>\n",
       "      <td>29541</td>\n",
       "      <td>0.914</td>\n",
       "      <td>62.620</td>\n",
       "      <td>120.0</td>\n",
       "      <td>95.5</td>\n",
       "      <td>70.0</td>\n",
       "      <td>...</td>\n",
       "      <td>0</td>\n",
       "      <td>0</td>\n",
       "      <td>0</td>\n",
       "      <td>0</td>\n",
       "      <td>0</td>\n",
       "      <td>0</td>\n",
       "      <td>0</td>\n",
       "      <td>0</td>\n",
       "      <td>0</td>\n",
       "      <td>1</td>\n",
       "    </tr>\n",
       "    <tr>\n",
       "      <th>167352</th>\n",
       "      <td>130.0</td>\n",
       "      <td>550.0</td>\n",
       "      <td>75.00</td>\n",
       "      <td>3.0</td>\n",
       "      <td>33712</td>\n",
       "      <td>0.920</td>\n",
       "      <td>70.695</td>\n",
       "      <td>125.0</td>\n",
       "      <td>119.0</td>\n",
       "      <td>76.9</td>\n",
       "      <td>...</td>\n",
       "      <td>0</td>\n",
       "      <td>0</td>\n",
       "      <td>0</td>\n",
       "      <td>0</td>\n",
       "      <td>0</td>\n",
       "      <td>0</td>\n",
       "      <td>0</td>\n",
       "      <td>0</td>\n",
       "      <td>0</td>\n",
       "      <td>0</td>\n",
       "    </tr>\n",
       "    <tr>\n",
       "      <th>44685</th>\n",
       "      <td>75.0</td>\n",
       "      <td>250.0</td>\n",
       "      <td>73.00</td>\n",
       "      <td>3.0</td>\n",
       "      <td>31453</td>\n",
       "      <td>0.930</td>\n",
       "      <td>61.000</td>\n",
       "      <td>121.0</td>\n",
       "      <td>99.9</td>\n",
       "      <td>65.0</td>\n",
       "      <td>...</td>\n",
       "      <td>0</td>\n",
       "      <td>0</td>\n",
       "      <td>0</td>\n",
       "      <td>0</td>\n",
       "      <td>0</td>\n",
       "      <td>0</td>\n",
       "      <td>0</td>\n",
       "      <td>0</td>\n",
       "      <td>0</td>\n",
       "      <td>0</td>\n",
       "    </tr>\n",
       "    <tr>\n",
       "      <th>27092</th>\n",
       "      <td>60.9</td>\n",
       "      <td>280.1</td>\n",
       "      <td>56.02</td>\n",
       "      <td>3.0</td>\n",
       "      <td>28800</td>\n",
       "      <td>0.908</td>\n",
       "      <td>59.550</td>\n",
       "      <td>100.0</td>\n",
       "      <td>100.1</td>\n",
       "      <td>70.0</td>\n",
       "      <td>...</td>\n",
       "      <td>0</td>\n",
       "      <td>0</td>\n",
       "      <td>0</td>\n",
       "      <td>0</td>\n",
       "      <td>0</td>\n",
       "      <td>0</td>\n",
       "      <td>0</td>\n",
       "      <td>0</td>\n",
       "      <td>0</td>\n",
       "      <td>1</td>\n",
       "    </tr>\n",
       "    <tr>\n",
       "      <th>111161</th>\n",
       "      <td>180.0</td>\n",
       "      <td>670.0</td>\n",
       "      <td>78.00</td>\n",
       "      <td>3.0</td>\n",
       "      <td>46923</td>\n",
       "      <td>0.949</td>\n",
       "      <td>78.900</td>\n",
       "      <td>190.0</td>\n",
       "      <td>112.0</td>\n",
       "      <td>80.0</td>\n",
       "      <td>...</td>\n",
       "      <td>0</td>\n",
       "      <td>0</td>\n",
       "      <td>0</td>\n",
       "      <td>0</td>\n",
       "      <td>1</td>\n",
       "      <td>0</td>\n",
       "      <td>0</td>\n",
       "      <td>0</td>\n",
       "      <td>0</td>\n",
       "      <td>0</td>\n",
       "    </tr>\n",
       "  </tbody>\n",
       "</table>\n",
       "<p>5 rows × 74 columns</p>\n",
       "</div>"
      ],
      "text/plain": [
       "        serviceCharge  baseRent  livingSpace  noRooms  gdp_per_capita_2018  \\\n",
       "263051          160.0     775.0        77.70      3.0                29541   \n",
       "167352          130.0     550.0        75.00      3.0                33712   \n",
       "44685            75.0     250.0        73.00      3.0                31453   \n",
       "27092            60.9     280.1        56.02      3.0                28800   \n",
       "111161          180.0     670.0        78.00      3.0                46923   \n",
       "\n",
       "        hdi_2018  medianLivingSpace_state  medianServiceCharge_state  \\\n",
       "263051     0.914                   62.620                      120.0   \n",
       "167352     0.920                   70.695                      125.0   \n",
       "44685      0.930                   61.000                      121.0   \n",
       "27092      0.908                   59.550                      100.0   \n",
       "111161     0.949                   78.900                      190.0   \n",
       "\n",
       "        medianThermalChar_state  medianHeatingCosts_state  ...  \\\n",
       "263051                     95.5                      70.0  ...   \n",
       "167352                    119.0                      76.9  ...   \n",
       "44685                      99.9                      65.0  ...   \n",
       "27092                     100.1                      70.0  ...   \n",
       "111161                    112.0                      80.0  ...   \n",
       "\n",
       "        typeOfFlat_ground_floor  typeOfFlat_half_basement  typeOfFlat_loft  \\\n",
       "263051                        0                         0                0   \n",
       "167352                        0                         0                0   \n",
       "44685                         0                         0                0   \n",
       "27092                         0                         0                0   \n",
       "111161                        0                         0                0   \n",
       "\n",
       "        typeOfFlat_maisonette  typeOfFlat_other  typeOfFlat_penthouse  \\\n",
       "263051                      0                 0                     0   \n",
       "167352                      0                 0                     0   \n",
       "44685                       0                 0                     0   \n",
       "27092                       0                 0                     0   \n",
       "111161                      0                 1                     0   \n",
       "\n",
       "        typeOfFlat_raised_ground_floor  typeOfFlat_roof_storey  \\\n",
       "263051                               0                       0   \n",
       "167352                               0                       0   \n",
       "44685                                0                       0   \n",
       "27092                                0                       0   \n",
       "111161                               0                       0   \n",
       "\n",
       "        typeOfFlat_terraced_flat  typeOfFlat_unknown  \n",
       "263051                         0                   1  \n",
       "167352                         0                   0  \n",
       "44685                          0                   0  \n",
       "27092                          0                   1  \n",
       "111161                         0                   0  \n",
       "\n",
       "[5 rows x 74 columns]"
      ]
     },
     "execution_count": 4,
     "metadata": {},
     "output_type": "execute_result"
    }
   ],
   "source": [
    "#View application set\n",
    "application_df"
   ]
  },
  {
   "cell_type": "code",
   "execution_count": 5,
   "metadata": {},
   "outputs": [
    {
     "data": {
      "text/html": [
       "<div>\n",
       "<style scoped>\n",
       "    .dataframe tbody tr th:only-of-type {\n",
       "        vertical-align: middle;\n",
       "    }\n",
       "\n",
       "    .dataframe tbody tr th {\n",
       "        vertical-align: top;\n",
       "    }\n",
       "\n",
       "    .dataframe thead th {\n",
       "        text-align: right;\n",
       "    }\n",
       "</style>\n",
       "<table border=\"1\" class=\"dataframe\">\n",
       "  <thead>\n",
       "    <tr style=\"text-align: right;\">\n",
       "      <th></th>\n",
       "      <th>state</th>\n",
       "      <th>city_town</th>\n",
       "      <th>municipality</th>\n",
       "      <th>zip_code</th>\n",
       "      <th>condition</th>\n",
       "      <th>interiorQual</th>\n",
       "    </tr>\n",
       "  </thead>\n",
       "  <tbody>\n",
       "    <tr>\n",
       "      <th>263051</th>\n",
       "      <td>Brandenburg</td>\n",
       "      <td>Uckermark</td>\n",
       "      <td>Prenzlau</td>\n",
       "      <td>17291</td>\n",
       "      <td>first_time_use</td>\n",
       "      <td>unknown</td>\n",
       "    </tr>\n",
       "    <tr>\n",
       "      <th>167352</th>\n",
       "      <td>Schleswig_Holstein</td>\n",
       "      <td>Dithmarschen</td>\n",
       "      <td>Brunsbüttel</td>\n",
       "      <td>25541</td>\n",
       "      <td>first_time_use_after_refurbishment</td>\n",
       "      <td>unknown</td>\n",
       "    </tr>\n",
       "    <tr>\n",
       "      <th>44685</th>\n",
       "      <td>Sachsen</td>\n",
       "      <td>Chemnitz</td>\n",
       "      <td>Sonnenberg</td>\n",
       "      <td>9130</td>\n",
       "      <td>refurbished</td>\n",
       "      <td>unknown</td>\n",
       "    </tr>\n",
       "    <tr>\n",
       "      <th>27092</th>\n",
       "      <td>Sachsen_Anhalt</td>\n",
       "      <td>Halle_Saale</td>\n",
       "      <td>Silberhöhe</td>\n",
       "      <td>6132</td>\n",
       "      <td>negotiable</td>\n",
       "      <td>unknown</td>\n",
       "    </tr>\n",
       "    <tr>\n",
       "      <th>111161</th>\n",
       "      <td>Hessen</td>\n",
       "      <td>Main_Kinzig</td>\n",
       "      <td>Rodenbach</td>\n",
       "      <td>63517</td>\n",
       "      <td>well_kept</td>\n",
       "      <td>normal</td>\n",
       "    </tr>\n",
       "  </tbody>\n",
       "</table>\n",
       "</div>"
      ],
      "text/plain": [
       "                     state     city_town municipality  zip_code  \\\n",
       "263051         Brandenburg     Uckermark     Prenzlau     17291   \n",
       "167352  Schleswig_Holstein  Dithmarschen  Brunsbüttel     25541   \n",
       "44685              Sachsen      Chemnitz   Sonnenberg      9130   \n",
       "27092       Sachsen_Anhalt   Halle_Saale   Silberhöhe      6132   \n",
       "111161              Hessen   Main_Kinzig    Rodenbach     63517   \n",
       "\n",
       "                                 condition interiorQual  \n",
       "263051                      first_time_use      unknown  \n",
       "167352  first_time_use_after_refurbishment      unknown  \n",
       "44685                          refurbished      unknown  \n",
       "27092                           negotiable      unknown  \n",
       "111161                           well_kept       normal  "
      ]
     },
     "execution_count": 5,
     "metadata": {},
     "output_type": "execute_result"
    }
   ],
   "source": [
    "application_set_location"
   ]
  },
  {
   "cell_type": "code",
   "execution_count": 6,
   "metadata": {},
   "outputs": [
    {
     "data": {
      "text/html": [
       "<div>\n",
       "<style scoped>\n",
       "    .dataframe tbody tr th:only-of-type {\n",
       "        vertical-align: middle;\n",
       "    }\n",
       "\n",
       "    .dataframe tbody tr th {\n",
       "        vertical-align: top;\n",
       "    }\n",
       "\n",
       "    .dataframe thead th {\n",
       "        text-align: right;\n",
       "    }\n",
       "</style>\n",
       "<table border=\"1\" class=\"dataframe\">\n",
       "  <thead>\n",
       "    <tr style=\"text-align: right;\">\n",
       "      <th></th>\n",
       "      <th>serviceCharge</th>\n",
       "      <th>livingSpace</th>\n",
       "      <th>noRooms</th>\n",
       "      <th>gdp_per_capita_2018</th>\n",
       "      <th>hdi_2018</th>\n",
       "      <th>medianLivingSpace_state</th>\n",
       "      <th>medianServiceCharge_state</th>\n",
       "      <th>medianThermalChar_state</th>\n",
       "      <th>medianHeatingCosts_state</th>\n",
       "      <th>medianPictureCount_state</th>\n",
       "      <th>...</th>\n",
       "      <th>typeOfFlat_ground_floor</th>\n",
       "      <th>typeOfFlat_half_basement</th>\n",
       "      <th>typeOfFlat_loft</th>\n",
       "      <th>typeOfFlat_maisonette</th>\n",
       "      <th>typeOfFlat_other</th>\n",
       "      <th>typeOfFlat_penthouse</th>\n",
       "      <th>typeOfFlat_raised_ground_floor</th>\n",
       "      <th>typeOfFlat_roof_storey</th>\n",
       "      <th>typeOfFlat_terraced_flat</th>\n",
       "      <th>typeOfFlat_unknown</th>\n",
       "    </tr>\n",
       "  </thead>\n",
       "  <tbody>\n",
       "    <tr>\n",
       "      <th>0</th>\n",
       "      <td>0.790127</td>\n",
       "      <td>1.992214</td>\n",
       "      <td>2.036306</td>\n",
       "      <td>4.221383</td>\n",
       "      <td>68.177303</td>\n",
       "      <td>8.519090</td>\n",
       "      <td>5.136492</td>\n",
       "      <td>8.706415</td>\n",
       "      <td>12.290860</td>\n",
       "      <td>11.636211</td>\n",
       "      <td>...</td>\n",
       "      <td>0.00000</td>\n",
       "      <td>0.0</td>\n",
       "      <td>0.0</td>\n",
       "      <td>0.0</td>\n",
       "      <td>0.0</td>\n",
       "      <td>0.0</td>\n",
       "      <td>0.000000</td>\n",
       "      <td>0.000000</td>\n",
       "      <td>0.0</td>\n",
       "      <td>0.000000</td>\n",
       "    </tr>\n",
       "    <tr>\n",
       "      <th>1</th>\n",
       "      <td>2.878321</td>\n",
       "      <td>2.906142</td>\n",
       "      <td>3.054459</td>\n",
       "      <td>8.975991</td>\n",
       "      <td>71.476205</td>\n",
       "      <td>10.613948</td>\n",
       "      <td>7.641062</td>\n",
       "      <td>8.976584</td>\n",
       "      <td>15.127212</td>\n",
       "      <td>12.929124</td>\n",
       "      <td>...</td>\n",
       "      <td>0.00000</td>\n",
       "      <td>0.0</td>\n",
       "      <td>0.0</td>\n",
       "      <td>0.0</td>\n",
       "      <td>0.0</td>\n",
       "      <td>0.0</td>\n",
       "      <td>0.000000</td>\n",
       "      <td>0.000000</td>\n",
       "      <td>0.0</td>\n",
       "      <td>0.000000</td>\n",
       "    </tr>\n",
       "    <tr>\n",
       "      <th>2</th>\n",
       "      <td>1.787945</td>\n",
       "      <td>2.241240</td>\n",
       "      <td>2.036306</td>\n",
       "      <td>4.221383</td>\n",
       "      <td>68.177303</td>\n",
       "      <td>8.519090</td>\n",
       "      <td>5.136492</td>\n",
       "      <td>8.706415</td>\n",
       "      <td>12.290860</td>\n",
       "      <td>11.636211</td>\n",
       "      <td>...</td>\n",
       "      <td>0.00000</td>\n",
       "      <td>0.0</td>\n",
       "      <td>0.0</td>\n",
       "      <td>0.0</td>\n",
       "      <td>0.0</td>\n",
       "      <td>0.0</td>\n",
       "      <td>0.000000</td>\n",
       "      <td>0.000000</td>\n",
       "      <td>0.0</td>\n",
       "      <td>2.916444</td>\n",
       "    </tr>\n",
       "    <tr>\n",
       "      <th>3</th>\n",
       "      <td>0.880428</td>\n",
       "      <td>1.089492</td>\n",
       "      <td>2.036306</td>\n",
       "      <td>4.758769</td>\n",
       "      <td>68.030686</td>\n",
       "      <td>11.172576</td>\n",
       "      <td>6.367551</td>\n",
       "      <td>9.586643</td>\n",
       "      <td>13.236311</td>\n",
       "      <td>11.636211</td>\n",
       "      <td>...</td>\n",
       "      <td>3.10691</td>\n",
       "      <td>0.0</td>\n",
       "      <td>0.0</td>\n",
       "      <td>0.0</td>\n",
       "      <td>0.0</td>\n",
       "      <td>0.0</td>\n",
       "      <td>0.000000</td>\n",
       "      <td>0.000000</td>\n",
       "      <td>0.0</td>\n",
       "      <td>0.000000</td>\n",
       "    </tr>\n",
       "    <tr>\n",
       "      <th>4</th>\n",
       "      <td>0.835277</td>\n",
       "      <td>1.543032</td>\n",
       "      <td>2.036306</td>\n",
       "      <td>3.964769</td>\n",
       "      <td>67.004361</td>\n",
       "      <td>8.745334</td>\n",
       "      <td>5.094041</td>\n",
       "      <td>8.322949</td>\n",
       "      <td>13.236311</td>\n",
       "      <td>9.050387</td>\n",
       "      <td>...</td>\n",
       "      <td>0.00000</td>\n",
       "      <td>0.0</td>\n",
       "      <td>0.0</td>\n",
       "      <td>0.0</td>\n",
       "      <td>0.0</td>\n",
       "      <td>0.0</td>\n",
       "      <td>0.000000</td>\n",
       "      <td>0.000000</td>\n",
       "      <td>0.0</td>\n",
       "      <td>0.000000</td>\n",
       "    </tr>\n",
       "    <tr>\n",
       "      <th>...</th>\n",
       "      <td>...</td>\n",
       "      <td>...</td>\n",
       "      <td>...</td>\n",
       "      <td>...</td>\n",
       "      <td>...</td>\n",
       "      <td>...</td>\n",
       "      <td>...</td>\n",
       "      <td>...</td>\n",
       "      <td>...</td>\n",
       "      <td>...</td>\n",
       "      <td>...</td>\n",
       "      <td>...</td>\n",
       "      <td>...</td>\n",
       "      <td>...</td>\n",
       "      <td>...</td>\n",
       "      <td>...</td>\n",
       "      <td>...</td>\n",
       "      <td>...</td>\n",
       "      <td>...</td>\n",
       "      <td>...</td>\n",
       "      <td>...</td>\n",
       "    </tr>\n",
       "    <tr>\n",
       "      <th>187364</th>\n",
       "      <td>1.258334</td>\n",
       "      <td>1.476728</td>\n",
       "      <td>2.036306</td>\n",
       "      <td>4.221383</td>\n",
       "      <td>68.177303</td>\n",
       "      <td>8.519090</td>\n",
       "      <td>5.136492</td>\n",
       "      <td>8.706415</td>\n",
       "      <td>12.290860</td>\n",
       "      <td>11.636211</td>\n",
       "      <td>...</td>\n",
       "      <td>0.00000</td>\n",
       "      <td>0.0</td>\n",
       "      <td>0.0</td>\n",
       "      <td>0.0</td>\n",
       "      <td>0.0</td>\n",
       "      <td>0.0</td>\n",
       "      <td>6.983441</td>\n",
       "      <td>0.000000</td>\n",
       "      <td>0.0</td>\n",
       "      <td>0.000000</td>\n",
       "    </tr>\n",
       "    <tr>\n",
       "      <th>187365</th>\n",
       "      <td>2.031756</td>\n",
       "      <td>2.294781</td>\n",
       "      <td>2.036306</td>\n",
       "      <td>3.865317</td>\n",
       "      <td>66.564507</td>\n",
       "      <td>8.316587</td>\n",
       "      <td>4.245034</td>\n",
       "      <td>8.723845</td>\n",
       "      <td>13.236311</td>\n",
       "      <td>10.343299</td>\n",
       "      <td>...</td>\n",
       "      <td>0.00000</td>\n",
       "      <td>0.0</td>\n",
       "      <td>0.0</td>\n",
       "      <td>0.0</td>\n",
       "      <td>0.0</td>\n",
       "      <td>0.0</td>\n",
       "      <td>0.000000</td>\n",
       "      <td>0.000000</td>\n",
       "      <td>0.0</td>\n",
       "      <td>0.000000</td>\n",
       "    </tr>\n",
       "    <tr>\n",
       "      <th>187366</th>\n",
       "      <td>2.821883</td>\n",
       "      <td>1.743187</td>\n",
       "      <td>3.054459</td>\n",
       "      <td>5.156843</td>\n",
       "      <td>67.590832</td>\n",
       "      <td>10.144699</td>\n",
       "      <td>5.688346</td>\n",
       "      <td>10.719610</td>\n",
       "      <td>14.181761</td>\n",
       "      <td>10.343299</td>\n",
       "      <td>...</td>\n",
       "      <td>0.00000</td>\n",
       "      <td>0.0</td>\n",
       "      <td>0.0</td>\n",
       "      <td>0.0</td>\n",
       "      <td>0.0</td>\n",
       "      <td>0.0</td>\n",
       "      <td>0.000000</td>\n",
       "      <td>0.000000</td>\n",
       "      <td>0.0</td>\n",
       "      <td>0.000000</td>\n",
       "    </tr>\n",
       "    <tr>\n",
       "      <th>187367</th>\n",
       "      <td>1.128753</td>\n",
       "      <td>2.645909</td>\n",
       "      <td>3.054459</td>\n",
       "      <td>5.325280</td>\n",
       "      <td>68.617157</td>\n",
       "      <td>9.776004</td>\n",
       "      <td>5.943048</td>\n",
       "      <td>10.885198</td>\n",
       "      <td>13.236311</td>\n",
       "      <td>11.636211</td>\n",
       "      <td>...</td>\n",
       "      <td>0.00000</td>\n",
       "      <td>0.0</td>\n",
       "      <td>0.0</td>\n",
       "      <td>0.0</td>\n",
       "      <td>0.0</td>\n",
       "      <td>0.0</td>\n",
       "      <td>0.000000</td>\n",
       "      <td>2.979016</td>\n",
       "      <td>0.0</td>\n",
       "      <td>0.000000</td>\n",
       "    </tr>\n",
       "    <tr>\n",
       "      <th>187368</th>\n",
       "      <td>1.015878</td>\n",
       "      <td>2.241240</td>\n",
       "      <td>2.545382</td>\n",
       "      <td>6.485546</td>\n",
       "      <td>69.423555</td>\n",
       "      <td>10.613948</td>\n",
       "      <td>6.792055</td>\n",
       "      <td>8.610549</td>\n",
       "      <td>15.127212</td>\n",
       "      <td>12.929124</td>\n",
       "      <td>...</td>\n",
       "      <td>0.00000</td>\n",
       "      <td>0.0</td>\n",
       "      <td>0.0</td>\n",
       "      <td>0.0</td>\n",
       "      <td>0.0</td>\n",
       "      <td>0.0</td>\n",
       "      <td>6.983441</td>\n",
       "      <td>0.000000</td>\n",
       "      <td>0.0</td>\n",
       "      <td>0.000000</td>\n",
       "    </tr>\n",
       "  </tbody>\n",
       "</table>\n",
       "<p>187369 rows × 73 columns</p>\n",
       "</div>"
      ],
      "text/plain": [
       "        serviceCharge  livingSpace   noRooms  gdp_per_capita_2018   hdi_2018  \\\n",
       "0            0.790127     1.992214  2.036306             4.221383  68.177303   \n",
       "1            2.878321     2.906142  3.054459             8.975991  71.476205   \n",
       "2            1.787945     2.241240  2.036306             4.221383  68.177303   \n",
       "3            0.880428     1.089492  2.036306             4.758769  68.030686   \n",
       "4            0.835277     1.543032  2.036306             3.964769  67.004361   \n",
       "...               ...          ...       ...                  ...        ...   \n",
       "187364       1.258334     1.476728  2.036306             4.221383  68.177303   \n",
       "187365       2.031756     2.294781  2.036306             3.865317  66.564507   \n",
       "187366       2.821883     1.743187  3.054459             5.156843  67.590832   \n",
       "187367       1.128753     2.645909  3.054459             5.325280  68.617157   \n",
       "187368       1.015878     2.241240  2.545382             6.485546  69.423555   \n",
       "\n",
       "        medianLivingSpace_state  medianServiceCharge_state  \\\n",
       "0                      8.519090                   5.136492   \n",
       "1                     10.613948                   7.641062   \n",
       "2                      8.519090                   5.136492   \n",
       "3                     11.172576                   6.367551   \n",
       "4                      8.745334                   5.094041   \n",
       "...                         ...                        ...   \n",
       "187364                 8.519090                   5.136492   \n",
       "187365                 8.316587                   4.245034   \n",
       "187366                10.144699                   5.688346   \n",
       "187367                 9.776004                   5.943048   \n",
       "187368                10.613948                   6.792055   \n",
       "\n",
       "        medianThermalChar_state  medianHeatingCosts_state  \\\n",
       "0                      8.706415                 12.290860   \n",
       "1                      8.976584                 15.127212   \n",
       "2                      8.706415                 12.290860   \n",
       "3                      9.586643                 13.236311   \n",
       "4                      8.322949                 13.236311   \n",
       "...                         ...                       ...   \n",
       "187364                 8.706415                 12.290860   \n",
       "187365                 8.723845                 13.236311   \n",
       "187366                10.719610                 14.181761   \n",
       "187367                10.885198                 13.236311   \n",
       "187368                 8.610549                 15.127212   \n",
       "\n",
       "        medianPictureCount_state  ...  typeOfFlat_ground_floor  \\\n",
       "0                      11.636211  ...                  0.00000   \n",
       "1                      12.929124  ...                  0.00000   \n",
       "2                      11.636211  ...                  0.00000   \n",
       "3                      11.636211  ...                  3.10691   \n",
       "4                       9.050387  ...                  0.00000   \n",
       "...                          ...  ...                      ...   \n",
       "187364                 11.636211  ...                  0.00000   \n",
       "187365                 10.343299  ...                  0.00000   \n",
       "187366                 10.343299  ...                  0.00000   \n",
       "187367                 11.636211  ...                  0.00000   \n",
       "187368                 12.929124  ...                  0.00000   \n",
       "\n",
       "        typeOfFlat_half_basement  typeOfFlat_loft  typeOfFlat_maisonette  \\\n",
       "0                            0.0              0.0                    0.0   \n",
       "1                            0.0              0.0                    0.0   \n",
       "2                            0.0              0.0                    0.0   \n",
       "3                            0.0              0.0                    0.0   \n",
       "4                            0.0              0.0                    0.0   \n",
       "...                          ...              ...                    ...   \n",
       "187364                       0.0              0.0                    0.0   \n",
       "187365                       0.0              0.0                    0.0   \n",
       "187366                       0.0              0.0                    0.0   \n",
       "187367                       0.0              0.0                    0.0   \n",
       "187368                       0.0              0.0                    0.0   \n",
       "\n",
       "        typeOfFlat_other  typeOfFlat_penthouse  \\\n",
       "0                    0.0                   0.0   \n",
       "1                    0.0                   0.0   \n",
       "2                    0.0                   0.0   \n",
       "3                    0.0                   0.0   \n",
       "4                    0.0                   0.0   \n",
       "...                  ...                   ...   \n",
       "187364               0.0                   0.0   \n",
       "187365               0.0                   0.0   \n",
       "187366               0.0                   0.0   \n",
       "187367               0.0                   0.0   \n",
       "187368               0.0                   0.0   \n",
       "\n",
       "        typeOfFlat_raised_ground_floor  typeOfFlat_roof_storey  \\\n",
       "0                             0.000000                0.000000   \n",
       "1                             0.000000                0.000000   \n",
       "2                             0.000000                0.000000   \n",
       "3                             0.000000                0.000000   \n",
       "4                             0.000000                0.000000   \n",
       "...                                ...                     ...   \n",
       "187364                        6.983441                0.000000   \n",
       "187365                        0.000000                0.000000   \n",
       "187366                        0.000000                0.000000   \n",
       "187367                        0.000000                2.979016   \n",
       "187368                        6.983441                0.000000   \n",
       "\n",
       "        typeOfFlat_terraced_flat  typeOfFlat_unknown  \n",
       "0                            0.0            0.000000  \n",
       "1                            0.0            0.000000  \n",
       "2                            0.0            2.916444  \n",
       "3                            0.0            0.000000  \n",
       "4                            0.0            0.000000  \n",
       "...                          ...                 ...  \n",
       "187364                       0.0            0.000000  \n",
       "187365                       0.0            0.000000  \n",
       "187366                       0.0            0.000000  \n",
       "187367                       0.0            0.000000  \n",
       "187368                       0.0            0.000000  \n",
       "\n",
       "[187369 rows x 73 columns]"
      ]
     },
     "execution_count": 6,
     "metadata": {},
     "output_type": "execute_result"
    }
   ],
   "source": [
    "#View dataframe \n",
    "pd.DataFrame(X_train, columns = X_features)"
   ]
  },
  {
   "cell_type": "code",
   "execution_count": 7,
   "metadata": {
    "scrolled": true
   },
   "outputs": [
    {
     "data": {
      "text/html": [
       "<div>\n",
       "<style scoped>\n",
       "    .dataframe tbody tr th:only-of-type {\n",
       "        vertical-align: middle;\n",
       "    }\n",
       "\n",
       "    .dataframe tbody tr th {\n",
       "        vertical-align: top;\n",
       "    }\n",
       "\n",
       "    .dataframe thead th {\n",
       "        text-align: right;\n",
       "    }\n",
       "</style>\n",
       "<table border=\"1\" class=\"dataframe\">\n",
       "  <thead>\n",
       "    <tr style=\"text-align: right;\">\n",
       "      <th></th>\n",
       "      <th>baseRent</th>\n",
       "    </tr>\n",
       "  </thead>\n",
       "  <tbody>\n",
       "    <tr>\n",
       "      <th>0</th>\n",
       "      <td>595.00</td>\n",
       "    </tr>\n",
       "    <tr>\n",
       "      <th>1</th>\n",
       "      <td>579.00</td>\n",
       "    </tr>\n",
       "    <tr>\n",
       "      <th>2</th>\n",
       "      <td>569.00</td>\n",
       "    </tr>\n",
       "    <tr>\n",
       "      <th>3</th>\n",
       "      <td>1398.60</td>\n",
       "    </tr>\n",
       "    <tr>\n",
       "      <th>4</th>\n",
       "      <td>725.62</td>\n",
       "    </tr>\n",
       "  </tbody>\n",
       "</table>\n",
       "</div>"
      ],
      "text/plain": [
       "   baseRent\n",
       "0    595.00\n",
       "1    579.00\n",
       "2    569.00\n",
       "3   1398.60\n",
       "4    725.62"
      ]
     },
     "execution_count": 7,
     "metadata": {},
     "output_type": "execute_result"
    }
   ],
   "source": [
    "#View base rent\n",
    "pd.DataFrame(y).head()"
   ]
  },
  {
   "cell_type": "code",
   "execution_count": 8,
   "metadata": {},
   "outputs": [
    {
     "data": {
      "text/plain": [
       "73"
      ]
     },
     "execution_count": 8,
     "metadata": {},
     "output_type": "execute_result"
    }
   ],
   "source": [
    "len(X_features)"
   ]
  },
  {
   "cell_type": "markdown",
   "metadata": {},
   "source": [
    "# Modelling"
   ]
  },
  {
   "cell_type": "markdown",
   "metadata": {},
   "source": [
    "## Base Model  - Linear Regression"
   ]
  },
  {
   "cell_type": "code",
   "execution_count": 9,
   "metadata": {},
   "outputs": [],
   "source": [
    "#Determine predictions for train and the test set\n",
    "y_train_pred = lm.predict(X_train)\n",
    "y_test_pred = lm.predict(X_test)"
   ]
  },
  {
   "cell_type": "code",
   "execution_count": 10,
   "metadata": {},
   "outputs": [
    {
     "data": {
      "text/plain": [
       "(0.7265045700880788, 146.35900805362678)"
      ]
     },
     "execution_count": 10,
     "metadata": {},
     "output_type": "execute_result"
    }
   ],
   "source": [
    "#Review performance of model\n",
    "r2_score(y_train, y_train_pred), mean_absolute_error(y_train, y_train_pred)"
   ]
  },
  {
   "cell_type": "code",
   "execution_count": 11,
   "metadata": {},
   "outputs": [
    {
     "data": {
      "text/plain": [
       "(0.7479080028898931, 147.2925436794062)"
      ]
     },
     "execution_count": 11,
     "metadata": {},
     "output_type": "execute_result"
    }
   ],
   "source": [
    "#Review performance of model\n",
    "r2_score(y_test, y_test_pred), mean_absolute_error(y_test, y_test_pred)"
   ]
  },
  {
   "cell_type": "markdown",
   "metadata": {},
   "source": [
    "From our pre-processing notebook, we have to improve on this performance if we can. As noted, we will trial the following:\n",
    "- Choosing select features\n",
    "- Using other modelling algorithms\n",
    "- Tuning hyperparameters"
   ]
  },
  {
   "cell_type": "markdown",
   "metadata": {},
   "source": [
    "# Performance Assessment"
   ]
  },
  {
   "cell_type": "markdown",
   "metadata": {},
   "source": [
    "We will use the r-squared score to assess different models produced by each algorithm. We will then use the mean absolute error to chose the best algorithm / model combination.\n",
    "\n",
    "We will use 10-fold cross-validation to assess each model. "
   ]
  },
  {
   "cell_type": "markdown",
   "metadata": {},
   "source": [
    "We will trial two linear models and three tree-induction models. Our linear models include lasso and ridge regression. Our tree induction models are decision tree, random forest and XGBoost. "
   ]
  },
  {
   "cell_type": "code",
   "execution_count": 148,
   "metadata": {},
   "outputs": [],
   "source": [
    "#Define functions to assess cross-validated performance of learner\n",
    "def cv_performance(model, X_train, y_train, n_folds = 4):\n",
    "    cv_scores = cross_validate(model, X_train, y_train, cv = n_folds, \\\n",
    "                              scoring = ['r2','neg_mean_absolute_error'])\n",
    "    r2_scores = cv_scores['test_r2']\n",
    "    mae_scores = cv_scores['test_neg_mean_absolute_error'] * -1                                        \n",
    "    return r2_scores, mae_scores\n",
    "\n",
    "def cv_mean_std(cv_scores):\n",
    "    cv_mean = cv_scores.mean()\n",
    "    cv_std = cv_scores.std()\n",
    "    return cv_mean, cv_std\n",
    "\n",
    "def limits(mean, std):\n",
    "    upper = mean + std\n",
    "    lower = mean -std\n",
    "    return lower, upper\n",
    "\n",
    "#Define function to assess test set performance\n",
    "def test_performance(model, x = X_test, y = y_test):\n",
    "    y_pred = model.predict(x)\n",
    "    r2_test_score = r2_score(y, y_pred)\n",
    "    mae_test_score = mean_absolute_error(y, y_pred)\n",
    "    return r2_test_score, mae_test_score"
   ]
  },
  {
   "cell_type": "markdown",
   "metadata": {},
   "source": [
    "# Linear Modelling"
   ]
  },
  {
   "cell_type": "markdown",
   "metadata": {},
   "source": [
    "we will use the lasso and ridge regression algorithms to come up with a model."
   ]
  },
  {
   "cell_type": "markdown",
   "metadata": {},
   "source": [
    "## Lasso"
   ]
  },
  {
   "cell_type": "code",
   "execution_count": 13,
   "metadata": {},
   "outputs": [],
   "source": [
    "#Instantiate lasso model\n",
    "lasso = Lasso()"
   ]
  },
  {
   "cell_type": "code",
   "execution_count": 14,
   "metadata": {},
   "outputs": [],
   "source": [
    "#Determine cross validation performance on lasso model with 5 folds\n",
    "lasso_r2_scores, lasso_mae_scores = cv_performance(lasso, X_train, y_train, 5)"
   ]
  },
  {
   "cell_type": "code",
   "execution_count": 15,
   "metadata": {
    "scrolled": true
   },
   "outputs": [
    {
     "data": {
      "text/plain": [
       "array([0.68427998, 0.77018743, 0.76454379, 0.77096795, 0.65883145])"
      ]
     },
     "execution_count": 15,
     "metadata": {},
     "output_type": "execute_result"
    }
   ],
   "source": [
    "#Check r2 cross validation scores\n",
    "lasso_r2_scores"
   ]
  },
  {
   "cell_type": "code",
   "execution_count": 16,
   "metadata": {},
   "outputs": [
    {
     "data": {
      "text/plain": [
       "(0.7297621199917989, 0.0482528266735451)"
      ]
     },
     "execution_count": 16,
     "metadata": {},
     "output_type": "execute_result"
    }
   ],
   "source": [
    "#Check mean and standard deviation of r2 cross validation scores\n",
    "lasso_r2_mean, lasso_r2_std = cv_mean_std(lasso_r2_scores)\n",
    "lasso_r2_mean, lasso_r2_std"
   ]
  },
  {
   "cell_type": "code",
   "execution_count": 17,
   "metadata": {},
   "outputs": [
    {
     "data": {
      "text/plain": [
       "(0.6815092933182537, 0.778014946665344)"
      ]
     },
     "execution_count": 17,
     "metadata": {},
     "output_type": "execute_result"
    }
   ],
   "source": [
    "#Lasso model r2 lower and upper limits\n",
    "limits(lasso_r2_mean, lasso_r2_std)"
   ]
  },
  {
   "cell_type": "code",
   "execution_count": 18,
   "metadata": {
    "scrolled": true
   },
   "outputs": [],
   "source": [
    "#Fit lasso model to data\n",
    "lasso.fit(X_train, y_train);"
   ]
  },
  {
   "cell_type": "code",
   "execution_count": 19,
   "metadata": {},
   "outputs": [],
   "source": [
    "#Determine performance of lasso model on test set\n",
    "lasso_r2_test_score, lasso_mae_test_score = test_performance(lasso)"
   ]
  },
  {
   "cell_type": "code",
   "execution_count": 20,
   "metadata": {
    "scrolled": true
   },
   "outputs": [
    {
     "data": {
      "text/plain": [
       "0.7474568748413877"
      ]
     },
     "execution_count": 20,
     "metadata": {},
     "output_type": "execute_result"
    }
   ],
   "source": [
    "#Check r2 performance on lasso on test set\n",
    "lasso_r2_test_score"
   ]
  },
  {
   "cell_type": "markdown",
   "metadata": {},
   "source": [
    "We note that our test score for lasso falls within the standard deviation of our cross validation score. This suggests that our model is not overfitting and is appropriate for the data."
   ]
  },
  {
   "cell_type": "markdown",
   "metadata": {},
   "source": [
    "### Feature importance - Lasso"
   ]
  },
  {
   "cell_type": "code",
   "execution_count": 21,
   "metadata": {
    "scrolled": true
   },
   "outputs": [
    {
     "data": {
      "text/plain": [
       "array([ 7.36734865e+01,  2.71893030e+02, -3.22988199e+01,  5.70795320e+00,\n",
       "        0.00000000e+00,  2.63487010e+01,  0.00000000e+00, -0.00000000e+00,\n",
       "        5.77811355e+01,  0.00000000e+00, -3.49376396e+00, -9.81752314e+01,\n",
       "        9.97476231e+01, -3.45273040e+01,  1.85488502e+01, -6.90993839e-02,\n",
       "       -1.77317798e+01,  1.94099716e+00,  1.32807166e+01, -7.07672532e+00,\n",
       "       -0.00000000e+00,  6.18462623e+01,  4.68570230e+00,  1.03908836e+01,\n",
       "        2.77876690e+01, -3.46072048e+00, -3.44350594e-01,  5.45595439e+00,\n",
       "       -2.64546326e+01, -0.00000000e+00, -3.16532999e+00, -0.00000000e+00,\n",
       "        0.00000000e+00, -2.46305491e+00, -3.03163686e+01,  0.00000000e+00,\n",
       "        1.31641960e+00,  0.00000000e+00, -1.83553243e+01,  0.00000000e+00,\n",
       "        6.83132059e-01, -0.00000000e+00, -2.60389481e+01,  0.00000000e+00,\n",
       "        1.79321672e+01,  7.11605088e+00, -2.93517394e+00,  1.15726660e+01,\n",
       "       -4.52365283e+00, -3.79861498e+00, -2.23626692e+00, -0.00000000e+00,\n",
       "        0.00000000e+00,  6.88299442e+00, -1.59110914e+01,  4.53386005e+01,\n",
       "       -1.15862168e+01, -2.22291731e+00,  7.32987892e+00, -0.00000000e+00,\n",
       "       -2.11239417e+01,  5.26420691e-15,  0.00000000e+00,  0.00000000e+00,\n",
       "       -1.97068470e+00, -0.00000000e+00, -0.00000000e+00, -2.58416615e-01,\n",
       "        1.37369400e+01, -7.95130748e-01, -1.26860339e+00, -0.00000000e+00,\n",
       "        1.06511617e+01])"
      ]
     },
     "execution_count": 21,
     "metadata": {},
     "output_type": "execute_result"
    }
   ],
   "source": [
    "#Review coefficients of the 73 features\n",
    "lasso.coef_"
   ]
  },
  {
   "cell_type": "markdown",
   "metadata": {},
   "source": [
    "We note that some of the coefficients are zero, which is one great feature of the lasso algorithm."
   ]
  },
  {
   "cell_type": "code",
   "execution_count": 22,
   "metadata": {
    "scrolled": true
   },
   "outputs": [
    {
     "data": {
      "text/html": [
       "<div>\n",
       "<style scoped>\n",
       "    .dataframe tbody tr th:only-of-type {\n",
       "        vertical-align: middle;\n",
       "    }\n",
       "\n",
       "    .dataframe tbody tr th {\n",
       "        vertical-align: top;\n",
       "    }\n",
       "\n",
       "    .dataframe thead th {\n",
       "        text-align: right;\n",
       "    }\n",
       "</style>\n",
       "<table border=\"1\" class=\"dataframe\">\n",
       "  <thead>\n",
       "    <tr style=\"text-align: right;\">\n",
       "      <th></th>\n",
       "      <th>feature</th>\n",
       "      <th>coefficient</th>\n",
       "    </tr>\n",
       "  </thead>\n",
       "  <tbody>\n",
       "    <tr>\n",
       "      <th>0</th>\n",
       "      <td>medianLivingSpace_ct</td>\n",
       "      <td>-98.175231</td>\n",
       "    </tr>\n",
       "    <tr>\n",
       "      <th>1</th>\n",
       "      <td>medianThermalChar_ct</td>\n",
       "      <td>-34.527304</td>\n",
       "    </tr>\n",
       "    <tr>\n",
       "      <th>2</th>\n",
       "      <td>noRooms</td>\n",
       "      <td>-32.298820</td>\n",
       "    </tr>\n",
       "    <tr>\n",
       "      <th>3</th>\n",
       "      <td>state_Sachsen</td>\n",
       "      <td>-30.316369</td>\n",
       "    </tr>\n",
       "    <tr>\n",
       "      <th>4</th>\n",
       "      <td>state_Hessen</td>\n",
       "      <td>-26.454633</td>\n",
       "    </tr>\n",
       "  </tbody>\n",
       "</table>\n",
       "</div>"
      ],
      "text/plain": [
       "                feature  coefficient\n",
       "0  medianLivingSpace_ct   -98.175231\n",
       "1  medianThermalChar_ct   -34.527304\n",
       "2               noRooms   -32.298820\n",
       "3         state_Sachsen   -30.316369\n",
       "4          state_Hessen   -26.454633"
      ]
     },
     "execution_count": 22,
     "metadata": {},
     "output_type": "execute_result"
    }
   ],
   "source": [
    "#Create lasso coefficent data frame\n",
    "lasso_coeff_df = pd.DataFrame(lasso.coef_, index = X_features, columns = ['coefficient']).\\\n",
    "sort_values(by = 'coefficient').reset_index().rename(columns = {'index': 'feature'})\n",
    "lasso_coeff_df.head()"
   ]
  },
  {
   "cell_type": "code",
   "execution_count": 23,
   "metadata": {
    "scrolled": false
   },
   "outputs": [
    {
     "data": {
      "image/png": "[encoded data removed]",
      "text/plain": [
       "<Figure size 1296x360 with 1 Axes>"
      ]
     },
     "metadata": {
      "needs_background": "light"
     },
     "output_type": "display_data"
    }
   ],
   "source": [
    "#View plot of features and their significance\n",
    "lasso_coeff_df.plot.bar(x = 'feature', y = 'coefficient', figsize = (18, 5))\n",
    "plt.title('Plot of feature coefficient versus feature')\n",
    "plt.xlabel('Feature')\n",
    "plt.ylabel('Lasso coefficient')\n",
    "plt.savefig('..\\\\reports\\\\figures\\\\lasso_feat.png', bbox_inches=\"tight\");"
   ]
  },
  {
   "cell_type": "markdown",
   "metadata": {},
   "source": [
    "We observe that the living area and the service charge are the two most important features that positively contribute to base rent. Suprisingly, the median living area for the city or town is a drag on the base rent for individual properties, suggesting that the higher the median living area in the city / town available for rent, the lower the rent for an individual property. Perhaps, city / towns that offer larger living areas. "
   ]
  },
  {
   "cell_type": "code",
   "execution_count": 24,
   "metadata": {},
   "outputs": [],
   "source": [
    "#Create dataframe of the top 20 features\n",
    "lasso_feature_importance = lasso_coeff_df.set_index('feature')\n",
    "lasso_feature_importance['coefficient_magnitude'] = abs(lasso_feature_importance.coefficient)\n",
    "lasso_top20_features = lasso_feature_importance.sort_values(by = 'coefficient_magnitude', ascending = False)[:20]\n"
   ]
  },
  {
   "cell_type": "code",
   "execution_count": 25,
   "metadata": {},
   "outputs": [
    {
     "data": {
      "text/html": [
       "<div>\n",
       "<style scoped>\n",
       "    .dataframe tbody tr th:only-of-type {\n",
       "        vertical-align: middle;\n",
       "    }\n",
       "\n",
       "    .dataframe tbody tr th {\n",
       "        vertical-align: top;\n",
       "    }\n",
       "\n",
       "    .dataframe thead th {\n",
       "        text-align: right;\n",
       "    }\n",
       "</style>\n",
       "<table border=\"1\" class=\"dataframe\">\n",
       "  <thead>\n",
       "    <tr style=\"text-align: right;\">\n",
       "      <th></th>\n",
       "      <th>coefficient</th>\n",
       "      <th>coefficient_magnitude</th>\n",
       "    </tr>\n",
       "    <tr>\n",
       "      <th>feature</th>\n",
       "      <th></th>\n",
       "      <th></th>\n",
       "    </tr>\n",
       "  </thead>\n",
       "  <tbody>\n",
       "    <tr>\n",
       "      <th>livingSpace</th>\n",
       "      <td>271.893030</td>\n",
       "      <td>271.893030</td>\n",
       "    </tr>\n",
       "    <tr>\n",
       "      <th>medianServiceCharge_ct</th>\n",
       "      <td>99.747623</td>\n",
       "      <td>99.747623</td>\n",
       "    </tr>\n",
       "    <tr>\n",
       "      <th>medianLivingSpace_ct</th>\n",
       "      <td>-98.175231</td>\n",
       "      <td>98.175231</td>\n",
       "    </tr>\n",
       "    <tr>\n",
       "      <th>serviceCharge</th>\n",
       "      <td>73.673487</td>\n",
       "      <td>73.673487</td>\n",
       "    </tr>\n",
       "    <tr>\n",
       "      <th>medianServiceCharge_zip</th>\n",
       "      <td>61.846262</td>\n",
       "      <td>61.846262</td>\n",
       "    </tr>\n",
       "    <tr>\n",
       "      <th>medianHeatingCosts_state</th>\n",
       "      <td>57.781135</td>\n",
       "      <td>57.781135</td>\n",
       "    </tr>\n",
       "    <tr>\n",
       "      <th>interiorQual_luxury</th>\n",
       "      <td>45.338601</td>\n",
       "      <td>45.338601</td>\n",
       "    </tr>\n",
       "    <tr>\n",
       "      <th>medianThermalChar_ct</th>\n",
       "      <td>-34.527304</td>\n",
       "      <td>34.527304</td>\n",
       "    </tr>\n",
       "    <tr>\n",
       "      <th>noRooms</th>\n",
       "      <td>-32.298820</td>\n",
       "      <td>32.298820</td>\n",
       "    </tr>\n",
       "    <tr>\n",
       "      <th>state_Sachsen</th>\n",
       "      <td>-30.316369</td>\n",
       "      <td>30.316369</td>\n",
       "    </tr>\n",
       "    <tr>\n",
       "      <th>state_Berlin</th>\n",
       "      <td>27.787669</td>\n",
       "      <td>27.787669</td>\n",
       "    </tr>\n",
       "    <tr>\n",
       "      <th>state_Hessen</th>\n",
       "      <td>-26.454633</td>\n",
       "      <td>26.454633</td>\n",
       "    </tr>\n",
       "    <tr>\n",
       "      <th>medianLivingSpace_state</th>\n",
       "      <td>26.348701</td>\n",
       "      <td>26.348701</td>\n",
       "    </tr>\n",
       "    <tr>\n",
       "      <th>hasKitchen_No</th>\n",
       "      <td>-26.038948</td>\n",
       "      <td>26.038948</td>\n",
       "    </tr>\n",
       "    <tr>\n",
       "      <th>lift_No</th>\n",
       "      <td>-21.123942</td>\n",
       "      <td>21.123942</td>\n",
       "    </tr>\n",
       "    <tr>\n",
       "      <th>medianPictureCount_ct</th>\n",
       "      <td>18.548850</td>\n",
       "      <td>18.548850</td>\n",
       "    </tr>\n",
       "    <tr>\n",
       "      <th>newlyConst_No</th>\n",
       "      <td>-18.355324</td>\n",
       "      <td>18.355324</td>\n",
       "    </tr>\n",
       "    <tr>\n",
       "      <th>condition_first_time_use</th>\n",
       "      <td>17.932167</td>\n",
       "      <td>17.932167</td>\n",
       "    </tr>\n",
       "    <tr>\n",
       "      <th>medianLivingSpace_muni</th>\n",
       "      <td>-17.731780</td>\n",
       "      <td>17.731780</td>\n",
       "    </tr>\n",
       "    <tr>\n",
       "      <th>condition_well_kept</th>\n",
       "      <td>-15.911091</td>\n",
       "      <td>15.911091</td>\n",
       "    </tr>\n",
       "  </tbody>\n",
       "</table>\n",
       "</div>"
      ],
      "text/plain": [
       "                          coefficient  coefficient_magnitude\n",
       "feature                                                     \n",
       "livingSpace                271.893030             271.893030\n",
       "medianServiceCharge_ct      99.747623              99.747623\n",
       "medianLivingSpace_ct       -98.175231              98.175231\n",
       "serviceCharge               73.673487              73.673487\n",
       "medianServiceCharge_zip     61.846262              61.846262\n",
       "medianHeatingCosts_state    57.781135              57.781135\n",
       "interiorQual_luxury         45.338601              45.338601\n",
       "medianThermalChar_ct       -34.527304              34.527304\n",
       "noRooms                    -32.298820              32.298820\n",
       "state_Sachsen              -30.316369              30.316369\n",
       "state_Berlin                27.787669              27.787669\n",
       "state_Hessen               -26.454633              26.454633\n",
       "medianLivingSpace_state     26.348701              26.348701\n",
       "hasKitchen_No              -26.038948              26.038948\n",
       "lift_No                    -21.123942              21.123942\n",
       "medianPictureCount_ct       18.548850              18.548850\n",
       "newlyConst_No              -18.355324              18.355324\n",
       "condition_first_time_use    17.932167              17.932167\n",
       "medianLivingSpace_muni     -17.731780              17.731780\n",
       "condition_well_kept        -15.911091              15.911091"
      ]
     },
     "execution_count": 25,
     "metadata": {},
     "output_type": "execute_result"
    }
   ],
   "source": [
    "#View the top 20 features\n",
    "lasso_top20_features"
   ]
  },
  {
   "cell_type": "markdown",
   "metadata": {},
   "source": [
    "We notice that some of the features that contribute to the base rent are ones that a landlord cannot influence. These include the median service charge for the city / town and the median living area. The features that landlords can influence according to the lasso model are as follows:\n",
    "- livingSpace: Landlords can set higher base rents for properties with a larger area. \n",
    "- interiorQuality: Properties that are considered to be luxurious will elicity higher base rent. Landlords should consider rennovating their properties. \n",
    "- hasKitchen: Landlords should install a kitchen if one is absent. The absence of a kitchen reduces base rent. \n",
    "- condition_first_time_use: New properties command higher rent"
   ]
  },
  {
   "cell_type": "markdown",
   "metadata": {},
   "source": [
    "# Ridge"
   ]
  },
  {
   "cell_type": "code",
   "execution_count": 26,
   "metadata": {},
   "outputs": [],
   "source": [
    "#Instantiate ridge model\n",
    "ridge = Ridge();"
   ]
  },
  {
   "cell_type": "code",
   "execution_count": 27,
   "metadata": {},
   "outputs": [],
   "source": [
    "#Determine cross validation performance on ridge model with 5 folds\n",
    "ridge_r2_scores, ridge_mae_scores = cv_performance(ridge, X_train, y_train, 5)"
   ]
  },
  {
   "cell_type": "code",
   "execution_count": 28,
   "metadata": {},
   "outputs": [
    {
     "data": {
      "text/plain": [
       "array([0.68434883, 0.77039796, 0.76470962, 0.77111585, 0.65918819])"
      ]
     },
     "execution_count": 28,
     "metadata": {},
     "output_type": "execute_result"
    }
   ],
   "source": [
    "#Check r2 cross validation scores\n",
    "ridge_r2_scores"
   ]
  },
  {
   "cell_type": "code",
   "execution_count": 29,
   "metadata": {},
   "outputs": [
    {
     "data": {
      "text/plain": [
       "(0.7299520884160767, 0.048219491112983175)"
      ]
     },
     "execution_count": 29,
     "metadata": {},
     "output_type": "execute_result"
    }
   ],
   "source": [
    "#Check mean and standard deviation of r2 cross validation scores\n",
    "ridge_r2_mean, ridge_r2_std = cv_mean_std(ridge_r2_scores)\n",
    "ridge_r2_mean, ridge_r2_std"
   ]
  },
  {
   "cell_type": "code",
   "execution_count": 30,
   "metadata": {},
   "outputs": [
    {
     "data": {
      "text/plain": [
       "(0.6817325973030935, 0.7781715795290599)"
      ]
     },
     "execution_count": 30,
     "metadata": {},
     "output_type": "execute_result"
    }
   ],
   "source": [
    "#Ridge model r2 lower and upper limits\n",
    "limits(ridge_r2_mean, ridge_r2_std)"
   ]
  },
  {
   "cell_type": "code",
   "execution_count": 31,
   "metadata": {},
   "outputs": [],
   "source": [
    "#Fit ridge model to data\n",
    "ridge.fit(X_train, y_train);"
   ]
  },
  {
   "cell_type": "code",
   "execution_count": 32,
   "metadata": {},
   "outputs": [],
   "source": [
    "#Determine performance of ridge model on test set\n",
    "ridge_r2_test_score, ridge_mae_test_score = test_performance(ridge)"
   ]
  },
  {
   "cell_type": "code",
   "execution_count": 33,
   "metadata": {},
   "outputs": [
    {
     "data": {
      "text/plain": [
       "0.7478825420016633"
      ]
     },
     "execution_count": 33,
     "metadata": {},
     "output_type": "execute_result"
    }
   ],
   "source": [
    "#Check r2 performance on ridge on test set\n",
    "ridge_r2_test_score"
   ]
  },
  {
   "cell_type": "markdown",
   "metadata": {},
   "source": [
    "We get a similar performance for the test set with the ridge model as with the lasso model. The r2 score also falls within the standard deviation of the cross validation values, suggesting a representative model. "
   ]
  },
  {
   "cell_type": "markdown",
   "metadata": {},
   "source": [
    "### Feature importance - ridge"
   ]
  },
  {
   "cell_type": "code",
   "execution_count": 34,
   "metadata": {
    "scrolled": false
   },
   "outputs": [
    {
     "data": {
      "text/plain": [
       "array([ 7.29240189e+01,  2.77306555e+02, -3.65872955e+01,  1.51644001e+01,\n",
       "        6.25091021e+00,  1.66141540e+01,  7.33343427e+00, -8.30412831e-01,\n",
       "        2.53040702e+01,  2.98549368e+00, -2.61773055e+01, -1.07608948e+02,\n",
       "        1.03718399e+02, -3.68448356e+01,  1.86922290e+01,  1.94736614e+00,\n",
       "       -2.44581020e+01,  5.85157518e+00,  1.37892655e+01, -8.44863392e+00,\n",
       "        5.82381187e+00,  5.79097496e+01,  9.36187208e+00,  1.83254316e+01,\n",
       "        2.84811205e+01, -3.25938317e+00, -2.35034767e+00,  4.55526580e+00,\n",
       "       -2.02456239e+01,  2.40965883e+00,  5.11200550e+00, -2.49228261e+00,\n",
       "        2.83656239e+00, -2.79615133e+00, -2.77949927e+01,  1.07463770e+01,\n",
       "        1.09581606e+01, -7.84247832e+00, -9.26577318e+00,  9.26577305e+00,\n",
       "        1.20082447e+00, -1.20082428e+00, -1.31476793e+01,  1.31476792e+01,\n",
       "        1.75158157e+01,  6.95979887e+00, -4.96108574e+00,  1.10531549e+01,\n",
       "       -6.52270253e+00, -4.91568805e+00, -3.55344547e+00, -1.40494899e+00,\n",
       "        1.69741130e-01,  5.95941095e+00, -1.82323973e+01,  4.42902650e+01,\n",
       "       -1.50032271e+01, -3.61965083e+00,  4.57227120e+00, -4.25155104e+00,\n",
       "       -1.03057402e+01,  1.03057404e+01, -2.52441687e+00, -1.79519636e+00,\n",
       "       -3.57510370e+00, -1.12044434e+00, -1.43540988e+00, -2.30658841e+00,\n",
       "        1.34550002e+01, -2.55578701e+00, -4.17397163e+00, -1.01366015e+00,\n",
       "        9.46577310e+00])"
      ]
     },
     "execution_count": 34,
     "metadata": {},
     "output_type": "execute_result"
    }
   ],
   "source": [
    "#Review coefficients of the 73 features\n",
    "ridge.coef_"
   ]
  },
  {
   "cell_type": "markdown",
   "metadata": {},
   "source": [
    "Unlike lasso, the ridge reduces the coefficients of useless features to a very low value, but not to zero."
   ]
  },
  {
   "cell_type": "code",
   "execution_count": 35,
   "metadata": {},
   "outputs": [
    {
     "data": {
      "text/html": [
       "<div>\n",
       "<style scoped>\n",
       "    .dataframe tbody tr th:only-of-type {\n",
       "        vertical-align: middle;\n",
       "    }\n",
       "\n",
       "    .dataframe tbody tr th {\n",
       "        vertical-align: top;\n",
       "    }\n",
       "\n",
       "    .dataframe thead th {\n",
       "        text-align: right;\n",
       "    }\n",
       "</style>\n",
       "<table border=\"1\" class=\"dataframe\">\n",
       "  <thead>\n",
       "    <tr style=\"text-align: right;\">\n",
       "      <th></th>\n",
       "      <th>feature</th>\n",
       "      <th>coefficient</th>\n",
       "    </tr>\n",
       "  </thead>\n",
       "  <tbody>\n",
       "    <tr>\n",
       "      <th>0</th>\n",
       "      <td>medianLivingSpace_ct</td>\n",
       "      <td>-107.608948</td>\n",
       "    </tr>\n",
       "    <tr>\n",
       "      <th>1</th>\n",
       "      <td>medianThermalChar_ct</td>\n",
       "      <td>-36.844836</td>\n",
       "    </tr>\n",
       "    <tr>\n",
       "      <th>2</th>\n",
       "      <td>noRooms</td>\n",
       "      <td>-36.587295</td>\n",
       "    </tr>\n",
       "    <tr>\n",
       "      <th>3</th>\n",
       "      <td>state_Sachsen</td>\n",
       "      <td>-27.794993</td>\n",
       "    </tr>\n",
       "    <tr>\n",
       "      <th>4</th>\n",
       "      <td>no_Listings_per_100people</td>\n",
       "      <td>-26.177306</td>\n",
       "    </tr>\n",
       "  </tbody>\n",
       "</table>\n",
       "</div>"
      ],
      "text/plain": [
       "                     feature  coefficient\n",
       "0       medianLivingSpace_ct  -107.608948\n",
       "1       medianThermalChar_ct   -36.844836\n",
       "2                    noRooms   -36.587295\n",
       "3              state_Sachsen   -27.794993\n",
       "4  no_Listings_per_100people   -26.177306"
      ]
     },
     "execution_count": 35,
     "metadata": {},
     "output_type": "execute_result"
    }
   ],
   "source": [
    "#Create ridge coefficent data frame\n",
    "ridge_coeff_df = pd.DataFrame(ridge.coef_, index = X_features, columns = ['coefficient']).\\\n",
    "sort_values(by = 'coefficient').reset_index().rename(columns = {'index': 'feature'})\n",
    "ridge_coeff_df.head()"
   ]
  },
  {
   "cell_type": "code",
   "execution_count": 36,
   "metadata": {
    "scrolled": false
   },
   "outputs": [
    {
     "data": {
      "image/png": "[encoded data removed]",
      "text/plain": [
       "<Figure size 1296x360 with 1 Axes>"
      ]
     },
     "metadata": {
      "needs_background": "light"
     },
     "output_type": "display_data"
    }
   ],
   "source": [
    "#View plot of features and their significance\n",
    "ridge_coeff_df.plot.bar(x = 'feature', y = 'coefficient', figsize = (18, 5))\n",
    "plt.title('Plot of feature coefficient versus feature')\n",
    "plt.xlabel('Feature')\n",
    "plt.ylabel('Ridge coefficient')\n",
    "plt.savefig('..\\\\reports\\\\figures\\\\ridge_feat.png', bbox_inches=\"tight\");"
   ]
  },
  {
   "cell_type": "markdown",
   "metadata": {},
   "source": [
    "Here again, we notice that the living and service charge positively influence the base rent, while the median living area of the city and median thermal characterisitics of the city reduces base rent. "
   ]
  },
  {
   "cell_type": "code",
   "execution_count": 37,
   "metadata": {},
   "outputs": [],
   "source": [
    "#Create dataframe of the top 20 features\n",
    "ridge_feature_importance = ridge_coeff_df.set_index('feature')\n",
    "ridge_feature_importance['coefficient_magnitude'] = abs(ridge_feature_importance.coefficient)\n",
    "ridge_top20_features = ridge_feature_importance.sort_values(by = 'coefficient_magnitude', ascending = False)[:20]"
   ]
  },
  {
   "cell_type": "code",
   "execution_count": 38,
   "metadata": {},
   "outputs": [
    {
     "data": {
      "text/html": [
       "<div>\n",
       "<style scoped>\n",
       "    .dataframe tbody tr th:only-of-type {\n",
       "        vertical-align: middle;\n",
       "    }\n",
       "\n",
       "    .dataframe tbody tr th {\n",
       "        vertical-align: top;\n",
       "    }\n",
       "\n",
       "    .dataframe thead th {\n",
       "        text-align: right;\n",
       "    }\n",
       "</style>\n",
       "<table border=\"1\" class=\"dataframe\">\n",
       "  <thead>\n",
       "    <tr style=\"text-align: right;\">\n",
       "      <th></th>\n",
       "      <th>coefficient</th>\n",
       "      <th>coefficient_magnitude</th>\n",
       "    </tr>\n",
       "    <tr>\n",
       "      <th>feature</th>\n",
       "      <th></th>\n",
       "      <th></th>\n",
       "    </tr>\n",
       "  </thead>\n",
       "  <tbody>\n",
       "    <tr>\n",
       "      <th>livingSpace</th>\n",
       "      <td>277.306555</td>\n",
       "      <td>277.306555</td>\n",
       "    </tr>\n",
       "    <tr>\n",
       "      <th>medianLivingSpace_ct</th>\n",
       "      <td>-107.608948</td>\n",
       "      <td>107.608948</td>\n",
       "    </tr>\n",
       "    <tr>\n",
       "      <th>medianServiceCharge_ct</th>\n",
       "      <td>103.718399</td>\n",
       "      <td>103.718399</td>\n",
       "    </tr>\n",
       "    <tr>\n",
       "      <th>serviceCharge</th>\n",
       "      <td>72.924019</td>\n",
       "      <td>72.924019</td>\n",
       "    </tr>\n",
       "    <tr>\n",
       "      <th>medianServiceCharge_zip</th>\n",
       "      <td>57.909750</td>\n",
       "      <td>57.909750</td>\n",
       "    </tr>\n",
       "    <tr>\n",
       "      <th>interiorQual_luxury</th>\n",
       "      <td>44.290265</td>\n",
       "      <td>44.290265</td>\n",
       "    </tr>\n",
       "    <tr>\n",
       "      <th>medianThermalChar_ct</th>\n",
       "      <td>-36.844836</td>\n",
       "      <td>36.844836</td>\n",
       "    </tr>\n",
       "    <tr>\n",
       "      <th>noRooms</th>\n",
       "      <td>-36.587295</td>\n",
       "      <td>36.587295</td>\n",
       "    </tr>\n",
       "    <tr>\n",
       "      <th>state_Berlin</th>\n",
       "      <td>28.481120</td>\n",
       "      <td>28.481120</td>\n",
       "    </tr>\n",
       "    <tr>\n",
       "      <th>state_Sachsen</th>\n",
       "      <td>-27.794993</td>\n",
       "      <td>27.794993</td>\n",
       "    </tr>\n",
       "    <tr>\n",
       "      <th>no_Listings_per_100people</th>\n",
       "      <td>-26.177306</td>\n",
       "      <td>26.177306</td>\n",
       "    </tr>\n",
       "    <tr>\n",
       "      <th>medianHeatingCosts_state</th>\n",
       "      <td>25.304070</td>\n",
       "      <td>25.304070</td>\n",
       "    </tr>\n",
       "    <tr>\n",
       "      <th>medianLivingSpace_muni</th>\n",
       "      <td>-24.458102</td>\n",
       "      <td>24.458102</td>\n",
       "    </tr>\n",
       "    <tr>\n",
       "      <th>state_Hessen</th>\n",
       "      <td>-20.245624</td>\n",
       "      <td>20.245624</td>\n",
       "    </tr>\n",
       "    <tr>\n",
       "      <th>medianPictureCount_ct</th>\n",
       "      <td>18.692229</td>\n",
       "      <td>18.692229</td>\n",
       "    </tr>\n",
       "    <tr>\n",
       "      <th>state_Bayern</th>\n",
       "      <td>18.325432</td>\n",
       "      <td>18.325432</td>\n",
       "    </tr>\n",
       "    <tr>\n",
       "      <th>condition_well_kept</th>\n",
       "      <td>-18.232397</td>\n",
       "      <td>18.232397</td>\n",
       "    </tr>\n",
       "    <tr>\n",
       "      <th>condition_first_time_use</th>\n",
       "      <td>17.515816</td>\n",
       "      <td>17.515816</td>\n",
       "    </tr>\n",
       "    <tr>\n",
       "      <th>medianLivingSpace_state</th>\n",
       "      <td>16.614154</td>\n",
       "      <td>16.614154</td>\n",
       "    </tr>\n",
       "    <tr>\n",
       "      <th>gdp_per_capita_2018</th>\n",
       "      <td>15.164400</td>\n",
       "      <td>15.164400</td>\n",
       "    </tr>\n",
       "  </tbody>\n",
       "</table>\n",
       "</div>"
      ],
      "text/plain": [
       "                           coefficient  coefficient_magnitude\n",
       "feature                                                      \n",
       "livingSpace                 277.306555             277.306555\n",
       "medianLivingSpace_ct       -107.608948             107.608948\n",
       "medianServiceCharge_ct      103.718399             103.718399\n",
       "serviceCharge                72.924019              72.924019\n",
       "medianServiceCharge_zip      57.909750              57.909750\n",
       "interiorQual_luxury          44.290265              44.290265\n",
       "medianThermalChar_ct        -36.844836              36.844836\n",
       "noRooms                     -36.587295              36.587295\n",
       "state_Berlin                 28.481120              28.481120\n",
       "state_Sachsen               -27.794993              27.794993\n",
       "no_Listings_per_100people   -26.177306              26.177306\n",
       "medianHeatingCosts_state     25.304070              25.304070\n",
       "medianLivingSpace_muni      -24.458102              24.458102\n",
       "state_Hessen                -20.245624              20.245624\n",
       "medianPictureCount_ct        18.692229              18.692229\n",
       "state_Bayern                 18.325432              18.325432\n",
       "condition_well_kept         -18.232397              18.232397\n",
       "condition_first_time_use     17.515816              17.515816\n",
       "medianLivingSpace_state      16.614154              16.614154\n",
       "gdp_per_capita_2018          15.164400              15.164400"
      ]
     },
     "execution_count": 38,
     "metadata": {},
     "output_type": "execute_result"
    }
   ],
   "source": [
    "#View the top 20 features\n",
    "ridge_top20_features"
   ]
  },
  {
   "cell_type": "markdown",
   "metadata": {},
   "source": [
    "We note that the ridge model has similar top 20 features as the lasso model, althought these are not the same."
   ]
  },
  {
   "cell_type": "markdown",
   "metadata": {},
   "source": [
    "### Feature importance comparison "
   ]
  },
  {
   "cell_type": "code",
   "execution_count": 39,
   "metadata": {
    "scrolled": true
   },
   "outputs": [
    {
     "data": {
      "text/plain": [
       "['state_Berlin',\n",
       " 'medianLivingSpace_state',\n",
       " 'condition_well_kept',\n",
       " 'medianLivingSpace_ct',\n",
       " 'interiorQual_luxury',\n",
       " 'medianHeatingCosts_state',\n",
       " 'medianServiceCharge_ct',\n",
       " 'medianServiceCharge_zip',\n",
       " 'livingSpace',\n",
       " 'condition_first_time_use',\n",
       " 'state_Hessen',\n",
       " 'noRooms',\n",
       " 'state_Sachsen',\n",
       " 'medianThermalChar_ct',\n",
       " 'serviceCharge',\n",
       " 'medianPictureCount_ct',\n",
       " 'medianLivingSpace_muni']"
      ]
     },
     "execution_count": 39,
     "metadata": {},
     "output_type": "execute_result"
    }
   ],
   "source": [
    "common_features_ridge_lasso = list(set(ridge_top20_features.index).intersection(set(lasso_top20_features.index)))\n",
    "common_features_ridge_lasso"
   ]
  },
  {
   "cell_type": "code",
   "execution_count": 40,
   "metadata": {},
   "outputs": [
    {
     "data": {
      "text/plain": [
       "17"
      ]
     },
     "execution_count": 40,
     "metadata": {},
     "output_type": "execute_result"
    }
   ],
   "source": [
    "len(common_features_ridge_lasso)"
   ]
  },
  {
   "cell_type": "markdown",
   "metadata": {},
   "source": [
    "Of the 20 top features determined by both models, 17 of them are featured in both, suggesting that both models are interpreting the data in a similar manner."
   ]
  },
  {
   "cell_type": "code",
   "execution_count": 41,
   "metadata": {},
   "outputs": [],
   "source": [
    "diff_features_ridge_lasso = list(set(ridge_top20_features.index).difference(set(lasso_top20_features.index))) + list(set(lasso_top20_features.index).difference(set(ridge_top20_features.index)))"
   ]
  },
  {
   "cell_type": "code",
   "execution_count": 42,
   "metadata": {},
   "outputs": [
    {
     "data": {
      "text/plain": [
       "['gdp_per_capita_2018',\n",
       " 'no_Listings_per_100people',\n",
       " 'state_Bayern',\n",
       " 'hasKitchen_No',\n",
       " 'lift_No',\n",
       " 'newlyConst_No']"
      ]
     },
     "execution_count": 42,
     "metadata": {},
     "output_type": "execute_result"
    }
   ],
   "source": [
    "diff_features_ridge_lasso"
   ]
  },
  {
   "cell_type": "markdown",
   "metadata": {},
   "source": [
    "The six features that are featured in one, but not both models include no_Listings_per_100people, gdp_per_capita_2018, state_Bayern, lift_No, newlyConst_No, hasKitchen_No, and none of these feature in the top 10."
   ]
  },
  {
   "cell_type": "markdown",
   "metadata": {},
   "source": [
    "# Tree induction ensemble models"
   ]
  },
  {
   "cell_type": "markdown",
   "metadata": {},
   "source": [
    "The linear models we developed were appropriate; however,  tree induction ensemble models may provide better performance because they are not constrained by limitations of a model. For instance, outliers are unlikely to affect tree induction models. We will trial a random forest model and an XGBoost model to determine if we can improve performance."
   ]
  },
  {
   "cell_type": "markdown",
   "metadata": {},
   "source": [
    "## Random forest"
   ]
  },
  {
   "cell_type": "code",
   "execution_count": 43,
   "metadata": {},
   "outputs": [],
   "source": [
    "#Instantiate random forest model\n",
    "rf = RandomForestRegressor(n_estimators = 10, max_depth = 15, random_state = 77)"
   ]
  },
  {
   "cell_type": "code",
   "execution_count": 44,
   "metadata": {},
   "outputs": [],
   "source": [
    "#Determine cross validation performance on random forest model with 5 folds\n",
    "rf_r2_scores, rf_mae_scores = cv_performance(rf, X_train, y_train, 5)"
   ]
  },
  {
   "cell_type": "code",
   "execution_count": 45,
   "metadata": {},
   "outputs": [
    {
     "data": {
      "text/plain": [
       "array([0.77303165, 0.78852443, 0.85309048, 0.87526154, 0.74656431])"
      ]
     },
     "execution_count": 45,
     "metadata": {},
     "output_type": "execute_result"
    }
   ],
   "source": [
    "#Check r2 cross validation scores\n",
    "rf_r2_scores"
   ]
  },
  {
   "cell_type": "markdown",
   "metadata": {},
   "source": [
    "We observe that our cross-validation r2-scores for the random forest model are better than the ones obtained from our linear models. "
   ]
  },
  {
   "cell_type": "code",
   "execution_count": 46,
   "metadata": {},
   "outputs": [
    {
     "data": {
      "text/plain": [
       "(0.80729448290834, 0.0488491668636944)"
      ]
     },
     "execution_count": 46,
     "metadata": {},
     "output_type": "execute_result"
    }
   ],
   "source": [
    "#Check mean and standard deviation of r2 cross validation scores\n",
    "rf_r2_mean, rf_r2_std = cv_mean_std(rf_r2_scores)\n",
    "rf_r2_mean, rf_r2_std"
   ]
  },
  {
   "cell_type": "code",
   "execution_count": 47,
   "metadata": {},
   "outputs": [
    {
     "data": {
      "text/plain": [
       "(0.7584453160446456, 0.8561436497720345)"
      ]
     },
     "execution_count": 47,
     "metadata": {},
     "output_type": "execute_result"
    }
   ],
   "source": [
    "#Random forest model r2 lower and upper limits\n",
    "limits(rf_r2_mean, rf_r2_std)"
   ]
  },
  {
   "cell_type": "code",
   "execution_count": 48,
   "metadata": {},
   "outputs": [],
   "source": [
    "#Fit random forest model to data\n",
    "rf.fit(X_train, y_train);"
   ]
  },
  {
   "cell_type": "code",
   "execution_count": 49,
   "metadata": {},
   "outputs": [],
   "source": [
    "#Determine performance of random forest model on test set\n",
    "rf_r2_test_score, rf_mae_test_score = test_performance(rf)"
   ]
  },
  {
   "cell_type": "code",
   "execution_count": 50,
   "metadata": {},
   "outputs": [
    {
     "data": {
      "text/plain": [
       "0.8409596815084894"
      ]
     },
     "execution_count": 50,
     "metadata": {},
     "output_type": "execute_result"
    }
   ],
   "source": [
    "#Check r2 performance on random forest on test set\n",
    "rf_r2_test_score"
   ]
  },
  {
   "cell_type": "markdown",
   "metadata": {},
   "source": [
    "Our test score falls within the range of the model's standard deviation for the cross-validation scores. Our random forest model is our best model so far."
   ]
  },
  {
   "cell_type": "markdown",
   "metadata": {},
   "source": [
    "### Random forest with feature selection"
   ]
  },
  {
   "cell_type": "code",
   "execution_count": 51,
   "metadata": {},
   "outputs": [
    {
     "data": {
      "text/plain": [
       "array([0.00000000e+00, 4.17672752e-06, 4.34281357e-06, 1.26696908e-05,\n",
       "       1.32777135e-05, 1.60447762e-05, 1.80405487e-05, 3.32388923e-05,\n",
       "       3.86187828e-05, 4.55190993e-05, 6.41095314e-05, 8.03247264e-05,\n",
       "       9.49719914e-05, 1.00014084e-04, 1.23359733e-04, 1.30596788e-04,\n",
       "       2.02702488e-04, 2.08655004e-04, 2.22348461e-04, 2.52561509e-04,\n",
       "       2.67053887e-04, 3.30379050e-04, 3.80464656e-04, 3.94059692e-04,\n",
       "       4.17898969e-04, 5.33859672e-04, 6.17304102e-04, 6.24331610e-04,\n",
       "       6.34793568e-04, 6.64016827e-04, 7.68225057e-04, 8.79785463e-04,\n",
       "       8.85702884e-04, 9.96116068e-04, 1.06154599e-03, 1.14004237e-03,\n",
       "       1.40752180e-03, 1.44175626e-03, 1.54163216e-03, 1.54791544e-03,\n",
       "       1.86159708e-03, 1.89601960e-03, 1.95677171e-03, 2.18719459e-03,\n",
       "       2.57105811e-03, 2.77087483e-03, 2.86785169e-03, 3.42005495e-03,\n",
       "       3.67792228e-03, 3.73400421e-03, 3.94338974e-03, 4.13552009e-03,\n",
       "       5.05239895e-03, 5.37515137e-03, 6.07816100e-03, 6.23555565e-03,\n",
       "       6.24595023e-03, 6.71836739e-03, 6.82864717e-03, 7.93907804e-03,\n",
       "       8.47264663e-03, 8.59287937e-03, 8.59638853e-03, 9.37511027e-03,\n",
       "       9.48538429e-03, 1.08128853e-02, 1.16098263e-02, 1.26123009e-02,\n",
       "       1.67777049e-02, 4.09574814e-02, 1.49593548e-01, 1.59597967e-01,\n",
       "       4.49820329e-01])"
      ]
     },
     "execution_count": 51,
     "metadata": {},
     "output_type": "execute_result"
    }
   ],
   "source": [
    "np.sort(rf.feature_importances_)"
   ]
  },
  {
   "cell_type": "markdown",
   "metadata": {},
   "source": [
    "We can choose a threshold of 0.001 to pre-select features"
   ]
  },
  {
   "cell_type": "code",
   "execution_count": 52,
   "metadata": {},
   "outputs": [],
   "source": [
    "#Create a transform that pre-select features based on a threshold of 0.001\n",
    "selection_rf = SelectFromModel(rf, threshold= 0.001, prefit=True)\n",
    "# Create array of training samples from selected features on X_train\n",
    "X_train_select_rf = selection_rf.transform(X_train)\n",
    "# train model\n",
    "rf_select = RandomForestRegressor(n_estimators = 10, max_depth = 15, random_state = 77)\n",
    "rf_select.fit(X_train_select_rf, y_train)\n",
    "# Create array of test samples from selected features on X_test\n",
    "X_test_select_rf = selection_rf.transform(X_test)"
   ]
  },
  {
   "cell_type": "code",
   "execution_count": 151,
   "metadata": {},
   "outputs": [
    {
     "data": {
      "text/plain": [
       "187369"
      ]
     },
     "execution_count": 151,
     "metadata": {},
     "output_type": "execute_result"
    }
   ],
   "source": [
    "len(X_train_select_rf)"
   ]
  },
  {
   "cell_type": "code",
   "execution_count": 146,
   "metadata": {},
   "outputs": [],
   "source": [
    "rf = RandomForestRegressor(n_estimators = 10, max_depth = 15, random_state = 77)"
   ]
  },
  {
   "cell_type": "code",
   "execution_count": 152,
   "metadata": {},
   "outputs": [],
   "source": [
    "#Determine cross validation performance on random forest model with 5 folds\n",
    "rf_r2_scores_select, rf_mae_scores_select = cv_performance(rf, X_train_select_rf, y_train, 5)"
   ]
  },
  {
   "cell_type": "code",
   "execution_count": 153,
   "metadata": {},
   "outputs": [
    {
     "data": {
      "text/plain": [
       "array([0.78193346, 0.79608177, 0.84554166, 0.87434489, 0.74803385])"
      ]
     },
     "execution_count": 153,
     "metadata": {},
     "output_type": "execute_result"
    }
   ],
   "source": [
    "rf_r2_scores_select"
   ]
  },
  {
   "cell_type": "code",
   "execution_count": 154,
   "metadata": {},
   "outputs": [
    {
     "data": {
      "text/plain": [
       "(0.8091871254311009, 0.0452137644223764)"
      ]
     },
     "execution_count": 154,
     "metadata": {},
     "output_type": "execute_result"
    }
   ],
   "source": [
    "rf_r2_mean_select, rf_r2_std_select = cv_mean_std(rf_r2_scores_select)\n",
    "rf_r2_mean_select, rf_r2_std_select"
   ]
  },
  {
   "cell_type": "code",
   "execution_count": 155,
   "metadata": {},
   "outputs": [
    {
     "data": {
      "text/plain": [
       "(97.44361703530244, 0.6630262168070898)"
      ]
     },
     "execution_count": 155,
     "metadata": {},
     "output_type": "execute_result"
    }
   ],
   "source": [
    "rf_mae_mean_select, rf_mae_std_select = cv_mean_std(rf_mae_scores_select)\n",
    "rf_mae_mean_select, rf_mae_std_select"
   ]
  },
  {
   "cell_type": "code",
   "execution_count": 53,
   "metadata": {},
   "outputs": [],
   "source": [
    "#Determine performance of XGBoost model on test set after feature selection\n",
    "rf_r2_test_score_select, rf_mae_test_score_select = test_performance(rf_select, x = X_test_select_rf, y = y_test)"
   ]
  },
  {
   "cell_type": "code",
   "execution_count": 54,
   "metadata": {},
   "outputs": [
    {
     "data": {
      "text/plain": [
       "0.8475743445765718"
      ]
     },
     "execution_count": 54,
     "metadata": {},
     "output_type": "execute_result"
    }
   ],
   "source": [
    "#Check r2 performance on random forest on test set for selected features\n",
    "rf_r2_test_score_select"
   ]
  },
  {
   "cell_type": "markdown",
   "metadata": {},
   "source": [
    "We observe a slight performance bump after we pre-select features"
   ]
  },
  {
   "cell_type": "markdown",
   "metadata": {},
   "source": [
    "### Hyperparameter tuning of random forest model"
   ]
  },
  {
   "cell_type": "markdown",
   "metadata": {},
   "source": [
    "We can check if we can improve the performance of our random forest model with pre-selected features, while being cautious of overfitting the model with a cross validation random search on the number of trees to use and their max depth."
   ]
  },
  {
   "cell_type": "code",
   "execution_count": 55,
   "metadata": {},
   "outputs": [],
   "source": [
    "#Instantiate random forest estimator for grid search\n",
    "rf_grid = RandomForestRegressor()"
   ]
  },
  {
   "cell_type": "code",
   "execution_count": 56,
   "metadata": {},
   "outputs": [],
   "source": [
    "#Create hyperparameter grid\n",
    "n_est = np.arange(10, 30, 5)\n",
    "max_depth = max_depth = np.arange(5, 30, 5)\n",
    "grid_params = {'n_estimators': n_est, 'max_depth': max_depth}"
   ]
  },
  {
   "cell_type": "code",
   "execution_count": 57,
   "metadata": {},
   "outputs": [],
   "source": [
    "#Perform cross validated randomized search on the parameter grid\n",
    "rf_grid_cv = RandomizedSearchCV(rf_grid, param_distributions = grid_params, n_iter = 2, scoring = 'r2', cv= 5, random_state = 77)"
   ]
  },
  {
   "cell_type": "code",
   "execution_count": 58,
   "metadata": {},
   "outputs": [],
   "source": [
    "#Fit randomized search model to pre-selected data\n",
    "rf_grid_cv.fit(X_train_select_rf, y_train);"
   ]
  },
  {
   "cell_type": "code",
   "execution_count": 59,
   "metadata": {
    "scrolled": true
   },
   "outputs": [
    {
     "data": {
      "text/plain": [
       "{'n_estimators': 20, 'max_depth': 20}"
      ]
     },
     "execution_count": 59,
     "metadata": {},
     "output_type": "execute_result"
    }
   ],
   "source": [
    "rf_grid_cv.best_params_"
   ]
  },
  {
   "cell_type": "markdown",
   "metadata": {},
   "source": [
    "We observe that best parameters are 20 estimators and a max depth of 20, which is a change from the previous number of estimators we had. Let us determine if the performance has improved."
   ]
  },
  {
   "cell_type": "code",
   "execution_count": 60,
   "metadata": {},
   "outputs": [],
   "source": [
    "#Instantiate random forest model with updated parameters\n",
    "rf_search = RandomForestRegressor(n_estimators = 20, max_depth = 20, random_state = 77)"
   ]
  },
  {
   "cell_type": "code",
   "execution_count": 61,
   "metadata": {},
   "outputs": [],
   "source": [
    "#Determine cross validation performance on updated random forest model with pre-selected features with 5 folds\n",
    "rf_search_r2_scores, rf_search_mae_scores = cv_performance(rf_search, X_train_select_rf, y_train, 5)"
   ]
  },
  {
   "cell_type": "code",
   "execution_count": 62,
   "metadata": {},
   "outputs": [
    {
     "data": {
      "text/plain": [
       "array([0.79138338, 0.80317985, 0.86051768, 0.88419643, 0.75396039])"
      ]
     },
     "execution_count": 62,
     "metadata": {},
     "output_type": "execute_result"
    }
   ],
   "source": [
    "#Check updated r2 cross validation scores\n",
    "rf_search_r2_scores"
   ]
  },
  {
   "cell_type": "code",
   "execution_count": 63,
   "metadata": {},
   "outputs": [
    {
     "data": {
      "text/plain": [
       "(0.8186475477394544, 0.04736407039896629)"
      ]
     },
     "execution_count": 63,
     "metadata": {},
     "output_type": "execute_result"
    }
   ],
   "source": [
    "#Check updated mean and standard deviation of r2 cross validation scores\n",
    "rf_search_r2_mean, rf_search_r2_std = cv_mean_std(rf_search_r2_scores)\n",
    "rf_search_r2_mean, rf_search_r2_std"
   ]
  },
  {
   "cell_type": "code",
   "execution_count": 64,
   "metadata": {},
   "outputs": [
    {
     "data": {
      "text/plain": [
       "(0.7712834773404881, 0.8660116181384206)"
      ]
     },
     "execution_count": 64,
     "metadata": {},
     "output_type": "execute_result"
    }
   ],
   "source": [
    "#Updated random forest model r2 lower and upper limits\n",
    "limits(rf_search_r2_mean, rf_search_r2_std)"
   ]
  },
  {
   "cell_type": "code",
   "execution_count": 65,
   "metadata": {},
   "outputs": [],
   "source": [
    "#Fit updated random forest model with pre-selected features to data\n",
    "rf_search.fit(X_train_select_rf, y_train);"
   ]
  },
  {
   "cell_type": "code",
   "execution_count": 66,
   "metadata": {},
   "outputs": [],
   "source": [
    "#Determine updated performance of random forest model on test set\n",
    "rf_search_r2_test_score, rf_search_mae_test_score = test_performance(rf_search,X_test_select_rf, y_test )"
   ]
  },
  {
   "cell_type": "code",
   "execution_count": 67,
   "metadata": {},
   "outputs": [
    {
     "data": {
      "text/plain": [
       "0.8607818296606972"
      ]
     },
     "execution_count": 67,
     "metadata": {},
     "output_type": "execute_result"
    }
   ],
   "source": [
    "#Check updated r2 performance on random forest on test set\n",
    "rf_search_r2_test_score"
   ]
  },
  {
   "cell_type": "markdown",
   "metadata": {},
   "source": [
    "We observe slightly better performance when we pre-select features and use the tuned parameters than the previous parameters."
   ]
  },
  {
   "cell_type": "markdown",
   "metadata": {},
   "source": [
    "### Feature importance - random forest"
   ]
  },
  {
   "cell_type": "code",
   "execution_count": 68,
   "metadata": {
    "scrolled": true
   },
   "outputs": [
    {
     "data": {
      "text/plain": [
       "array([0.15032004, 0.44770261, 0.01060976, 0.00830249, 0.00256986,\n",
       "       0.00195746, 0.00138669, 0.00312309, 0.00152294, 0.00187382,\n",
       "       0.00578612, 0.04116297, 0.15835557, 0.00898641, 0.00915278,\n",
       "       0.00218432, 0.01341558, 0.01297349, 0.01011254, 0.00295312,\n",
       "       0.01072977, 0.01840645, 0.00185754, 0.0033702 , 0.00345827,\n",
       "       0.00232889, 0.00640259, 0.00648829, 0.01371775, 0.00261419,\n",
       "       0.00209005, 0.00685948, 0.00304329, 0.00483287, 0.00606556,\n",
       "       0.00589453, 0.00147739, 0.00208247, 0.00382874])"
      ]
     },
     "execution_count": 68,
     "metadata": {},
     "output_type": "execute_result"
    }
   ],
   "source": [
    "#Get feature importance for random forest\n",
    "rf_search.feature_importances_"
   ]
  },
  {
   "cell_type": "code",
   "execution_count": 69,
   "metadata": {},
   "outputs": [
    {
     "data": {
      "text/html": [
       "<div>\n",
       "<style scoped>\n",
       "    .dataframe tbody tr th:only-of-type {\n",
       "        vertical-align: middle;\n",
       "    }\n",
       "\n",
       "    .dataframe tbody tr th {\n",
       "        vertical-align: top;\n",
       "    }\n",
       "\n",
       "    .dataframe thead th {\n",
       "        text-align: right;\n",
       "    }\n",
       "</style>\n",
       "<table border=\"1\" class=\"dataframe\">\n",
       "  <thead>\n",
       "    <tr style=\"text-align: right;\">\n",
       "      <th></th>\n",
       "      <th>feature</th>\n",
       "      <th>coefficient</th>\n",
       "    </tr>\n",
       "  </thead>\n",
       "  <tbody>\n",
       "    <tr>\n",
       "      <th>0</th>\n",
       "      <td>medianServiceCharge_state</td>\n",
       "      <td>0.001387</td>\n",
       "    </tr>\n",
       "    <tr>\n",
       "      <th>1</th>\n",
       "      <td>typeOfFlat_roof_storey</td>\n",
       "      <td>0.001477</td>\n",
       "    </tr>\n",
       "    <tr>\n",
       "      <th>2</th>\n",
       "      <td>medianHeatingCosts_state</td>\n",
       "      <td>0.001523</td>\n",
       "    </tr>\n",
       "    <tr>\n",
       "      <th>3</th>\n",
       "      <td>state_Bayern</td>\n",
       "      <td>0.001858</td>\n",
       "    </tr>\n",
       "    <tr>\n",
       "      <th>4</th>\n",
       "      <td>medianPictureCount_state</td>\n",
       "      <td>0.001874</td>\n",
       "    </tr>\n",
       "  </tbody>\n",
       "</table>\n",
       "</div>"
      ],
      "text/plain": [
       "                     feature  coefficient\n",
       "0  medianServiceCharge_state     0.001387\n",
       "1     typeOfFlat_roof_storey     0.001477\n",
       "2   medianHeatingCosts_state     0.001523\n",
       "3               state_Bayern     0.001858\n",
       "4   medianPictureCount_state     0.001874"
      ]
     },
     "execution_count": 69,
     "metadata": {},
     "output_type": "execute_result"
    }
   ],
   "source": [
    "#Create random forest coefficent data frame\n",
    "rf_search_coeff_df = pd.DataFrame(rf_search.feature_importances_, index = X_features[rf.feature_importances_ >= 0.001], columns = ['coefficient']).\\\n",
    "sort_values(by = 'coefficient').reset_index().rename(columns = {'index': 'feature'})\n",
    "rf_search_coeff_df.head()"
   ]
  },
  {
   "cell_type": "code",
   "execution_count": 70,
   "metadata": {},
   "outputs": [
    {
     "data": {
      "image/png": "[encoded data removed]",
      "text/plain": [
       "<Figure size 1296x360 with 1 Axes>"
      ]
     },
     "metadata": {
      "needs_background": "light"
     },
     "output_type": "display_data"
    }
   ],
   "source": [
    "#View plot of features and their significance\n",
    "rf_search_coeff_df.plot.bar(x = 'feature', y = 'coefficient', figsize = (18, 5))\n",
    "plt.title('Plot of feature coefficient versus feature')\n",
    "plt.xlabel('Feature')\n",
    "plt.ylabel('Random forest coefficient')\n",
    "plt.savefig('..\\\\reports\\\\figures\\\\rf_feat.png', bbox_inches=\"tight\");"
   ]
  },
  {
   "cell_type": "code",
   "execution_count": 71,
   "metadata": {},
   "outputs": [],
   "source": [
    "#Create dataframe of the top 20 features\n",
    "rf_search_feature_importance = rf_search_coeff_df.set_index('feature')\n",
    "rf_search_top20_features = rf_search_coeff_df.sort_values(by = 'coefficient', ascending = False)[:20]"
   ]
  },
  {
   "cell_type": "code",
   "execution_count": 72,
   "metadata": {},
   "outputs": [
    {
     "data": {
      "text/html": [
       "<div>\n",
       "<style scoped>\n",
       "    .dataframe tbody tr th:only-of-type {\n",
       "        vertical-align: middle;\n",
       "    }\n",
       "\n",
       "    .dataframe tbody tr th {\n",
       "        vertical-align: top;\n",
       "    }\n",
       "\n",
       "    .dataframe thead th {\n",
       "        text-align: right;\n",
       "    }\n",
       "</style>\n",
       "<table border=\"1\" class=\"dataframe\">\n",
       "  <thead>\n",
       "    <tr style=\"text-align: right;\">\n",
       "      <th></th>\n",
       "      <th>feature</th>\n",
       "      <th>coefficient</th>\n",
       "    </tr>\n",
       "  </thead>\n",
       "  <tbody>\n",
       "    <tr>\n",
       "      <th>38</th>\n",
       "      <td>livingSpace</td>\n",
       "      <td>0.447703</td>\n",
       "    </tr>\n",
       "    <tr>\n",
       "      <th>37</th>\n",
       "      <td>medianServiceCharge_ct</td>\n",
       "      <td>0.158356</td>\n",
       "    </tr>\n",
       "    <tr>\n",
       "      <th>36</th>\n",
       "      <td>serviceCharge</td>\n",
       "      <td>0.150320</td>\n",
       "    </tr>\n",
       "    <tr>\n",
       "      <th>35</th>\n",
       "      <td>medianLivingSpace_ct</td>\n",
       "      <td>0.041163</td>\n",
       "    </tr>\n",
       "    <tr>\n",
       "      <th>34</th>\n",
       "      <td>medianServiceCharge_zip</td>\n",
       "      <td>0.018406</td>\n",
       "    </tr>\n",
       "    <tr>\n",
       "      <th>33</th>\n",
       "      <td>condition_mint_condition</td>\n",
       "      <td>0.013718</td>\n",
       "    </tr>\n",
       "    <tr>\n",
       "      <th>32</th>\n",
       "      <td>medianLivingSpace_muni</td>\n",
       "      <td>0.013416</td>\n",
       "    </tr>\n",
       "    <tr>\n",
       "      <th>31</th>\n",
       "      <td>medianServiceCharge_muni</td>\n",
       "      <td>0.012973</td>\n",
       "    </tr>\n",
       "    <tr>\n",
       "      <th>30</th>\n",
       "      <td>medianLivingSpace_zip</td>\n",
       "      <td>0.010730</td>\n",
       "    </tr>\n",
       "    <tr>\n",
       "      <th>29</th>\n",
       "      <td>noRooms</td>\n",
       "      <td>0.010610</td>\n",
       "    </tr>\n",
       "    <tr>\n",
       "      <th>28</th>\n",
       "      <td>medianPictureCount_muni</td>\n",
       "      <td>0.010113</td>\n",
       "    </tr>\n",
       "    <tr>\n",
       "      <th>27</th>\n",
       "      <td>medianPictureCount_ct</td>\n",
       "      <td>0.009153</td>\n",
       "    </tr>\n",
       "    <tr>\n",
       "      <th>26</th>\n",
       "      <td>medianThermalChar_ct</td>\n",
       "      <td>0.008986</td>\n",
       "    </tr>\n",
       "    <tr>\n",
       "      <th>25</th>\n",
       "      <td>gdp_per_capita_2018</td>\n",
       "      <td>0.008302</td>\n",
       "    </tr>\n",
       "    <tr>\n",
       "      <th>24</th>\n",
       "      <td>interiorQual_luxury</td>\n",
       "      <td>0.006859</td>\n",
       "    </tr>\n",
       "    <tr>\n",
       "      <th>23</th>\n",
       "      <td>condition_first_time_use</td>\n",
       "      <td>0.006488</td>\n",
       "    </tr>\n",
       "    <tr>\n",
       "      <th>22</th>\n",
       "      <td>hasKitchen_Yes</td>\n",
       "      <td>0.006403</td>\n",
       "    </tr>\n",
       "    <tr>\n",
       "      <th>21</th>\n",
       "      <td>lift_No</td>\n",
       "      <td>0.006066</td>\n",
       "    </tr>\n",
       "    <tr>\n",
       "      <th>20</th>\n",
       "      <td>lift_Yes</td>\n",
       "      <td>0.005895</td>\n",
       "    </tr>\n",
       "    <tr>\n",
       "      <th>19</th>\n",
       "      <td>no_Listings_per_100people</td>\n",
       "      <td>0.005786</td>\n",
       "    </tr>\n",
       "  </tbody>\n",
       "</table>\n",
       "</div>"
      ],
      "text/plain": [
       "                      feature  coefficient\n",
       "38                livingSpace     0.447703\n",
       "37     medianServiceCharge_ct     0.158356\n",
       "36              serviceCharge     0.150320\n",
       "35       medianLivingSpace_ct     0.041163\n",
       "34    medianServiceCharge_zip     0.018406\n",
       "33   condition_mint_condition     0.013718\n",
       "32     medianLivingSpace_muni     0.013416\n",
       "31   medianServiceCharge_muni     0.012973\n",
       "30      medianLivingSpace_zip     0.010730\n",
       "29                    noRooms     0.010610\n",
       "28    medianPictureCount_muni     0.010113\n",
       "27      medianPictureCount_ct     0.009153\n",
       "26       medianThermalChar_ct     0.008986\n",
       "25        gdp_per_capita_2018     0.008302\n",
       "24        interiorQual_luxury     0.006859\n",
       "23   condition_first_time_use     0.006488\n",
       "22             hasKitchen_Yes     0.006403\n",
       "21                    lift_No     0.006066\n",
       "20                   lift_Yes     0.005895\n",
       "19  no_Listings_per_100people     0.005786"
      ]
     },
     "execution_count": 72,
     "metadata": {},
     "output_type": "execute_result"
    }
   ],
   "source": [
    "#View the top 20 features\n",
    "rf_search_top20_features"
   ]
  },
  {
   "cell_type": "markdown",
   "metadata": {},
   "source": [
    "### Feature importance comparison - random forest / lasso"
   ]
  },
  {
   "cell_type": "code",
   "execution_count": 73,
   "metadata": {},
   "outputs": [
    {
     "data": {
      "text/plain": [
       "['lift_No',\n",
       " 'medianLivingSpace_ct',\n",
       " 'interiorQual_luxury',\n",
       " 'medianServiceCharge_ct',\n",
       " 'medianServiceCharge_zip',\n",
       " 'livingSpace',\n",
       " 'condition_first_time_use',\n",
       " 'noRooms',\n",
       " 'medianThermalChar_ct',\n",
       " 'serviceCharge',\n",
       " 'medianPictureCount_ct',\n",
       " 'medianLivingSpace_muni']"
      ]
     },
     "execution_count": 73,
     "metadata": {},
     "output_type": "execute_result"
    }
   ],
   "source": [
    "#Get common features between lasso and random forest model\n",
    "common_features_rf_search_lasso = list(set(rf_search_top20_features.feature).intersection(set(lasso_top20_features.index)))\n",
    "common_features_rf_search_lasso"
   ]
  },
  {
   "cell_type": "code",
   "execution_count": 74,
   "metadata": {},
   "outputs": [
    {
     "data": {
      "text/plain": [
       "12"
      ]
     },
     "execution_count": 74,
     "metadata": {},
     "output_type": "execute_result"
    }
   ],
   "source": [
    "#Get count of features common to lasso and random forest\n",
    "len(common_features_rf_search_lasso)"
   ]
  },
  {
   "cell_type": "markdown",
   "metadata": {},
   "source": [
    "We observe that 13 of the top features of the lasso model were found in the random forest model. "
   ]
  },
  {
   "cell_type": "code",
   "execution_count": 75,
   "metadata": {},
   "outputs": [],
   "source": [
    "#Get features that were different between the random forest and lasso model\n",
    "diff_features_rf_search_lasso  = list(set(rf_search_top20_features.feature).difference(set(lasso_top20_features.index))) "
   ]
  },
  {
   "cell_type": "code",
   "execution_count": 76,
   "metadata": {},
   "outputs": [
    {
     "data": {
      "text/plain": [
       "['condition_mint_condition',\n",
       " 'lift_Yes',\n",
       " 'medianServiceCharge_muni',\n",
       " 'gdp_per_capita_2018',\n",
       " 'medianPictureCount_muni',\n",
       " 'medianLivingSpace_zip',\n",
       " 'no_Listings_per_100people',\n",
       " 'hasKitchen_Yes']"
      ]
     },
     "execution_count": 76,
     "metadata": {},
     "output_type": "execute_result"
    }
   ],
   "source": [
    "#Check the different features\n",
    "diff_features_rf_search_lasso"
   ]
  },
  {
   "cell_type": "markdown",
   "metadata": {},
   "source": [
    "We note that of the seven features that were not picked up in the lasso's top 20 features list by the random forest model, the medianServiceCharge_muni and medianLivingSpace_zip were in the top ten. The different selection of features may account by the better performance of the random forest model. "
   ]
  },
  {
   "cell_type": "markdown",
   "metadata": {},
   "source": [
    "## XGBoost"
   ]
  },
  {
   "cell_type": "code",
   "execution_count": 77,
   "metadata": {},
   "outputs": [],
   "source": [
    "#Instantiate XGBoost learner\n",
    "xg = xgb.XGBRegressor(objective = 'reg:squarederror', seed = 77)"
   ]
  },
  {
   "cell_type": "code",
   "execution_count": 78,
   "metadata": {},
   "outputs": [],
   "source": [
    "#Determine cross validation performance on random forest model with 5 folds\n",
    "xg_r2_scores, xg_mae_scores = cv_performance(xg, X_train, y_train, 5)"
   ]
  },
  {
   "cell_type": "code",
   "execution_count": 79,
   "metadata": {},
   "outputs": [
    {
     "data": {
      "text/plain": [
       "array([0.80900871, 0.85833366, 0.86802408, 0.88489416, 0.76239884])"
      ]
     },
     "execution_count": 79,
     "metadata": {},
     "output_type": "execute_result"
    }
   ],
   "source": [
    "#Check r2 cross validation scores\n",
    "xg_r2_scores"
   ]
  },
  {
   "cell_type": "code",
   "execution_count": 80,
   "metadata": {},
   "outputs": [
    {
     "data": {
      "text/plain": [
       "(0.8365318888465219, 0.04485358154125707)"
      ]
     },
     "execution_count": 80,
     "metadata": {},
     "output_type": "execute_result"
    }
   ],
   "source": [
    "#Check mean and standard deviation of r2 cross validation scores\n",
    "xg_r2_mean, xg_r2_std = cv_mean_std(xg_r2_scores)\n",
    "xg_r2_mean, xg_r2_std"
   ]
  },
  {
   "cell_type": "code",
   "execution_count": 81,
   "metadata": {},
   "outputs": [
    {
     "data": {
      "text/plain": [
       "(0.7916783073052648, 0.8813854703877789)"
      ]
     },
     "execution_count": 81,
     "metadata": {},
     "output_type": "execute_result"
    }
   ],
   "source": [
    "#Random forest model r2 lower and upper limits\n",
    "limits(xg_r2_mean, xg_r2_std)"
   ]
  },
  {
   "cell_type": "code",
   "execution_count": 82,
   "metadata": {},
   "outputs": [],
   "source": [
    "#Fit random forest model to data\n",
    "xg.fit(X_train, y_train);"
   ]
  },
  {
   "cell_type": "code",
   "execution_count": 83,
   "metadata": {},
   "outputs": [],
   "source": [
    "#Determine performance of random forest model on test set\n",
    "xg_r2_test_score, xg_mae_test_score = test_performance(xg)"
   ]
  },
  {
   "cell_type": "code",
   "execution_count": 84,
   "metadata": {},
   "outputs": [
    {
     "data": {
      "text/plain": [
       "0.8663888260169776"
      ]
     },
     "execution_count": 84,
     "metadata": {},
     "output_type": "execute_result"
    }
   ],
   "source": [
    "#Check r2 performance on random forest on test set\n",
    "xg_r2_test_score"
   ]
  },
  {
   "cell_type": "markdown",
   "metadata": {},
   "source": [
    "The XGBoost model seems to give us the best performance on the test set amongst all the models."
   ]
  },
  {
   "cell_type": "markdown",
   "metadata": {},
   "source": [
    "### XGBoost with feature selection"
   ]
  },
  {
   "cell_type": "markdown",
   "metadata": {},
   "source": [
    "We can pre-select features from the pre-trained xg model and see if this improves performance on the test set."
   ]
  },
  {
   "cell_type": "code",
   "execution_count": 85,
   "metadata": {},
   "outputs": [
    {
     "data": {
      "text/plain": [
       "array([0.        , 0.        , 0.        , 0.        , 0.        ,\n",
       "       0.        , 0.        , 0.        , 0.        , 0.        ,\n",
       "       0.        , 0.        , 0.        , 0.        , 0.00072222,\n",
       "       0.00080544, 0.00120936, 0.00128935, 0.00138285, 0.00139121,\n",
       "       0.00154302, 0.00168036, 0.00174509, 0.00190765, 0.00192287,\n",
       "       0.00221469, 0.00236539, 0.00253233, 0.00258082, 0.00270281,\n",
       "       0.00276909, 0.00283128, 0.00319359, 0.00344313, 0.00377566,\n",
       "       0.00412952, 0.00434641, 0.00452202, 0.00469106, 0.00504517,\n",
       "       0.00518796, 0.00537606, 0.0053806 , 0.00577374, 0.00643301,\n",
       "       0.00671737, 0.00762926, 0.00844745, 0.00855181, 0.00915374,\n",
       "       0.0097473 , 0.0107979 , 0.01081902, 0.01361468, 0.01400444,\n",
       "       0.01476694, 0.01572959, 0.01701608, 0.01861903, 0.02342467,\n",
       "       0.02583021, 0.02794931, 0.03084507, 0.03380607, 0.03872168,\n",
       "       0.04175472, 0.04349961, 0.04821541, 0.04868347, 0.05740484,\n",
       "       0.08395959, 0.11189999, 0.12349706], dtype=float32)"
      ]
     },
     "execution_count": 85,
     "metadata": {},
     "output_type": "execute_result"
    }
   ],
   "source": [
    "np.sort(xg.feature_importances_)"
   ]
  },
  {
   "cell_type": "markdown",
   "metadata": {},
   "source": [
    "We can choose a threshold of 0.001 to pre-select features. "
   ]
  },
  {
   "cell_type": "code",
   "execution_count": 86,
   "metadata": {},
   "outputs": [],
   "source": [
    "#Create a transform that pre-select features based on a threshold of 0.001\n",
    "selection = SelectFromModel(xg, threshold= 0.001, prefit=True)\n",
    "# Create array of training samples from selected features on X_train\n",
    "X_train_select = selection.transform(X_train)\n",
    "# train model\n",
    "xg_select = xgb.XGBRegressor(objective = 'reg:squarederror', seed = 77)\n",
    "xg_select.fit(X_train_select, y_train)\n",
    "# Create array of test samples from selected features on X_test\n",
    "X_test_select = selection.transform(X_test)"
   ]
  },
  {
   "cell_type": "code",
   "execution_count": 156,
   "metadata": {},
   "outputs": [],
   "source": [
    "#Determine cross validation performance on random forest model with 5 folds\n",
    "xg_r2_scores_select, xg_mae_scores_select = cv_performance(xg, X_train_select, y_train, 5)"
   ]
  },
  {
   "cell_type": "code",
   "execution_count": 157,
   "metadata": {},
   "outputs": [
    {
     "data": {
      "text/plain": [
       "(0.8375372429331858, 0.0448239716304547)"
      ]
     },
     "execution_count": 157,
     "metadata": {},
     "output_type": "execute_result"
    }
   ],
   "source": [
    "xg_r2_mean_select, xg_r2_std_select = cv_mean_std(xg_r2_scores_select)\n",
    "xg_r2_mean_select, xg_r2_std_select"
   ]
  },
  {
   "cell_type": "code",
   "execution_count": 158,
   "metadata": {},
   "outputs": [
    {
     "data": {
      "text/plain": [
       "(91.78764559942954, 0.5214401789519748)"
      ]
     },
     "execution_count": 158,
     "metadata": {},
     "output_type": "execute_result"
    }
   ],
   "source": [
    "xg_mae_mean_select, xg_mae_std_select = cv_mean_std(xg_mae_scores_select)\n",
    "xg_mae_mean_select, xg_mae_std_select"
   ]
  },
  {
   "cell_type": "code",
   "execution_count": 87,
   "metadata": {},
   "outputs": [],
   "source": [
    "#Determine performance of XGBoost model on test set after feature selection\n",
    "xg_r2_test_score_select, xg_mae_test_score_select = test_performance(xg_select, x = X_test_select, y = y_test)"
   ]
  },
  {
   "cell_type": "code",
   "execution_count": 88,
   "metadata": {
    "scrolled": true
   },
   "outputs": [
    {
     "data": {
      "text/plain": [
       "0.8629775125694632"
      ]
     },
     "execution_count": 88,
     "metadata": {},
     "output_type": "execute_result"
    }
   ],
   "source": [
    "#Check r2 performance on XGBoost on test set for pre-selected features\n",
    "xg_r2_test_score_select"
   ]
  },
  {
   "cell_type": "markdown",
   "metadata": {},
   "source": [
    "We notice a slight improvement of performance when we pre-select features."
   ]
  },
  {
   "cell_type": "markdown",
   "metadata": {},
   "source": [
    "### Hyperparameter tuning for  XGBoost"
   ]
  },
  {
   "cell_type": "code",
   "execution_count": 89,
   "metadata": {},
   "outputs": [],
   "source": [
    "#Instatiate XGBoost grid search model\n",
    "xg_grid = xgb.XGBRegressor(objective = 'reg:squarederror')"
   ]
  },
  {
   "cell_type": "code",
   "execution_count": 90,
   "metadata": {},
   "outputs": [],
   "source": [
    "#Set up search grid for XGBoost parameters\n",
    "xg_params = {'subsample': np.arange(0.1, 1, 0.1), \n",
    "                 'max_depth':np.arange(3, 5, 1),\n",
    "                 'colsample_bytree': np.arange(0.1, 1, 0.1)}"
   ]
  },
  {
   "cell_type": "code",
   "execution_count": 91,
   "metadata": {},
   "outputs": [],
   "source": [
    "#Set up randomized search with the xg boost learner over the search grid\n",
    "search_xg = RandomizedSearchCV(estimator = xg_grid, param_distributions = xg_params, n_iter = 5, \\\n",
    "                            scoring = 'r2', cv = 4, random_state = 77)"
   ]
  },
  {
   "cell_type": "code",
   "execution_count": 92,
   "metadata": {},
   "outputs": [],
   "source": [
    "#Fit xg boost learner with search grid to data\n",
    "search_xg.fit(X_train_select, y_train.values.ravel());"
   ]
  },
  {
   "cell_type": "code",
   "execution_count": 93,
   "metadata": {
    "scrolled": false
   },
   "outputs": [
    {
     "data": {
      "text/plain": [
       "{'subsample': 0.7000000000000001, 'max_depth': 4, 'colsample_bytree': 0.2}"
      ]
     },
     "execution_count": 93,
     "metadata": {},
     "output_type": "execute_result"
    }
   ],
   "source": [
    "#Check xg boost learner's best parameters\n",
    "search_xg.best_params_"
   ]
  },
  {
   "cell_type": "markdown",
   "metadata": {},
   "source": [
    "Our optimal parameters require that we subsample 70% of the observations, subsample 2% of the features and go to a maximum tree depth 4. "
   ]
  },
  {
   "cell_type": "code",
   "execution_count": 94,
   "metadata": {},
   "outputs": [],
   "source": [
    "xg_search = xgb.XGBRegressor(subsample = 0.7, max_depth = 4, colsample_bytree = 0.2, objective = 'reg:squarederror')"
   ]
  },
  {
   "cell_type": "code",
   "execution_count": 95,
   "metadata": {},
   "outputs": [],
   "source": [
    "#Determine cross validation performance on updated random forest model with 5 folds\n",
    "xg_search_r2_scores, xg_search_mae_scores = cv_performance(xg_search, X_train_select, y_train, 5)"
   ]
  },
  {
   "cell_type": "code",
   "execution_count": 96,
   "metadata": {},
   "outputs": [
    {
     "data": {
      "text/plain": [
       "array([0.79520795, 0.86690325, 0.86071585, 0.86239311, 0.74927621])"
      ]
     },
     "execution_count": 96,
     "metadata": {},
     "output_type": "execute_result"
    }
   ],
   "source": [
    "#Check updated r2 cross validation scores\n",
    "xg_search_r2_scores"
   ]
  },
  {
   "cell_type": "code",
   "execution_count": 97,
   "metadata": {},
   "outputs": [
    {
     "data": {
      "text/plain": [
       "(0.826899273211158, 0.04697525358805446)"
      ]
     },
     "execution_count": 97,
     "metadata": {},
     "output_type": "execute_result"
    }
   ],
   "source": [
    "#Check updated mean and standard deviation of r2 cross validation scores\n",
    "xg_search_r2_mean, xg_search_r2_std = cv_mean_std(xg_search_r2_scores)\n",
    "xg_search_r2_mean, xg_search_r2_std"
   ]
  },
  {
   "cell_type": "code",
   "execution_count": 98,
   "metadata": {},
   "outputs": [
    {
     "data": {
      "text/plain": [
       "(0.7799240196231035, 0.8738745267992124)"
      ]
     },
     "execution_count": 98,
     "metadata": {},
     "output_type": "execute_result"
    }
   ],
   "source": [
    "#Updated XGBoost model r2 lower and upper limits\n",
    "limits(xg_search_r2_mean, xg_search_r2_std)"
   ]
  },
  {
   "cell_type": "code",
   "execution_count": 99,
   "metadata": {},
   "outputs": [],
   "source": [
    "#Fit updated XGBoost model to data\n",
    "xg_search.fit(X_train_select, y_train);"
   ]
  },
  {
   "cell_type": "code",
   "execution_count": 100,
   "metadata": {},
   "outputs": [],
   "source": [
    "#Determine updated performance of random forest model on test set\n",
    "xg_search_r2_test_score, xg_search_mae_test_score = test_performance(xg_search, X_test_select, y_test)"
   ]
  },
  {
   "cell_type": "code",
   "execution_count": 101,
   "metadata": {},
   "outputs": [
    {
     "data": {
      "text/plain": [
       "0.8485722232643061"
      ]
     },
     "execution_count": 101,
     "metadata": {},
     "output_type": "execute_result"
    }
   ],
   "source": [
    "#Check updated r2 performance on random forest on test set\n",
    "xg_search_r2_test_score"
   ]
  },
  {
   "cell_type": "markdown",
   "metadata": {},
   "source": [
    "We observe that tuning hyperparameters did not improve our XGBoost model, even with pre-selected features."
   ]
  },
  {
   "cell_type": "markdown",
   "metadata": {},
   "source": [
    "### Feature importance - XGBoost with pre-selected features"
   ]
  },
  {
   "cell_type": "code",
   "execution_count": 102,
   "metadata": {
    "scrolled": false
   },
   "outputs": [
    {
     "data": {
      "text/plain": [
       "array([0.04868347, 0.11189999, 0.00504517, 0.01572959, 0.01081902,\n",
       "       0.00469106, 0.00258082, 0.00412952, 0.08395959, 0.01701608,\n",
       "       0.00915374, 0.02794931, 0.12349706, 0.00537606, 0.03380607,\n",
       "       0.00671737, 0.00452202, 0.0097473 , 0.00643301, 0.00518796,\n",
       "       0.00276909, 0.02342467, 0.        , 0.05740484, 0.01361468,\n",
       "       0.00377566, 0.00762926, 0.        , 0.        , 0.        ,\n",
       "       0.00270281, 0.        , 0.00434641, 0.        , 0.        ,\n",
       "       0.        , 0.00154302, 0.        , 0.02583021, 0.        ,\n",
       "       0.0053806 , 0.        , 0.01400444, 0.        , 0.03872168,\n",
       "       0.00577374, 0.00221469, 0.01476694, 0.00174509, 0.00283128,\n",
       "       0.00190765, 0.00319359, 0.        , 0.00253233, 0.0107979 ,\n",
       "       0.04821541, 0.03084507, 0.00344313, 0.01861903, 0.00236539,\n",
       "       0.04349961, 0.        , 0.00138285, 0.00168036, 0.00128935,\n",
       "       0.00120936, 0.00139121, 0.00192287, 0.00844745, 0.00072222,\n",
       "       0.04175472, 0.00080544, 0.00855181], dtype=float32)"
      ]
     },
     "execution_count": 102,
     "metadata": {},
     "output_type": "execute_result"
    }
   ],
   "source": [
    "#Get feature importance for XGBoost model\n",
    "xg.feature_importances_"
   ]
  },
  {
   "cell_type": "code",
   "execution_count": 103,
   "metadata": {},
   "outputs": [],
   "source": [
    "#X_features[xg.feature_importances_ >= 0.001]"
   ]
  },
  {
   "cell_type": "code",
   "execution_count": 104,
   "metadata": {},
   "outputs": [
    {
     "data": {
      "text/html": [
       "<div>\n",
       "<style scoped>\n",
       "    .dataframe tbody tr th:only-of-type {\n",
       "        vertical-align: middle;\n",
       "    }\n",
       "\n",
       "    .dataframe tbody tr th {\n",
       "        vertical-align: top;\n",
       "    }\n",
       "\n",
       "    .dataframe thead th {\n",
       "        text-align: right;\n",
       "    }\n",
       "</style>\n",
       "<table border=\"1\" class=\"dataframe\">\n",
       "  <thead>\n",
       "    <tr style=\"text-align: right;\">\n",
       "      <th></th>\n",
       "      <th>feature</th>\n",
       "      <th>coefficient</th>\n",
       "    </tr>\n",
       "  </thead>\n",
       "  <tbody>\n",
       "    <tr>\n",
       "      <th>0</th>\n",
       "      <td>state_Baden_Württemberg</td>\n",
       "      <td>0.0</td>\n",
       "    </tr>\n",
       "    <tr>\n",
       "      <th>1</th>\n",
       "      <td>lift_Yes</td>\n",
       "      <td>0.0</td>\n",
       "    </tr>\n",
       "    <tr>\n",
       "      <th>2</th>\n",
       "      <td>state_Sachsen</td>\n",
       "      <td>0.0</td>\n",
       "    </tr>\n",
       "    <tr>\n",
       "      <th>3</th>\n",
       "      <td>state_Mecklenburg_Vorpommern</td>\n",
       "      <td>0.0</td>\n",
       "    </tr>\n",
       "    <tr>\n",
       "      <th>4</th>\n",
       "      <td>state_Hessen</td>\n",
       "      <td>0.0</td>\n",
       "    </tr>\n",
       "  </tbody>\n",
       "</table>\n",
       "</div>"
      ],
      "text/plain": [
       "                        feature  coefficient\n",
       "0       state_Baden_Württemberg          0.0\n",
       "1                      lift_Yes          0.0\n",
       "2                 state_Sachsen          0.0\n",
       "3  state_Mecklenburg_Vorpommern          0.0\n",
       "4                  state_Hessen          0.0"
      ]
     },
     "execution_count": 104,
     "metadata": {},
     "output_type": "execute_result"
    }
   ],
   "source": [
    "#Create XGBoost coefficent data frame\n",
    "xg_coeff_df = pd.DataFrame(xg.feature_importances_, index = X_features, columns = ['coefficient']).\\\n",
    "sort_values(by = 'coefficient').reset_index().rename(columns = {'index': 'feature'})\n",
    "xg_coeff_df.head()"
   ]
  },
  {
   "cell_type": "code",
   "execution_count": 105,
   "metadata": {
    "scrolled": false
   },
   "outputs": [
    {
     "data": {
      "image/png": "[encoded data removed]",
      "text/plain": [
       "<Figure size 1296x360 with 1 Axes>"
      ]
     },
     "metadata": {
      "needs_background": "light"
     },
     "output_type": "display_data"
    }
   ],
   "source": [
    "#View plot of features and their significance\n",
    "xg_coeff_df.plot.bar(x = 'feature', y = 'coefficient', figsize = (18, 5))\n",
    "plt.title('Plot of feature coefficient versus feature')\n",
    "plt.xlabel('Feature')\n",
    "plt.ylabel('XGBoost coefficients')\n",
    "plt.savefig('..\\\\reports\\\\figures\\\\xg_feat.png', bbox_inches=\"tight\");"
   ]
  },
  {
   "cell_type": "code",
   "execution_count": 106,
   "metadata": {},
   "outputs": [],
   "source": [
    "#Create dataframe of the top 20 features\n",
    "xg_feature_importance = xg_coeff_df.set_index('feature')\n",
    "xg_top20_features = xg_coeff_df.sort_values(by = 'coefficient', ascending = False)[:20]"
   ]
  },
  {
   "cell_type": "code",
   "execution_count": 107,
   "metadata": {},
   "outputs": [
    {
     "data": {
      "text/html": [
       "<div>\n",
       "<style scoped>\n",
       "    .dataframe tbody tr th:only-of-type {\n",
       "        vertical-align: middle;\n",
       "    }\n",
       "\n",
       "    .dataframe tbody tr th {\n",
       "        vertical-align: top;\n",
       "    }\n",
       "\n",
       "    .dataframe thead th {\n",
       "        text-align: right;\n",
       "    }\n",
       "</style>\n",
       "<table border=\"1\" class=\"dataframe\">\n",
       "  <thead>\n",
       "    <tr style=\"text-align: right;\">\n",
       "      <th></th>\n",
       "      <th>feature</th>\n",
       "      <th>coefficient</th>\n",
       "    </tr>\n",
       "  </thead>\n",
       "  <tbody>\n",
       "    <tr>\n",
       "      <th>72</th>\n",
       "      <td>medianServiceCharge_ct</td>\n",
       "      <td>0.123497</td>\n",
       "    </tr>\n",
       "    <tr>\n",
       "      <th>71</th>\n",
       "      <td>livingSpace</td>\n",
       "      <td>0.111900</td>\n",
       "    </tr>\n",
       "    <tr>\n",
       "      <th>70</th>\n",
       "      <td>medianHeatingCosts_state</td>\n",
       "      <td>0.083960</td>\n",
       "    </tr>\n",
       "    <tr>\n",
       "      <th>69</th>\n",
       "      <td>state_Bayern</td>\n",
       "      <td>0.057405</td>\n",
       "    </tr>\n",
       "    <tr>\n",
       "      <th>68</th>\n",
       "      <td>serviceCharge</td>\n",
       "      <td>0.048683</td>\n",
       "    </tr>\n",
       "    <tr>\n",
       "      <th>67</th>\n",
       "      <td>interiorQual_luxury</td>\n",
       "      <td>0.048215</td>\n",
       "    </tr>\n",
       "    <tr>\n",
       "      <th>66</th>\n",
       "      <td>lift_No</td>\n",
       "      <td>0.043500</td>\n",
       "    </tr>\n",
       "    <tr>\n",
       "      <th>65</th>\n",
       "      <td>typeOfFlat_roof_storey</td>\n",
       "      <td>0.041755</td>\n",
       "    </tr>\n",
       "    <tr>\n",
       "      <th>64</th>\n",
       "      <td>condition_first_time_use</td>\n",
       "      <td>0.038722</td>\n",
       "    </tr>\n",
       "    <tr>\n",
       "      <th>63</th>\n",
       "      <td>medianPictureCount_ct</td>\n",
       "      <td>0.033806</td>\n",
       "    </tr>\n",
       "    <tr>\n",
       "      <th>62</th>\n",
       "      <td>interiorQual_normal</td>\n",
       "      <td>0.030845</td>\n",
       "    </tr>\n",
       "    <tr>\n",
       "      <th>61</th>\n",
       "      <td>medianLivingSpace_ct</td>\n",
       "      <td>0.027949</td>\n",
       "    </tr>\n",
       "    <tr>\n",
       "      <th>60</th>\n",
       "      <td>newlyConst_No</td>\n",
       "      <td>0.025830</td>\n",
       "    </tr>\n",
       "    <tr>\n",
       "      <th>59</th>\n",
       "      <td>medianServiceCharge_zip</td>\n",
       "      <td>0.023425</td>\n",
       "    </tr>\n",
       "    <tr>\n",
       "      <th>58</th>\n",
       "      <td>interiorQual_sophisticated</td>\n",
       "      <td>0.018619</td>\n",
       "    </tr>\n",
       "    <tr>\n",
       "      <th>57</th>\n",
       "      <td>medianPictureCount_state</td>\n",
       "      <td>0.017016</td>\n",
       "    </tr>\n",
       "    <tr>\n",
       "      <th>56</th>\n",
       "      <td>gdp_per_capita_2018</td>\n",
       "      <td>0.015730</td>\n",
       "    </tr>\n",
       "    <tr>\n",
       "      <th>55</th>\n",
       "      <td>condition_mint_condition</td>\n",
       "      <td>0.014767</td>\n",
       "    </tr>\n",
       "    <tr>\n",
       "      <th>54</th>\n",
       "      <td>hasKitchen_No</td>\n",
       "      <td>0.014004</td>\n",
       "    </tr>\n",
       "    <tr>\n",
       "      <th>53</th>\n",
       "      <td>state_Berlin</td>\n",
       "      <td>0.013615</td>\n",
       "    </tr>\n",
       "  </tbody>\n",
       "</table>\n",
       "</div>"
      ],
      "text/plain": [
       "                       feature  coefficient\n",
       "72      medianServiceCharge_ct     0.123497\n",
       "71                 livingSpace     0.111900\n",
       "70    medianHeatingCosts_state     0.083960\n",
       "69                state_Bayern     0.057405\n",
       "68               serviceCharge     0.048683\n",
       "67         interiorQual_luxury     0.048215\n",
       "66                     lift_No     0.043500\n",
       "65      typeOfFlat_roof_storey     0.041755\n",
       "64    condition_first_time_use     0.038722\n",
       "63       medianPictureCount_ct     0.033806\n",
       "62         interiorQual_normal     0.030845\n",
       "61        medianLivingSpace_ct     0.027949\n",
       "60               newlyConst_No     0.025830\n",
       "59     medianServiceCharge_zip     0.023425\n",
       "58  interiorQual_sophisticated     0.018619\n",
       "57    medianPictureCount_state     0.017016\n",
       "56         gdp_per_capita_2018     0.015730\n",
       "55    condition_mint_condition     0.014767\n",
       "54               hasKitchen_No     0.014004\n",
       "53                state_Berlin     0.013615"
      ]
     },
     "execution_count": 107,
     "metadata": {},
     "output_type": "execute_result"
    }
   ],
   "source": [
    "#View the top 20 features\n",
    "xg_top20_features"
   ]
  },
  {
   "cell_type": "markdown",
   "metadata": {},
   "source": [
    "### Feature importance comparison - XGBoost / lasso & random forest"
   ]
  },
  {
   "cell_type": "code",
   "execution_count": 108,
   "metadata": {},
   "outputs": [
    {
     "data": {
      "text/plain": [
       "['state_Berlin',\n",
       " 'hasKitchen_No',\n",
       " 'lift_No',\n",
       " 'medianLivingSpace_ct',\n",
       " 'interiorQual_luxury',\n",
       " 'medianHeatingCosts_state',\n",
       " 'medianServiceCharge_ct',\n",
       " 'medianServiceCharge_zip',\n",
       " 'livingSpace',\n",
       " 'condition_first_time_use',\n",
       " 'serviceCharge',\n",
       " 'medianPictureCount_ct',\n",
       " 'newlyConst_No']"
      ]
     },
     "execution_count": 108,
     "metadata": {},
     "output_type": "execute_result"
    }
   ],
   "source": [
    "#Get common features between lasso and XGBoost model\n",
    "common_features_xg_lasso = list(set(xg_top20_features.feature).intersection(set(lasso_top20_features.index)))\n",
    "common_features_xg_lasso"
   ]
  },
  {
   "cell_type": "code",
   "execution_count": 109,
   "metadata": {},
   "outputs": [
    {
     "data": {
      "text/plain": [
       "13"
      ]
     },
     "execution_count": 109,
     "metadata": {},
     "output_type": "execute_result"
    }
   ],
   "source": [
    "#Count of common features\n",
    "len(common_features_xg_lasso)"
   ]
  },
  {
   "cell_type": "markdown",
   "metadata": {},
   "source": [
    "We note that the XGBoost and lasso models share 14 of the top 20 features."
   ]
  },
  {
   "cell_type": "code",
   "execution_count": 110,
   "metadata": {},
   "outputs": [
    {
     "data": {
      "text/plain": [
       "['condition_mint_condition',\n",
       " 'lift_No',\n",
       " 'medianLivingSpace_ct',\n",
       " 'interiorQual_luxury',\n",
       " 'medianServiceCharge_ct',\n",
       " 'medianServiceCharge_zip',\n",
       " 'livingSpace',\n",
       " 'condition_first_time_use',\n",
       " 'gdp_per_capita_2018',\n",
       " 'serviceCharge',\n",
       " 'medianPictureCount_ct']"
      ]
     },
     "execution_count": 110,
     "metadata": {},
     "output_type": "execute_result"
    }
   ],
   "source": [
    "#Get common features between random forest and XGBoost model\n",
    "common_features_xg_rf_search = list(set(xg_top20_features.feature).intersection(set(rf_search_top20_features.feature)))\n",
    "common_features_xg_rf_search"
   ]
  },
  {
   "cell_type": "code",
   "execution_count": 111,
   "metadata": {},
   "outputs": [
    {
     "data": {
      "text/plain": [
       "11"
      ]
     },
     "execution_count": 111,
     "metadata": {},
     "output_type": "execute_result"
    }
   ],
   "source": [
    "#Count of common features\n",
    "len(common_features_xg_rf_search)"
   ]
  },
  {
   "cell_type": "markdown",
   "metadata": {},
   "source": [
    "We note that XGBoost and random forest model only share 11 of the top 20 features. We would have expected them to share more features since they both employ tree-induction for creating models."
   ]
  },
  {
   "cell_type": "code",
   "execution_count": 112,
   "metadata": {},
   "outputs": [],
   "source": [
    "#Get features that were different between the XGBoost and lasso model\n",
    "diff_features_xg_lasso  = list(set(xg_top20_features.feature).difference(set(lasso_top20_features.index))) "
   ]
  },
  {
   "cell_type": "code",
   "execution_count": 113,
   "metadata": {
    "scrolled": true
   },
   "outputs": [
    {
     "data": {
      "text/plain": [
       "['condition_mint_condition',\n",
       " 'medianPictureCount_state',\n",
       " 'typeOfFlat_roof_storey',\n",
       " 'gdp_per_capita_2018',\n",
       " 'interiorQual_sophisticated',\n",
       " 'interiorQual_normal',\n",
       " 'state_Bayern']"
      ]
     },
     "execution_count": 113,
     "metadata": {},
     "output_type": "execute_result"
    }
   ],
   "source": [
    "#Check the different features\n",
    "diff_features_xg_lasso"
   ]
  },
  {
   "cell_type": "code",
   "execution_count": 114,
   "metadata": {},
   "outputs": [],
   "source": [
    "#Get features that were different between the random forest and XGBoost \n",
    "diff_features_xg_rf_search  = list(set(xg_top20_features.feature).difference(set(rf_search_top20_features.feature))) "
   ]
  },
  {
   "cell_type": "code",
   "execution_count": 115,
   "metadata": {},
   "outputs": [
    {
     "data": {
      "text/plain": [
       "['state_Berlin',\n",
       " 'hasKitchen_No',\n",
       " 'medianPictureCount_state',\n",
       " 'medianHeatingCosts_state',\n",
       " 'typeOfFlat_roof_storey',\n",
       " 'interiorQual_sophisticated',\n",
       " 'interiorQual_normal',\n",
       " 'state_Bayern',\n",
       " 'newlyConst_No']"
      ]
     },
     "execution_count": 115,
     "metadata": {},
     "output_type": "execute_result"
    }
   ],
   "source": [
    "#Check the different features\n",
    "diff_features_xg_rf_search"
   ]
  },
  {
   "cell_type": "markdown",
   "metadata": {},
   "source": [
    "### Most common features between all models"
   ]
  },
  {
   "cell_type": "code",
   "execution_count": 116,
   "metadata": {},
   "outputs": [
    {
     "data": {
      "text/plain": [
       "['medianLivingSpace_ct',\n",
       " 'interiorQual_luxury',\n",
       " 'medianServiceCharge_ct',\n",
       " 'medianServiceCharge_zip',\n",
       " 'livingSpace',\n",
       " 'condition_first_time_use',\n",
       " 'serviceCharge',\n",
       " 'medianPictureCount_ct']"
      ]
     },
     "execution_count": 116,
     "metadata": {},
     "output_type": "execute_result"
    }
   ],
   "source": [
    "#Get common features between random forest and XGBoost model\n",
    "common_features_all = list(set(xg_top20_features.feature).intersection(set(rf_search_top20_features.feature))\\\n",
    "                          .intersection(set(ridge_top20_features.index))\\\n",
    "                          .intersection(set(lasso_top20_features.index)))\n",
    "common_features_all"
   ]
  },
  {
   "cell_type": "markdown",
   "metadata": {},
   "source": [
    "For all algorithms, the most important features were\n",
    "- medianServiceCharge_ct\n",
    "- medianLivingSpace_ct\n",
    "- livingSpace\n",
    "- medianPictureCount_ct\n",
    "- interiorQual_luxury\n",
    "- condition_first_time_use\n",
    "- medianServiceCharge_zip\n",
    "- serviceCharge\n",
    "\n",
    "Of these features the landlord has control over the living area, interior quality, service charge and first-time-use. In reality, if a landlord wants to implement a change, only the interior quality can be affected. "
   ]
  },
  {
   "cell_type": "markdown",
   "metadata": {},
   "source": [
    "# Choosing a model"
   ]
  },
  {
   "cell_type": "markdown",
   "metadata": {},
   "source": [
    "## Performance Summary"
   ]
  },
  {
   "cell_type": "code",
   "execution_count": 117,
   "metadata": {},
   "outputs": [],
   "source": [
    "#Define r2 metrics data frame\n",
    "trial_models = ['lasso', 'ridge', 'random_forest', 'random_forest_selection','random_forest_hyper', 'XGBoost', 'XGBoost_selection', 'XGBoost_hyper']\n",
    "r2_metrics = ['r2_cv_mean', 'r2_cv_std', 'r2_test_score']\n",
    "r2_mean = [lasso_r2_mean, ridge_r2_mean, rf_r2_mean, np.nan, rf_search_r2_mean, xg_r2_mean, np.nan, xg_search_r2_mean]\n",
    "r2_std = [lasso_r2_std, ridge_r2_std, rf_r2_std, np.nan, rf_search_r2_std, xg_r2_std, np.nan, xg_search_r2_std]\n",
    "r2_test = [lasso_r2_test_score, ridge_r2_test_score, rf_r2_test_score, rf_r2_test_score_select, rf_search_r2_test_score, \\\n",
    "           xg_r2_test_score, xg_r2_test_score_select, xg_search_r2_test_score]\n",
    "r2_performance= [r2_mean, r2_std, r2_test]\n",
    "r2_performance_df = pd.DataFrame(r2_performance, columns = trial_models, index = r2_metrics).T \\\n",
    "                    .sort_values(by = 'r2_test_score', ascending = False)\n",
    "\n",
    "#Define mae metrics data frame\n",
    "mae_metrics=['mae_cv_mean', 'mae_cv_std', 'mae_test_score']\n",
    "mae_mean = [lasso_mae_scores.mean(), ridge_mae_scores.mean(), rf_mae_scores.mean(), np.nan, rf_search_mae_scores.mean(),\\\n",
    "            xg_mae_scores.mean(), np.nan, xg_search_mae_scores.mean()]\n",
    "mae_std = [lasso_mae_scores.std(), ridge_mae_scores.std(), rf_mae_scores.std(), np.nan, rf_search_mae_scores.std(), \\\n",
    "           xg_mae_scores.std(), np.nan, xg_search_mae_scores.std()]\n",
    "mae_test = [lasso_mae_test_score, ridge_mae_test_score, rf_mae_test_score, rf_mae_test_score_select, \\\n",
    "            rf_search_mae_test_score, xg_mae_test_score, xg_mae_test_score_select, xg_search_mae_test_score]\n",
    "mae_performance= [mae_mean, mae_std, mae_test]\n",
    "mae_performance_df = pd.DataFrame(mae_performance, columns = trial_models, index = mae_metrics).T \\\n",
    "                    .sort_values(by = 'mae_test_score')"
   ]
  },
  {
   "cell_type": "code",
   "execution_count": 118,
   "metadata": {
    "scrolled": true
   },
   "outputs": [
    {
     "data": {
      "text/html": [
       "<div>\n",
       "<style scoped>\n",
       "    .dataframe tbody tr th:only-of-type {\n",
       "        vertical-align: middle;\n",
       "    }\n",
       "\n",
       "    .dataframe tbody tr th {\n",
       "        vertical-align: top;\n",
       "    }\n",
       "\n",
       "    .dataframe thead th {\n",
       "        text-align: right;\n",
       "    }\n",
       "</style>\n",
       "<table border=\"1\" class=\"dataframe\">\n",
       "  <thead>\n",
       "    <tr style=\"text-align: right;\">\n",
       "      <th></th>\n",
       "      <th>r2_cv_mean</th>\n",
       "      <th>r2_cv_std</th>\n",
       "      <th>r2_test_score</th>\n",
       "    </tr>\n",
       "  </thead>\n",
       "  <tbody>\n",
       "    <tr>\n",
       "      <th>XGBoost</th>\n",
       "      <td>0.836532</td>\n",
       "      <td>0.044854</td>\n",
       "      <td>0.866389</td>\n",
       "    </tr>\n",
       "    <tr>\n",
       "      <th>XGBoost_selection</th>\n",
       "      <td>NaN</td>\n",
       "      <td>NaN</td>\n",
       "      <td>0.862978</td>\n",
       "    </tr>\n",
       "    <tr>\n",
       "      <th>random_forest_hyper</th>\n",
       "      <td>0.818648</td>\n",
       "      <td>0.047364</td>\n",
       "      <td>0.860782</td>\n",
       "    </tr>\n",
       "    <tr>\n",
       "      <th>XGBoost_hyper</th>\n",
       "      <td>0.826899</td>\n",
       "      <td>0.046975</td>\n",
       "      <td>0.848572</td>\n",
       "    </tr>\n",
       "    <tr>\n",
       "      <th>random_forest_selection</th>\n",
       "      <td>NaN</td>\n",
       "      <td>NaN</td>\n",
       "      <td>0.847574</td>\n",
       "    </tr>\n",
       "    <tr>\n",
       "      <th>random_forest</th>\n",
       "      <td>0.807294</td>\n",
       "      <td>0.048849</td>\n",
       "      <td>0.840960</td>\n",
       "    </tr>\n",
       "    <tr>\n",
       "      <th>ridge</th>\n",
       "      <td>0.729952</td>\n",
       "      <td>0.048219</td>\n",
       "      <td>0.747883</td>\n",
       "    </tr>\n",
       "    <tr>\n",
       "      <th>lasso</th>\n",
       "      <td>0.729762</td>\n",
       "      <td>0.048253</td>\n",
       "      <td>0.747457</td>\n",
       "    </tr>\n",
       "  </tbody>\n",
       "</table>\n",
       "</div>"
      ],
      "text/plain": [
       "                         r2_cv_mean  r2_cv_std  r2_test_score\n",
       "XGBoost                    0.836532   0.044854       0.866389\n",
       "XGBoost_selection               NaN        NaN       0.862978\n",
       "random_forest_hyper        0.818648   0.047364       0.860782\n",
       "XGBoost_hyper              0.826899   0.046975       0.848572\n",
       "random_forest_selection         NaN        NaN       0.847574\n",
       "random_forest              0.807294   0.048849       0.840960\n",
       "ridge                      0.729952   0.048219       0.747883\n",
       "lasso                      0.729762   0.048253       0.747457"
      ]
     },
     "execution_count": 118,
     "metadata": {},
     "output_type": "execute_result"
    }
   ],
   "source": [
    "#Check r2 performance\n",
    "r2_performance_df"
   ]
  },
  {
   "cell_type": "code",
   "execution_count": 119,
   "metadata": {
    "scrolled": false
   },
   "outputs": [
    {
     "data": {
      "text/html": [
       "<div>\n",
       "<style scoped>\n",
       "    .dataframe tbody tr th:only-of-type {\n",
       "        vertical-align: middle;\n",
       "    }\n",
       "\n",
       "    .dataframe tbody tr th {\n",
       "        vertical-align: top;\n",
       "    }\n",
       "\n",
       "    .dataframe thead th {\n",
       "        text-align: right;\n",
       "    }\n",
       "</style>\n",
       "<table border=\"1\" class=\"dataframe\">\n",
       "  <thead>\n",
       "    <tr style=\"text-align: right;\">\n",
       "      <th></th>\n",
       "      <th>mae_cv_mean</th>\n",
       "      <th>mae_cv_std</th>\n",
       "      <th>mae_test_score</th>\n",
       "    </tr>\n",
       "  </thead>\n",
       "  <tbody>\n",
       "    <tr>\n",
       "      <th>random_forest_hyper</th>\n",
       "      <td>91.337247</td>\n",
       "      <td>0.669637</td>\n",
       "      <td>90.336524</td>\n",
       "    </tr>\n",
       "    <tr>\n",
       "      <th>XGBoost</th>\n",
       "      <td>91.902259</td>\n",
       "      <td>0.307327</td>\n",
       "      <td>92.041157</td>\n",
       "    </tr>\n",
       "    <tr>\n",
       "      <th>XGBoost_selection</th>\n",
       "      <td>NaN</td>\n",
       "      <td>NaN</td>\n",
       "      <td>92.144845</td>\n",
       "    </tr>\n",
       "    <tr>\n",
       "      <th>random_forest_selection</th>\n",
       "      <td>NaN</td>\n",
       "      <td>NaN</td>\n",
       "      <td>97.186340</td>\n",
       "    </tr>\n",
       "    <tr>\n",
       "      <th>random_forest</th>\n",
       "      <td>97.298110</td>\n",
       "      <td>0.804761</td>\n",
       "      <td>97.204507</td>\n",
       "    </tr>\n",
       "    <tr>\n",
       "      <th>XGBoost_hyper</th>\n",
       "      <td>103.523572</td>\n",
       "      <td>0.347806</td>\n",
       "      <td>103.489348</td>\n",
       "    </tr>\n",
       "    <tr>\n",
       "      <th>lasso</th>\n",
       "      <td>145.628883</td>\n",
       "      <td>0.806688</td>\n",
       "      <td>146.490239</td>\n",
       "    </tr>\n",
       "    <tr>\n",
       "      <th>ridge</th>\n",
       "      <td>146.351692</td>\n",
       "      <td>0.822028</td>\n",
       "      <td>147.196439</td>\n",
       "    </tr>\n",
       "  </tbody>\n",
       "</table>\n",
       "</div>"
      ],
      "text/plain": [
       "                         mae_cv_mean  mae_cv_std  mae_test_score\n",
       "random_forest_hyper        91.337247    0.669637       90.336524\n",
       "XGBoost                    91.902259    0.307327       92.041157\n",
       "XGBoost_selection                NaN         NaN       92.144845\n",
       "random_forest_selection          NaN         NaN       97.186340\n",
       "random_forest              97.298110    0.804761       97.204507\n",
       "XGBoost_hyper             103.523572    0.347806      103.489348\n",
       "lasso                     145.628883    0.806688      146.490239\n",
       "ridge                     146.351692    0.822028      147.196439"
      ]
     },
     "execution_count": 119,
     "metadata": {},
     "output_type": "execute_result"
    }
   ],
   "source": [
    "#Check mae performance\n",
    "mae_performance_df"
   ]
  },
  {
   "cell_type": "markdown",
   "metadata": {},
   "source": [
    "Our best models are the random forest and the XGBoost models. The XGBoost performs better on the r2 measure, while the random forest model performs better on the mean absolute error score.\n",
    "\n",
    "The linear models (lasso and ridge) have lower standard deviations on the r2 score than the tree induction models. \n",
    "\n",
    "We will select the random forest model with pre-selected features and tuned parameters because it offers the best mean absolute error score and the r2 score is acceptable."
   ]
  },
  {
   "cell_type": "markdown",
   "metadata": {},
   "source": [
    "## Final model training"
   ]
  },
  {
   "cell_type": "code",
   "execution_count": 120,
   "metadata": {},
   "outputs": [],
   "source": [
    "final_model = xgb.XGBRegressor(objective = 'reg:squarederror', seed = 77)"
   ]
  },
  {
   "cell_type": "code",
   "execution_count": 121,
   "metadata": {},
   "outputs": [],
   "source": [
    "final_model.fit(X_scaled, y);"
   ]
  },
  {
   "cell_type": "code",
   "execution_count": 122,
   "metadata": {},
   "outputs": [],
   "source": [
    "final_r2_scores, final_mae_scores = cv_performance(final_model, X_scaled, y, 5)"
   ]
  },
  {
   "cell_type": "code",
   "execution_count": 123,
   "metadata": {},
   "outputs": [
    {
     "data": {
      "text/plain": [
       "(0.7738711553428173, 0.07320635686352914)"
      ]
     },
     "execution_count": 123,
     "metadata": {},
     "output_type": "execute_result"
    }
   ],
   "source": [
    "final_r2_mean, final_r2_std = cv_mean_std(final_r2_scores)\n",
    "final_r2_mean, final_r2_std"
   ]
  },
  {
   "cell_type": "code",
   "execution_count": 124,
   "metadata": {},
   "outputs": [
    {
     "data": {
      "text/plain": [
       "(114.73370171903966, 29.65766733934894)"
      ]
     },
     "execution_count": 124,
     "metadata": {},
     "output_type": "execute_result"
    }
   ],
   "source": [
    "final_mae_mean, final_mae_std = cv_mean_std(final_mae_scores)\n",
    "final_mae_mean, final_mae_std"
   ]
  },
  {
   "cell_type": "markdown",
   "metadata": {},
   "source": [
    "## Viewing the residual plots of XGBoost predictions"
   ]
  },
  {
   "cell_type": "code",
   "execution_count": 144,
   "metadata": {
    "scrolled": false
   },
   "outputs": [
    {
     "name": "stdout",
     "output_type": "stream",
     "text": [
      "XGBoost predictions: median residual = -5.0, mean residual =  0.0, std = 157.7,skew =  46.5097, kurtosis = 9313.48\n"
     ]
    },
    {
     "data": {
      "image/png": "[encoded data removed]",
      "text/plain": [
       "<Figure size 1080x432 with 2 Axes>"
      ]
     },
     "metadata": {
      "needs_background": "light"
     },
     "output_type": "display_data"
    }
   ],
   "source": [
    "def residual_plot(y_test, y_predicted, main_title):\n",
    "    res =  y_test - y_predicted\n",
    "    fig, axs = plt.subplots(1, 2, figsize=(15, 6))\n",
    "    print(f'{main_title}: median residual = {res.median():.1f}, mean residual =  {res.mean():.1f}, std = {res.std():.1f},skew =  {res.skew():.4f}, kurtosis = {res.kurtosis():.2f}')\n",
    "    axs[0].title.set_text('Plot of true rents vs residuals')\n",
    "    axs[0].scatter(y_test, res)\n",
    "    axs[0].set_xlabel('True rent (€)')\n",
    "    axs[0].set_ylabel('Residual (€)')\n",
    "    axs[0].axhline(0, color = 'r', alpha = 0.5, linestyle = '--')\n",
    "\n",
    "    axs[1].title.set_text('Histogram of residuals')\n",
    "    sns.kdeplot(res, shade = 'fill', ax = axs[1])\n",
    "    axs[1].set_xlabel('Residual (€)')\n",
    "    \n",
    "    fig.savefig('..\\\\reports\\\\figures\\\\residual_plots.png', bbox_inches= 'tight');\n",
    "    plt.show()\n",
    "\n",
    "residual_plot(y, final_model.predict(X_scaled) ,\"XGBoost predictions\")\n"
   ]
  },
  {
   "cell_type": "markdown",
   "metadata": {},
   "source": [
    "We note that the distribution of the residuals is skewed to the right due to the outliers in the dataset. That said, a mean residual of zero is good. "
   ]
  },
  {
   "cell_type": "markdown",
   "metadata": {},
   "source": [
    "## Model application "
   ]
  },
  {
   "cell_type": "code",
   "execution_count": 126,
   "metadata": {},
   "outputs": [],
   "source": [
    "application_set_y = application_df.baseRent"
   ]
  },
  {
   "cell_type": "code",
   "execution_count": 127,
   "metadata": {},
   "outputs": [
    {
     "data": {
      "text/plain": [
       "263051    775.0\n",
       "167352    550.0\n",
       "44685     250.0\n",
       "27092     280.1\n",
       "111161    670.0\n",
       "Name: baseRent, dtype: float64"
      ]
     },
     "execution_count": 127,
     "metadata": {},
     "output_type": "execute_result"
    }
   ],
   "source": [
    "application_set_y.head()"
   ]
  },
  {
   "cell_type": "code",
   "execution_count": 128,
   "metadata": {},
   "outputs": [],
   "source": [
    "application_df.drop(columns = ['baseRent'], inplace = True)"
   ]
  },
  {
   "cell_type": "code",
   "execution_count": 129,
   "metadata": {},
   "outputs": [
    {
     "data": {
      "text/plain": [
       "73"
      ]
     },
     "execution_count": 129,
     "metadata": {},
     "output_type": "execute_result"
    }
   ],
   "source": [
    "len(application_df.columns)"
   ]
  },
  {
   "cell_type": "code",
   "execution_count": 130,
   "metadata": {},
   "outputs": [],
   "source": [
    "#Initiating a pre-processing pipeline\n",
    "#Create list of numeric features and define a numeric transformer\n",
    "numeric_features = application_df.select_dtypes(['float64', 'int64']).columns.to_list()\n",
    "numeric_transformer = Pipeline(steps = [('imputer', SimpleImputer(missing_values = np.nan, strategy = 'median')), \\\n",
    "                                        ('scaler', StandardScaler(with_mean= False))])"
   ]
  },
  {
   "cell_type": "code",
   "execution_count": 131,
   "metadata": {},
   "outputs": [],
   "source": [
    "#Apply transformer to data\n",
    "transformed_data = numeric_transformer.fit_transform(application_df)"
   ]
  },
  {
   "cell_type": "code",
   "execution_count": 132,
   "metadata": {},
   "outputs": [
    {
     "data": {
      "text/html": [
       "<div>\n",
       "<style scoped>\n",
       "    .dataframe tbody tr th:only-of-type {\n",
       "        vertical-align: middle;\n",
       "    }\n",
       "\n",
       "    .dataframe tbody tr th {\n",
       "        vertical-align: top;\n",
       "    }\n",
       "\n",
       "    .dataframe thead th {\n",
       "        text-align: right;\n",
       "    }\n",
       "</style>\n",
       "<table border=\"1\" class=\"dataframe\">\n",
       "  <thead>\n",
       "    <tr style=\"text-align: right;\">\n",
       "      <th></th>\n",
       "      <th>serviceCharge</th>\n",
       "      <th>livingSpace</th>\n",
       "      <th>noRooms</th>\n",
       "      <th>gdp_per_capita_2018</th>\n",
       "      <th>hdi_2018</th>\n",
       "      <th>medianLivingSpace_state</th>\n",
       "      <th>medianServiceCharge_state</th>\n",
       "      <th>medianThermalChar_state</th>\n",
       "      <th>medianHeatingCosts_state</th>\n",
       "      <th>medianPictureCount_state</th>\n",
       "      <th>...</th>\n",
       "      <th>typeOfFlat_ground_floor</th>\n",
       "      <th>typeOfFlat_half_basement</th>\n",
       "      <th>typeOfFlat_loft</th>\n",
       "      <th>typeOfFlat_maisonette</th>\n",
       "      <th>typeOfFlat_other</th>\n",
       "      <th>typeOfFlat_penthouse</th>\n",
       "      <th>typeOfFlat_raised_ground_floor</th>\n",
       "      <th>typeOfFlat_roof_storey</th>\n",
       "      <th>typeOfFlat_terraced_flat</th>\n",
       "      <th>typeOfFlat_unknown</th>\n",
       "    </tr>\n",
       "  </thead>\n",
       "  <tbody>\n",
       "    <tr>\n",
       "      <th>0</th>\n",
       "      <td>3.440924</td>\n",
       "      <td>9.509119</td>\n",
       "      <td>3.0</td>\n",
       "      <td>4.448825</td>\n",
       "      <td>63.595016</td>\n",
       "      <td>8.602316</td>\n",
       "      <td>3.914468</td>\n",
       "      <td>10.885780</td>\n",
       "      <td>13.030706</td>\n",
       "      <td>6.864065</td>\n",
       "      <td>...</td>\n",
       "      <td>0.0</td>\n",
       "      <td>0.0</td>\n",
       "      <td>0.0</td>\n",
       "      <td>0.0</td>\n",
       "      <td>0.0</td>\n",
       "      <td>0.0</td>\n",
       "      <td>0.0</td>\n",
       "      <td>0.0</td>\n",
       "      <td>0.0</td>\n",
       "      <td>2.041241</td>\n",
       "    </tr>\n",
       "    <tr>\n",
       "      <th>1</th>\n",
       "      <td>2.795751</td>\n",
       "      <td>9.178686</td>\n",
       "      <td>3.0</td>\n",
       "      <td>5.076971</td>\n",
       "      <td>64.012489</td>\n",
       "      <td>9.711605</td>\n",
       "      <td>4.077571</td>\n",
       "      <td>13.564480</td>\n",
       "      <td>14.315161</td>\n",
       "      <td>7.844645</td>\n",
       "      <td>...</td>\n",
       "      <td>0.0</td>\n",
       "      <td>0.0</td>\n",
       "      <td>0.0</td>\n",
       "      <td>0.0</td>\n",
       "      <td>0.0</td>\n",
       "      <td>0.0</td>\n",
       "      <td>0.0</td>\n",
       "      <td>0.0</td>\n",
       "      <td>0.0</td>\n",
       "      <td>0.000000</td>\n",
       "    </tr>\n",
       "    <tr>\n",
       "      <th>2</th>\n",
       "      <td>1.612933</td>\n",
       "      <td>8.933921</td>\n",
       "      <td>3.0</td>\n",
       "      <td>4.736769</td>\n",
       "      <td>64.708277</td>\n",
       "      <td>8.379771</td>\n",
       "      <td>3.947089</td>\n",
       "      <td>11.387324</td>\n",
       "      <td>12.099941</td>\n",
       "      <td>8.825226</td>\n",
       "      <td>...</td>\n",
       "      <td>0.0</td>\n",
       "      <td>0.0</td>\n",
       "      <td>0.0</td>\n",
       "      <td>0.0</td>\n",
       "      <td>0.0</td>\n",
       "      <td>0.0</td>\n",
       "      <td>0.0</td>\n",
       "      <td>0.0</td>\n",
       "      <td>0.0</td>\n",
       "      <td>0.000000</td>\n",
       "    </tr>\n",
       "    <tr>\n",
       "      <th>3</th>\n",
       "      <td>1.309702</td>\n",
       "      <td>6.855867</td>\n",
       "      <td>3.0</td>\n",
       "      <td>4.337232</td>\n",
       "      <td>63.177544</td>\n",
       "      <td>8.180580</td>\n",
       "      <td>3.262057</td>\n",
       "      <td>11.410121</td>\n",
       "      <td>13.030706</td>\n",
       "      <td>7.844645</td>\n",
       "      <td>...</td>\n",
       "      <td>0.0</td>\n",
       "      <td>0.0</td>\n",
       "      <td>0.0</td>\n",
       "      <td>0.0</td>\n",
       "      <td>0.0</td>\n",
       "      <td>0.0</td>\n",
       "      <td>0.0</td>\n",
       "      <td>0.0</td>\n",
       "      <td>0.0</td>\n",
       "      <td>2.041241</td>\n",
       "    </tr>\n",
       "    <tr>\n",
       "      <th>4</th>\n",
       "      <td>3.871040</td>\n",
       "      <td>9.545833</td>\n",
       "      <td>3.0</td>\n",
       "      <td>7.066525</td>\n",
       "      <td>66.030274</td>\n",
       "      <td>10.838753</td>\n",
       "      <td>6.197908</td>\n",
       "      <td>12.766569</td>\n",
       "      <td>14.892235</td>\n",
       "      <td>9.805807</td>\n",
       "      <td>...</td>\n",
       "      <td>0.0</td>\n",
       "      <td>0.0</td>\n",
       "      <td>0.0</td>\n",
       "      <td>0.0</td>\n",
       "      <td>2.5</td>\n",
       "      <td>0.0</td>\n",
       "      <td>0.0</td>\n",
       "      <td>0.0</td>\n",
       "      <td>0.0</td>\n",
       "      <td>0.000000</td>\n",
       "    </tr>\n",
       "  </tbody>\n",
       "</table>\n",
       "<p>5 rows × 73 columns</p>\n",
       "</div>"
      ],
      "text/plain": [
       "   serviceCharge  livingSpace  noRooms  gdp_per_capita_2018   hdi_2018  \\\n",
       "0       3.440924     9.509119      3.0             4.448825  63.595016   \n",
       "1       2.795751     9.178686      3.0             5.076971  64.012489   \n",
       "2       1.612933     8.933921      3.0             4.736769  64.708277   \n",
       "3       1.309702     6.855867      3.0             4.337232  63.177544   \n",
       "4       3.871040     9.545833      3.0             7.066525  66.030274   \n",
       "\n",
       "   medianLivingSpace_state  medianServiceCharge_state  \\\n",
       "0                 8.602316                   3.914468   \n",
       "1                 9.711605                   4.077571   \n",
       "2                 8.379771                   3.947089   \n",
       "3                 8.180580                   3.262057   \n",
       "4                10.838753                   6.197908   \n",
       "\n",
       "   medianThermalChar_state  medianHeatingCosts_state  \\\n",
       "0                10.885780                 13.030706   \n",
       "1                13.564480                 14.315161   \n",
       "2                11.387324                 12.099941   \n",
       "3                11.410121                 13.030706   \n",
       "4                12.766569                 14.892235   \n",
       "\n",
       "   medianPictureCount_state  ...  typeOfFlat_ground_floor  \\\n",
       "0                  6.864065  ...                      0.0   \n",
       "1                  7.844645  ...                      0.0   \n",
       "2                  8.825226  ...                      0.0   \n",
       "3                  7.844645  ...                      0.0   \n",
       "4                  9.805807  ...                      0.0   \n",
       "\n",
       "   typeOfFlat_half_basement  typeOfFlat_loft  typeOfFlat_maisonette  \\\n",
       "0                       0.0              0.0                    0.0   \n",
       "1                       0.0              0.0                    0.0   \n",
       "2                       0.0              0.0                    0.0   \n",
       "3                       0.0              0.0                    0.0   \n",
       "4                       0.0              0.0                    0.0   \n",
       "\n",
       "   typeOfFlat_other  typeOfFlat_penthouse  typeOfFlat_raised_ground_floor  \\\n",
       "0               0.0                   0.0                             0.0   \n",
       "1               0.0                   0.0                             0.0   \n",
       "2               0.0                   0.0                             0.0   \n",
       "3               0.0                   0.0                             0.0   \n",
       "4               2.5                   0.0                             0.0   \n",
       "\n",
       "   typeOfFlat_roof_storey  typeOfFlat_terraced_flat  typeOfFlat_unknown  \n",
       "0                     0.0                       0.0            2.041241  \n",
       "1                     0.0                       0.0            0.000000  \n",
       "2                     0.0                       0.0            0.000000  \n",
       "3                     0.0                       0.0            2.041241  \n",
       "4                     0.0                       0.0            0.000000  \n",
       "\n",
       "[5 rows x 73 columns]"
      ]
     },
     "execution_count": 132,
     "metadata": {},
     "output_type": "execute_result"
    }
   ],
   "source": [
    "#View transformed set\n",
    "pd.DataFrame(transformed_data, columns = X_features)"
   ]
  },
  {
   "cell_type": "code",
   "execution_count": 133,
   "metadata": {},
   "outputs": [],
   "source": [
    "predicted_rents = final_model.predict(transformed_data)"
   ]
  },
  {
   "cell_type": "code",
   "execution_count": 134,
   "metadata": {
    "scrolled": true
   },
   "outputs": [
    {
     "data": {
      "text/html": [
       "<div>\n",
       "<style scoped>\n",
       "    .dataframe tbody tr th:only-of-type {\n",
       "        vertical-align: middle;\n",
       "    }\n",
       "\n",
       "    .dataframe tbody tr th {\n",
       "        vertical-align: top;\n",
       "    }\n",
       "\n",
       "    .dataframe thead th {\n",
       "        text-align: right;\n",
       "    }\n",
       "</style>\n",
       "<table border=\"1\" class=\"dataframe\">\n",
       "  <thead>\n",
       "    <tr style=\"text-align: right;\">\n",
       "      <th></th>\n",
       "      <th>predicted_rent</th>\n",
       "    </tr>\n",
       "  </thead>\n",
       "  <tbody>\n",
       "    <tr>\n",
       "      <th>0</th>\n",
       "      <td>2849.875000</td>\n",
       "    </tr>\n",
       "    <tr>\n",
       "      <th>1</th>\n",
       "      <td>1337.091064</td>\n",
       "    </tr>\n",
       "    <tr>\n",
       "      <th>2</th>\n",
       "      <td>1277.540039</td>\n",
       "    </tr>\n",
       "    <tr>\n",
       "      <th>3</th>\n",
       "      <td>1090.693848</td>\n",
       "    </tr>\n",
       "    <tr>\n",
       "      <th>4</th>\n",
       "      <td>3042.876465</td>\n",
       "    </tr>\n",
       "  </tbody>\n",
       "</table>\n",
       "</div>"
      ],
      "text/plain": [
       "   predicted_rent\n",
       "0     2849.875000\n",
       "1     1337.091064\n",
       "2     1277.540039\n",
       "3     1090.693848\n",
       "4     3042.876465"
      ]
     },
     "execution_count": 134,
     "metadata": {},
     "output_type": "execute_result"
    }
   ],
   "source": [
    "predicted_rent_df = pd.DataFrame(predicted_rents, columns = ['predicted_rent'])\n",
    "predicted_rent_df "
   ]
  },
  {
   "cell_type": "code",
   "execution_count": 135,
   "metadata": {},
   "outputs": [],
   "source": [
    "#Adding predicted scores to application_set dataframe\n",
    "application_inter = pd.merge(pd.DataFrame(application_df, columns = X_features).reset_index(drop = True), predicted_rent_df.reset_index(drop = True), left_index = True, right_index = True)\n",
    "#Adding original baseRent scores to application_set dataframe\n",
    "application_baseRent = pd.merge(application_inter.reset_index(drop = True),(pd.DataFrame(application_set_y).reset_index(drop = True)), left_index = True, right_index = True)\n",
    "#Adding location information\n",
    "application_final = pd.merge(application_baseRent.reset_index(drop = True),(pd.DataFrame(application_set_location).reset_index(drop = True)), left_index = True, right_index = True)"
   ]
  },
  {
   "cell_type": "code",
   "execution_count": 136,
   "metadata": {},
   "outputs": [
    {
     "data": {
      "text/html": [
       "<div>\n",
       "<style scoped>\n",
       "    .dataframe tbody tr th:only-of-type {\n",
       "        vertical-align: middle;\n",
       "    }\n",
       "\n",
       "    .dataframe tbody tr th {\n",
       "        vertical-align: top;\n",
       "    }\n",
       "\n",
       "    .dataframe thead th {\n",
       "        text-align: right;\n",
       "    }\n",
       "</style>\n",
       "<table border=\"1\" class=\"dataframe\">\n",
       "  <thead>\n",
       "    <tr style=\"text-align: right;\">\n",
       "      <th></th>\n",
       "      <th>serviceCharge</th>\n",
       "      <th>livingSpace</th>\n",
       "      <th>noRooms</th>\n",
       "      <th>gdp_per_capita_2018</th>\n",
       "      <th>hdi_2018</th>\n",
       "      <th>medianLivingSpace_state</th>\n",
       "      <th>medianServiceCharge_state</th>\n",
       "      <th>medianThermalChar_state</th>\n",
       "      <th>medianHeatingCosts_state</th>\n",
       "      <th>medianPictureCount_state</th>\n",
       "      <th>...</th>\n",
       "      <th>typeOfFlat_terraced_flat</th>\n",
       "      <th>typeOfFlat_unknown</th>\n",
       "      <th>predicted_rent</th>\n",
       "      <th>baseRent</th>\n",
       "      <th>state</th>\n",
       "      <th>city_town</th>\n",
       "      <th>municipality</th>\n",
       "      <th>zip_code</th>\n",
       "      <th>condition</th>\n",
       "      <th>interiorQual</th>\n",
       "    </tr>\n",
       "  </thead>\n",
       "  <tbody>\n",
       "    <tr>\n",
       "      <th>0</th>\n",
       "      <td>160.0</td>\n",
       "      <td>77.70</td>\n",
       "      <td>3.0</td>\n",
       "      <td>29541</td>\n",
       "      <td>0.914</td>\n",
       "      <td>62.620</td>\n",
       "      <td>120.0</td>\n",
       "      <td>95.5</td>\n",
       "      <td>70.0</td>\n",
       "      <td>7</td>\n",
       "      <td>...</td>\n",
       "      <td>0</td>\n",
       "      <td>1</td>\n",
       "      <td>2849.875000</td>\n",
       "      <td>775.0</td>\n",
       "      <td>Brandenburg</td>\n",
       "      <td>Uckermark</td>\n",
       "      <td>Prenzlau</td>\n",
       "      <td>17291</td>\n",
       "      <td>first_time_use</td>\n",
       "      <td>unknown</td>\n",
       "    </tr>\n",
       "    <tr>\n",
       "      <th>1</th>\n",
       "      <td>130.0</td>\n",
       "      <td>75.00</td>\n",
       "      <td>3.0</td>\n",
       "      <td>33712</td>\n",
       "      <td>0.920</td>\n",
       "      <td>70.695</td>\n",
       "      <td>125.0</td>\n",
       "      <td>119.0</td>\n",
       "      <td>76.9</td>\n",
       "      <td>8</td>\n",
       "      <td>...</td>\n",
       "      <td>0</td>\n",
       "      <td>0</td>\n",
       "      <td>1337.091064</td>\n",
       "      <td>550.0</td>\n",
       "      <td>Schleswig_Holstein</td>\n",
       "      <td>Dithmarschen</td>\n",
       "      <td>Brunsbüttel</td>\n",
       "      <td>25541</td>\n",
       "      <td>first_time_use_after_refurbishment</td>\n",
       "      <td>unknown</td>\n",
       "    </tr>\n",
       "    <tr>\n",
       "      <th>2</th>\n",
       "      <td>75.0</td>\n",
       "      <td>73.00</td>\n",
       "      <td>3.0</td>\n",
       "      <td>31453</td>\n",
       "      <td>0.930</td>\n",
       "      <td>61.000</td>\n",
       "      <td>121.0</td>\n",
       "      <td>99.9</td>\n",
       "      <td>65.0</td>\n",
       "      <td>9</td>\n",
       "      <td>...</td>\n",
       "      <td>0</td>\n",
       "      <td>0</td>\n",
       "      <td>1277.540039</td>\n",
       "      <td>250.0</td>\n",
       "      <td>Sachsen</td>\n",
       "      <td>Chemnitz</td>\n",
       "      <td>Sonnenberg</td>\n",
       "      <td>9130</td>\n",
       "      <td>refurbished</td>\n",
       "      <td>unknown</td>\n",
       "    </tr>\n",
       "    <tr>\n",
       "      <th>3</th>\n",
       "      <td>60.9</td>\n",
       "      <td>56.02</td>\n",
       "      <td>3.0</td>\n",
       "      <td>28800</td>\n",
       "      <td>0.908</td>\n",
       "      <td>59.550</td>\n",
       "      <td>100.0</td>\n",
       "      <td>100.1</td>\n",
       "      <td>70.0</td>\n",
       "      <td>8</td>\n",
       "      <td>...</td>\n",
       "      <td>0</td>\n",
       "      <td>1</td>\n",
       "      <td>1090.693848</td>\n",
       "      <td>280.1</td>\n",
       "      <td>Sachsen_Anhalt</td>\n",
       "      <td>Halle_Saale</td>\n",
       "      <td>Silberhöhe</td>\n",
       "      <td>6132</td>\n",
       "      <td>negotiable</td>\n",
       "      <td>unknown</td>\n",
       "    </tr>\n",
       "    <tr>\n",
       "      <th>4</th>\n",
       "      <td>180.0</td>\n",
       "      <td>78.00</td>\n",
       "      <td>3.0</td>\n",
       "      <td>46923</td>\n",
       "      <td>0.949</td>\n",
       "      <td>78.900</td>\n",
       "      <td>190.0</td>\n",
       "      <td>112.0</td>\n",
       "      <td>80.0</td>\n",
       "      <td>10</td>\n",
       "      <td>...</td>\n",
       "      <td>0</td>\n",
       "      <td>0</td>\n",
       "      <td>3042.876465</td>\n",
       "      <td>670.0</td>\n",
       "      <td>Hessen</td>\n",
       "      <td>Main_Kinzig</td>\n",
       "      <td>Rodenbach</td>\n",
       "      <td>63517</td>\n",
       "      <td>well_kept</td>\n",
       "      <td>normal</td>\n",
       "    </tr>\n",
       "  </tbody>\n",
       "</table>\n",
       "<p>5 rows × 81 columns</p>\n",
       "</div>"
      ],
      "text/plain": [
       "   serviceCharge  livingSpace  noRooms  gdp_per_capita_2018  hdi_2018  \\\n",
       "0          160.0        77.70      3.0                29541     0.914   \n",
       "1          130.0        75.00      3.0                33712     0.920   \n",
       "2           75.0        73.00      3.0                31453     0.930   \n",
       "3           60.9        56.02      3.0                28800     0.908   \n",
       "4          180.0        78.00      3.0                46923     0.949   \n",
       "\n",
       "   medianLivingSpace_state  medianServiceCharge_state  \\\n",
       "0                   62.620                      120.0   \n",
       "1                   70.695                      125.0   \n",
       "2                   61.000                      121.0   \n",
       "3                   59.550                      100.0   \n",
       "4                   78.900                      190.0   \n",
       "\n",
       "   medianThermalChar_state  medianHeatingCosts_state  \\\n",
       "0                     95.5                      70.0   \n",
       "1                    119.0                      76.9   \n",
       "2                     99.9                      65.0   \n",
       "3                    100.1                      70.0   \n",
       "4                    112.0                      80.0   \n",
       "\n",
       "   medianPictureCount_state  ...  typeOfFlat_terraced_flat  \\\n",
       "0                         7  ...                         0   \n",
       "1                         8  ...                         0   \n",
       "2                         9  ...                         0   \n",
       "3                         8  ...                         0   \n",
       "4                        10  ...                         0   \n",
       "\n",
       "   typeOfFlat_unknown  predicted_rent  baseRent               state  \\\n",
       "0                   1     2849.875000     775.0         Brandenburg   \n",
       "1                   0     1337.091064     550.0  Schleswig_Holstein   \n",
       "2                   0     1277.540039     250.0             Sachsen   \n",
       "3                   1     1090.693848     280.1      Sachsen_Anhalt   \n",
       "4                   0     3042.876465     670.0              Hessen   \n",
       "\n",
       "      city_town  municipality  zip_code                           condition  \\\n",
       "0     Uckermark      Prenzlau     17291                      first_time_use   \n",
       "1  Dithmarschen   Brunsbüttel     25541  first_time_use_after_refurbishment   \n",
       "2      Chemnitz    Sonnenberg      9130                         refurbished   \n",
       "3   Halle_Saale    Silberhöhe      6132                          negotiable   \n",
       "4   Main_Kinzig     Rodenbach     63517                           well_kept   \n",
       "\n",
       "   interiorQual  \n",
       "0       unknown  \n",
       "1       unknown  \n",
       "2       unknown  \n",
       "3       unknown  \n",
       "4        normal  \n",
       "\n",
       "[5 rows x 81 columns]"
      ]
     },
     "execution_count": 136,
     "metadata": {},
     "output_type": "execute_result"
    }
   ],
   "source": [
    "application_final.head()"
   ]
  },
  {
   "cell_type": "code",
   "execution_count": 137,
   "metadata": {},
   "outputs": [],
   "source": [
    "#Adding mean absolute error boundaries to dataframe\n",
    "application_final['high_rent_prediction'] = application_final.predicted_rent + (final_mae_mean + final_mae_std)\n",
    "application_final['low_rent_prediction'] = application_final.predicted_rent - (final_mae_mean - final_mae_std)"
   ]
  },
  {
   "cell_type": "code",
   "execution_count": 138,
   "metadata": {
    "scrolled": true
   },
   "outputs": [],
   "source": [
    "#Reviewing relevant features to determine effectiveness of model\n",
    "application_final.loc[:, ['noRooms', 'livingSpace', 'serviceCharge', 'predicted_rent', 'low_rent_prediction', 'baseRent', 'high_rent_prediction']] = application_final[['noRooms', 'livingSpace', 'serviceCharge', 'predicted_rent', 'low_rent_prediction', 'baseRent', 'high_rent_prediction']].astype(float).round(2)\n"
   ]
  },
  {
   "cell_type": "code",
   "execution_count": 139,
   "metadata": {},
   "outputs": [
    {
     "data": {
      "text/html": [
       "<div>\n",
       "<style scoped>\n",
       "    .dataframe tbody tr th:only-of-type {\n",
       "        vertical-align: middle;\n",
       "    }\n",
       "\n",
       "    .dataframe tbody tr th {\n",
       "        vertical-align: top;\n",
       "    }\n",
       "\n",
       "    .dataframe thead th {\n",
       "        text-align: right;\n",
       "    }\n",
       "</style>\n",
       "<table border=\"1\" class=\"dataframe\">\n",
       "  <thead>\n",
       "    <tr style=\"text-align: right;\">\n",
       "      <th></th>\n",
       "      <th>state</th>\n",
       "      <th>city_town</th>\n",
       "      <th>municipality</th>\n",
       "      <th>zip_code</th>\n",
       "      <th>condition</th>\n",
       "      <th>interiorQual</th>\n",
       "      <th>noRooms</th>\n",
       "      <th>livingSpace</th>\n",
       "      <th>serviceCharge</th>\n",
       "      <th>predicted_rent</th>\n",
       "      <th>low_rent_prediction</th>\n",
       "      <th>baseRent</th>\n",
       "      <th>high_rent_prediction</th>\n",
       "    </tr>\n",
       "  </thead>\n",
       "  <tbody>\n",
       "    <tr>\n",
       "      <th>0</th>\n",
       "      <td>Brandenburg</td>\n",
       "      <td>Uckermark</td>\n",
       "      <td>Prenzlau</td>\n",
       "      <td>17291</td>\n",
       "      <td>first_time_use</td>\n",
       "      <td>unknown</td>\n",
       "      <td>3.0</td>\n",
       "      <td>77.70</td>\n",
       "      <td>160.0</td>\n",
       "      <td>2849.88</td>\n",
       "      <td>2764.80</td>\n",
       "      <td>775.0</td>\n",
       "      <td>2994.27</td>\n",
       "    </tr>\n",
       "    <tr>\n",
       "      <th>1</th>\n",
       "      <td>Schleswig_Holstein</td>\n",
       "      <td>Dithmarschen</td>\n",
       "      <td>Brunsbüttel</td>\n",
       "      <td>25541</td>\n",
       "      <td>first_time_use_after_refurbishment</td>\n",
       "      <td>unknown</td>\n",
       "      <td>3.0</td>\n",
       "      <td>75.00</td>\n",
       "      <td>130.0</td>\n",
       "      <td>1337.09</td>\n",
       "      <td>1252.02</td>\n",
       "      <td>550.0</td>\n",
       "      <td>1481.48</td>\n",
       "    </tr>\n",
       "    <tr>\n",
       "      <th>2</th>\n",
       "      <td>Sachsen</td>\n",
       "      <td>Chemnitz</td>\n",
       "      <td>Sonnenberg</td>\n",
       "      <td>9130</td>\n",
       "      <td>refurbished</td>\n",
       "      <td>unknown</td>\n",
       "      <td>3.0</td>\n",
       "      <td>73.00</td>\n",
       "      <td>75.0</td>\n",
       "      <td>1277.54</td>\n",
       "      <td>1192.46</td>\n",
       "      <td>250.0</td>\n",
       "      <td>1421.93</td>\n",
       "    </tr>\n",
       "    <tr>\n",
       "      <th>3</th>\n",
       "      <td>Sachsen_Anhalt</td>\n",
       "      <td>Halle_Saale</td>\n",
       "      <td>Silberhöhe</td>\n",
       "      <td>6132</td>\n",
       "      <td>negotiable</td>\n",
       "      <td>unknown</td>\n",
       "      <td>3.0</td>\n",
       "      <td>56.02</td>\n",
       "      <td>60.9</td>\n",
       "      <td>1090.69</td>\n",
       "      <td>1005.62</td>\n",
       "      <td>280.1</td>\n",
       "      <td>1235.09</td>\n",
       "    </tr>\n",
       "    <tr>\n",
       "      <th>4</th>\n",
       "      <td>Hessen</td>\n",
       "      <td>Main_Kinzig</td>\n",
       "      <td>Rodenbach</td>\n",
       "      <td>63517</td>\n",
       "      <td>well_kept</td>\n",
       "      <td>normal</td>\n",
       "      <td>3.0</td>\n",
       "      <td>78.00</td>\n",
       "      <td>180.0</td>\n",
       "      <td>3042.88</td>\n",
       "      <td>2957.80</td>\n",
       "      <td>670.0</td>\n",
       "      <td>3187.27</td>\n",
       "    </tr>\n",
       "  </tbody>\n",
       "</table>\n",
       "</div>"
      ],
      "text/plain": [
       "                state     city_town municipality  zip_code  \\\n",
       "0         Brandenburg     Uckermark     Prenzlau     17291   \n",
       "1  Schleswig_Holstein  Dithmarschen  Brunsbüttel     25541   \n",
       "2             Sachsen      Chemnitz   Sonnenberg      9130   \n",
       "3      Sachsen_Anhalt   Halle_Saale   Silberhöhe      6132   \n",
       "4              Hessen   Main_Kinzig    Rodenbach     63517   \n",
       "\n",
       "                            condition interiorQual  noRooms  livingSpace  \\\n",
       "0                      first_time_use      unknown      3.0        77.70   \n",
       "1  first_time_use_after_refurbishment      unknown      3.0        75.00   \n",
       "2                         refurbished      unknown      3.0        73.00   \n",
       "3                          negotiable      unknown      3.0        56.02   \n",
       "4                           well_kept       normal      3.0        78.00   \n",
       "\n",
       "   serviceCharge  predicted_rent  low_rent_prediction  baseRent  \\\n",
       "0          160.0         2849.88              2764.80     775.0   \n",
       "1          130.0         1337.09              1252.02     550.0   \n",
       "2           75.0         1277.54              1192.46     250.0   \n",
       "3           60.9         1090.69              1005.62     280.1   \n",
       "4          180.0         3042.88              2957.80     670.0   \n",
       "\n",
       "   high_rent_prediction  \n",
       "0               2994.27  \n",
       "1               1481.48  \n",
       "2               1421.93  \n",
       "3               1235.09  \n",
       "4               3187.27  "
      ]
     },
     "execution_count": 139,
     "metadata": {},
     "output_type": "execute_result"
    }
   ],
   "source": [
    "#Reviewing application dataframe with location information\n",
    "application_final[['state', 'city_town', 'municipality', 'zip_code', 'condition', 'interiorQual', 'noRooms', 'livingSpace', 'serviceCharge', 'predicted_rent', 'low_rent_prediction', 'baseRent', 'high_rent_prediction']]"
   ]
  },
  {
   "cell_type": "markdown",
   "metadata": {},
   "source": [
    "# Save Best Model"
   ]
  },
  {
   "cell_type": "code",
   "execution_count": 140,
   "metadata": {},
   "outputs": [],
   "source": [
    "best_model = rf_grid_cv.best_estimator_\n",
    "best_model.version = '1.0'\n",
    "best_model.pandas_version = pd.__version__\n",
    "best_model.numpy_version = np.__version__\n",
    "best_model.sklearn_version = str(sklearn.__version__)\n",
    "best_model.X_columns = [col for col in X_features]\n",
    "best_model.build_datetime = datetime.datetime.now()\n",
    "    \n",
    "modelpath = '..\\models'\n",
    "if not os.path.exists(modelpath):\n",
    "    os.mkdir(modelpath)\n",
    "rentalsmodel_path = os.path.join(modelpath, 'apartment_pricing_model.pkl')\n",
    "if not os.path.exists(rentalsmodel_path):\n",
    "    with open(rentalsmodel_path, 'wb') as f:\n",
    "        pickle.dump(best_model, f)"
   ]
  }
 ],
 "metadata": {
  "kernelspec": {
   "display_name": "Python 3",
   "language": "python",
   "name": "python3"
  },
  "language_info": {
   "codemirror_mode": {
    "name": "ipython",
    "version": 3
   },
   "file_extension": ".py",
   "mimetype": "text/x-python",
   "name": "python",
   "nbconvert_exporter": "python",
   "pygments_lexer": "ipython3",
   "version": "3.8.8"
  }
 },
 "nbformat": 4,
 "nbformat_minor": 4
}
