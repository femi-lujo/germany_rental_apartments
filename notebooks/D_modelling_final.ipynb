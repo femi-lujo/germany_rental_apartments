{
 "cells": [
  {
   "cell_type": "markdown",
   "metadata": {},
   "source": [
    "# D. Modelling<a id = 'C_Pre-processing'></a>"
   ]
  },
  {
   "cell_type": "markdown",
   "metadata": {},
   "source": [
    "# Objective<a id = '2_Objective'></a>"
   ]
  },
  {
   "cell_type": "markdown",
   "metadata": {},
   "source": [
    "- Create a predictive model for rentals data"
   ]
  },
  {
   "cell_type": "markdown",
   "metadata": {},
   "source": [
    "# Imports"
   ]
  },
  {
   "cell_type": "code",
   "execution_count": 1,
   "metadata": {},
   "outputs": [],
   "source": [
    "import numpy as np\n",
    "import pandas as pd\n",
    "import matplotlib.pyplot as plt\n",
    "import seaborn as sns\n",
    "import os\n",
    "from sklearn.model_selection import train_test_split\n",
    "from sklearn.linear_model import LinearRegression, Ridge, Lasso\n",
    "from sklearn.model_selection import cross_val_score, GridSearchCV, RandomizedSearchCV, cross_validate\n",
    "from sklearn.feature_selection import SelectKBest, f_regression,SelectPercentile\n",
    "import xgboost as xgb\n",
    "from sklearn.ensemble import RandomForestRegressor\n",
    "from sklearn.svm import SVR\n",
    "from xgboost import plot_importance\n",
    "from sklearn.metrics import mean_squared_error, r2_score, mean_absolute_error\n",
    "import sklearn.metrics\n",
    "import eli5\n",
    "import pickle\n",
    "from sklearn.feature_selection import RFECV\n",
    "from sklearn.tree import DecisionTreeRegressor\n",
    "from bayes_opt import BayesianOptimization\n",
    "import datetime"
   ]
  },
  {
   "cell_type": "markdown",
   "metadata": {},
   "source": [
    "# Load Data"
   ]
  },
  {
   "cell_type": "code",
   "execution_count": 2,
   "metadata": {},
   "outputs": [],
   "source": [
    "# Specifiy filepath\n",
    "filepath = '../data/interim/'"
   ]
  },
  {
   "cell_type": "code",
   "execution_count": 3,
   "metadata": {},
   "outputs": [],
   "source": [
    "# Load feature and target data\n",
    "X_scaled = pickle.load(open(filepath + 'X_scaled.pkl', 'rb'))\n",
    "y = pickle.load(open(filepath + 'y.pkl', 'rb'))\n",
    "X_features = pickle.load(open(filepath + 'X_features_base.pkl', 'rb'))\n",
    "X_train = pickle.load(open(filepath + 'X_train_base.pkl', 'rb'))\n",
    "y_train = pickle.load(open(filepath + 'y_train_base.pkl', 'rb'))\n",
    "X_test = pickle.load(open(filepath + 'X_test_base.pkl', 'rb'))\n",
    "y_test = pickle.load(open(filepath + 'y_test_base.pkl', 'rb'))\n",
    "lm = pickle.load(open(filepath + 'lm_base.pkl', 'rb'))"
   ]
  },
  {
   "cell_type": "code",
   "execution_count": 4,
   "metadata": {},
   "outputs": [
    {
     "data": {
      "text/html": [
       "<div>\n",
       "<style scoped>\n",
       "    .dataframe tbody tr th:only-of-type {\n",
       "        vertical-align: middle;\n",
       "    }\n",
       "\n",
       "    .dataframe tbody tr th {\n",
       "        vertical-align: top;\n",
       "    }\n",
       "\n",
       "    .dataframe thead th {\n",
       "        text-align: right;\n",
       "    }\n",
       "</style>\n",
       "<table border=\"1\" class=\"dataframe\">\n",
       "  <thead>\n",
       "    <tr style=\"text-align: right;\">\n",
       "      <th></th>\n",
       "      <th>serviceCharge</th>\n",
       "      <th>livingSpace</th>\n",
       "      <th>noRooms</th>\n",
       "      <th>gdp_per_capita_2018</th>\n",
       "      <th>hdi_2018</th>\n",
       "      <th>medianLivingSpace_state</th>\n",
       "      <th>medianServiceCharge_state</th>\n",
       "      <th>medianThermalChar_state</th>\n",
       "      <th>medianHeatingCosts_state</th>\n",
       "      <th>medianPictureCount_state</th>\n",
       "      <th>...</th>\n",
       "      <th>typeOfFlat_ground_floor</th>\n",
       "      <th>typeOfFlat_half_basement</th>\n",
       "      <th>typeOfFlat_loft</th>\n",
       "      <th>typeOfFlat_maisonette</th>\n",
       "      <th>typeOfFlat_other</th>\n",
       "      <th>typeOfFlat_penthouse</th>\n",
       "      <th>typeOfFlat_raised_ground_floor</th>\n",
       "      <th>typeOfFlat_roof_storey</th>\n",
       "      <th>typeOfFlat_terraced_flat</th>\n",
       "      <th>typeOfFlat_unknown</th>\n",
       "    </tr>\n",
       "  </thead>\n",
       "  <tbody>\n",
       "    <tr>\n",
       "      <th>0</th>\n",
       "      <td>1.546421</td>\n",
       "      <td>2.645811</td>\n",
       "      <td>2.036228</td>\n",
       "      <td>6.485613</td>\n",
       "      <td>69.424439</td>\n",
       "      <td>10.613782</td>\n",
       "      <td>6.792155</td>\n",
       "      <td>8.610623</td>\n",
       "      <td>15.127208</td>\n",
       "      <td>12.929197</td>\n",
       "      <td>...</td>\n",
       "      <td>0.000000</td>\n",
       "      <td>0.0</td>\n",
       "      <td>0.0</td>\n",
       "      <td>0.0</td>\n",
       "      <td>0.000000</td>\n",
       "      <td>0.0</td>\n",
       "      <td>0.0</td>\n",
       "      <td>0.000000</td>\n",
       "      <td>0.0</td>\n",
       "      <td>2.916435</td>\n",
       "    </tr>\n",
       "    <tr>\n",
       "      <th>1</th>\n",
       "      <td>1.467407</td>\n",
       "      <td>1.680868</td>\n",
       "      <td>2.036228</td>\n",
       "      <td>4.221426</td>\n",
       "      <td>68.178171</td>\n",
       "      <td>8.518956</td>\n",
       "      <td>5.136567</td>\n",
       "      <td>8.706491</td>\n",
       "      <td>12.290856</td>\n",
       "      <td>11.636278</td>\n",
       "      <td>...</td>\n",
       "      <td>3.106839</td>\n",
       "      <td>0.0</td>\n",
       "      <td>0.0</td>\n",
       "      <td>0.0</td>\n",
       "      <td>0.000000</td>\n",
       "      <td>0.0</td>\n",
       "      <td>0.0</td>\n",
       "      <td>0.000000</td>\n",
       "      <td>0.0</td>\n",
       "      <td>0.000000</td>\n",
       "    </tr>\n",
       "    <tr>\n",
       "      <th>2</th>\n",
       "      <td>2.257549</td>\n",
       "      <td>3.890898</td>\n",
       "      <td>3.563400</td>\n",
       "      <td>6.485613</td>\n",
       "      <td>69.424439</td>\n",
       "      <td>10.613782</td>\n",
       "      <td>6.792155</td>\n",
       "      <td>8.610623</td>\n",
       "      <td>15.127208</td>\n",
       "      <td>12.929197</td>\n",
       "      <td>...</td>\n",
       "      <td>0.000000</td>\n",
       "      <td>0.0</td>\n",
       "      <td>0.0</td>\n",
       "      <td>0.0</td>\n",
       "      <td>5.418265</td>\n",
       "      <td>0.0</td>\n",
       "      <td>0.0</td>\n",
       "      <td>0.000000</td>\n",
       "      <td>0.0</td>\n",
       "      <td>0.000000</td>\n",
       "    </tr>\n",
       "    <tr>\n",
       "      <th>3</th>\n",
       "      <td>1.295269</td>\n",
       "      <td>2.387455</td>\n",
       "      <td>3.054343</td>\n",
       "      <td>5.156896</td>\n",
       "      <td>67.591692</td>\n",
       "      <td>10.144541</td>\n",
       "      <td>5.688430</td>\n",
       "      <td>10.719703</td>\n",
       "      <td>14.181757</td>\n",
       "      <td>10.343358</td>\n",
       "      <td>...</td>\n",
       "      <td>0.000000</td>\n",
       "      <td>0.0</td>\n",
       "      <td>0.0</td>\n",
       "      <td>0.0</td>\n",
       "      <td>0.000000</td>\n",
       "      <td>0.0</td>\n",
       "      <td>0.0</td>\n",
       "      <td>2.979074</td>\n",
       "      <td>0.0</td>\n",
       "      <td>0.000000</td>\n",
       "    </tr>\n",
       "    <tr>\n",
       "      <th>4</th>\n",
       "      <td>1.072336</td>\n",
       "      <td>1.214583</td>\n",
       "      <td>1.018114</td>\n",
       "      <td>6.485613</td>\n",
       "      <td>69.424439</td>\n",
       "      <td>10.613782</td>\n",
       "      <td>6.792155</td>\n",
       "      <td>8.610623</td>\n",
       "      <td>15.127208</td>\n",
       "      <td>12.929197</td>\n",
       "      <td>...</td>\n",
       "      <td>0.000000</td>\n",
       "      <td>0.0</td>\n",
       "      <td>0.0</td>\n",
       "      <td>0.0</td>\n",
       "      <td>0.000000</td>\n",
       "      <td>0.0</td>\n",
       "      <td>0.0</td>\n",
       "      <td>2.979074</td>\n",
       "      <td>0.0</td>\n",
       "      <td>0.000000</td>\n",
       "    </tr>\n",
       "  </tbody>\n",
       "</table>\n",
       "<p>5 rows × 73 columns</p>\n",
       "</div>"
      ],
      "text/plain": [
       "   serviceCharge  livingSpace   noRooms  gdp_per_capita_2018   hdi_2018  \\\n",
       "0       1.546421     2.645811  2.036228             6.485613  69.424439   \n",
       "1       1.467407     1.680868  2.036228             4.221426  68.178171   \n",
       "2       2.257549     3.890898  3.563400             6.485613  69.424439   \n",
       "3       1.295269     2.387455  3.054343             5.156896  67.591692   \n",
       "4       1.072336     1.214583  1.018114             6.485613  69.424439   \n",
       "\n",
       "   medianLivingSpace_state  medianServiceCharge_state  \\\n",
       "0                10.613782                   6.792155   \n",
       "1                 8.518956                   5.136567   \n",
       "2                10.613782                   6.792155   \n",
       "3                10.144541                   5.688430   \n",
       "4                10.613782                   6.792155   \n",
       "\n",
       "   medianThermalChar_state  medianHeatingCosts_state  \\\n",
       "0                 8.610623                 15.127208   \n",
       "1                 8.706491                 12.290856   \n",
       "2                 8.610623                 15.127208   \n",
       "3                10.719703                 14.181757   \n",
       "4                 8.610623                 15.127208   \n",
       "\n",
       "   medianPictureCount_state  ...  typeOfFlat_ground_floor  \\\n",
       "0                 12.929197  ...                 0.000000   \n",
       "1                 11.636278  ...                 3.106839   \n",
       "2                 12.929197  ...                 0.000000   \n",
       "3                 10.343358  ...                 0.000000   \n",
       "4                 12.929197  ...                 0.000000   \n",
       "\n",
       "   typeOfFlat_half_basement  typeOfFlat_loft  typeOfFlat_maisonette  \\\n",
       "0                       0.0              0.0                    0.0   \n",
       "1                       0.0              0.0                    0.0   \n",
       "2                       0.0              0.0                    0.0   \n",
       "3                       0.0              0.0                    0.0   \n",
       "4                       0.0              0.0                    0.0   \n",
       "\n",
       "   typeOfFlat_other  typeOfFlat_penthouse  typeOfFlat_raised_ground_floor  \\\n",
       "0          0.000000                   0.0                             0.0   \n",
       "1          0.000000                   0.0                             0.0   \n",
       "2          5.418265                   0.0                             0.0   \n",
       "3          0.000000                   0.0                             0.0   \n",
       "4          0.000000                   0.0                             0.0   \n",
       "\n",
       "   typeOfFlat_roof_storey  typeOfFlat_terraced_flat  typeOfFlat_unknown  \n",
       "0                0.000000                       0.0            2.916435  \n",
       "1                0.000000                       0.0            0.000000  \n",
       "2                0.000000                       0.0            0.000000  \n",
       "3                2.979074                       0.0            0.000000  \n",
       "4                2.979074                       0.0            0.000000  \n",
       "\n",
       "[5 rows x 73 columns]"
      ]
     },
     "execution_count": 4,
     "metadata": {},
     "output_type": "execute_result"
    }
   ],
   "source": [
    "#View dataframe\n",
    "pd.DataFrame(X_train, columns = X_features).head()"
   ]
  },
  {
   "cell_type": "code",
   "execution_count": 5,
   "metadata": {
    "scrolled": true
   },
   "outputs": [
    {
     "data": {
      "text/html": [
       "<div>\n",
       "<style scoped>\n",
       "    .dataframe tbody tr th:only-of-type {\n",
       "        vertical-align: middle;\n",
       "    }\n",
       "\n",
       "    .dataframe tbody tr th {\n",
       "        vertical-align: top;\n",
       "    }\n",
       "\n",
       "    .dataframe thead th {\n",
       "        text-align: right;\n",
       "    }\n",
       "</style>\n",
       "<table border=\"1\" class=\"dataframe\">\n",
       "  <thead>\n",
       "    <tr style=\"text-align: right;\">\n",
       "      <th></th>\n",
       "      <th>baseRent</th>\n",
       "    </tr>\n",
       "  </thead>\n",
       "  <tbody>\n",
       "    <tr>\n",
       "      <th>0</th>\n",
       "      <td>595.00</td>\n",
       "    </tr>\n",
       "    <tr>\n",
       "      <th>1</th>\n",
       "      <td>579.00</td>\n",
       "    </tr>\n",
       "    <tr>\n",
       "      <th>2</th>\n",
       "      <td>569.00</td>\n",
       "    </tr>\n",
       "    <tr>\n",
       "      <th>3</th>\n",
       "      <td>1398.60</td>\n",
       "    </tr>\n",
       "    <tr>\n",
       "      <th>4</th>\n",
       "      <td>725.62</td>\n",
       "    </tr>\n",
       "  </tbody>\n",
       "</table>\n",
       "</div>"
      ],
      "text/plain": [
       "   baseRent\n",
       "0    595.00\n",
       "1    579.00\n",
       "2    569.00\n",
       "3   1398.60\n",
       "4    725.62"
      ]
     },
     "execution_count": 5,
     "metadata": {},
     "output_type": "execute_result"
    }
   ],
   "source": [
    "#View base rent\n",
    "pd.DataFrame(y).head()"
   ]
  },
  {
   "cell_type": "code",
   "execution_count": 6,
   "metadata": {},
   "outputs": [
    {
     "data": {
      "text/plain": [
       "73"
      ]
     },
     "execution_count": 6,
     "metadata": {},
     "output_type": "execute_result"
    }
   ],
   "source": [
    "len(X_features)"
   ]
  },
  {
   "cell_type": "markdown",
   "metadata": {},
   "source": [
    "# Modelling"
   ]
  },
  {
   "cell_type": "markdown",
   "metadata": {},
   "source": [
    "## Base Model  - Linear Regression"
   ]
  },
  {
   "cell_type": "code",
   "execution_count": 7,
   "metadata": {},
   "outputs": [],
   "source": [
    "#Determine predictions for train and the test set\n",
    "y_train_pred = lm.predict(X_train)\n",
    "y_test_pred = lm.predict(X_test)"
   ]
  },
  {
   "cell_type": "code",
   "execution_count": 8,
   "metadata": {},
   "outputs": [
    {
     "data": {
      "text/plain": [
       "(0.735007318521693, 147.1256859213482)"
      ]
     },
     "execution_count": 8,
     "metadata": {},
     "output_type": "execute_result"
    }
   ],
   "source": [
    "#Review performance of model\n",
    "r2_score(y_train, y_train_pred), mean_absolute_error(y_train, y_train_pred)"
   ]
  },
  {
   "cell_type": "code",
   "execution_count": 9,
   "metadata": {},
   "outputs": [
    {
     "data": {
      "text/plain": [
       "(0.7285429457365407, 147.26695580709028)"
      ]
     },
     "execution_count": 9,
     "metadata": {},
     "output_type": "execute_result"
    }
   ],
   "source": [
    "#Review performance of model\n",
    "r2_score(y_test, y_test_pred), mean_absolute_error(y_test, y_test_pred)"
   ]
  },
  {
   "cell_type": "markdown",
   "metadata": {},
   "source": [
    "From our pre-processing notebook, we have to improve on this performance if we can. As noted, we will trial the following:\n",
    "- Choosing select features\n",
    "- Using other modelling algorithms\n",
    "- Tuning hyperparameters"
   ]
  },
  {
   "cell_type": "markdown",
   "metadata": {},
   "source": [
    "# Performance Assessment"
   ]
  },
  {
   "cell_type": "markdown",
   "metadata": {},
   "source": [
    "We will use the r-squared score to assess different models produced by each algorithm. We will then use the mean absolute error to chose the best algorithm / model combination.\n",
    "\n",
    "We will use 10-fold cross-validation to assess each model. "
   ]
  },
  {
   "cell_type": "markdown",
   "metadata": {},
   "source": [
    "We will trial two linear models and three tree-induction models. Our linear models include lasso and ridge regression. Our tree induction models are decision tree, random forest and XGBoost. "
   ]
  },
  {
   "cell_type": "code",
   "execution_count": 10,
   "metadata": {},
   "outputs": [],
   "source": [
    "#Define functions to assess cross-validated performance of learner\n",
    "def cv_performance(model, X_train, y_train, n_folds = 4):\n",
    "    cv_scores = cross_validate(model, X_train, y_train.values.ravel(), cv = n_folds, \\\n",
    "                              scoring = ['r2','neg_mean_absolute_error'])\n",
    "    r2_scores = cv_scores['test_r2']\n",
    "    mae_scores = cv_scores['test_neg_mean_absolute_error'] * -1                                        \n",
    "    return r2_scores, mae_scores\n",
    "\n",
    "def cv_mean_std(cv_scores):\n",
    "    cv_mean = cv_scores.mean()\n",
    "    cv_std = cv_scores.std()\n",
    "    return cv_mean, cv_std\n",
    "\n",
    "def limits(mean, std):\n",
    "    upper = mean + std\n",
    "    lower = mean -std\n",
    "    return lower, upper\n",
    "\n",
    "#Define function to assess test set performance\n",
    "def test_performance(model):\n",
    "    y_pred = model.predict(X_test)\n",
    "    r2_test_score = r2_score(y_test, y_pred)\n",
    "    mae_test_score = mean_absolute_error(y_test, y_pred)\n",
    "    return r2_test_score, mae_test_score"
   ]
  },
  {
   "cell_type": "markdown",
   "metadata": {},
   "source": [
    "# Linear Modelling"
   ]
  },
  {
   "cell_type": "markdown",
   "metadata": {},
   "source": [
    "we will use the lasso and ridge regression algorithms to come up with a model."
   ]
  },
  {
   "cell_type": "markdown",
   "metadata": {},
   "source": [
    "## Lasso"
   ]
  },
  {
   "cell_type": "code",
   "execution_count": 11,
   "metadata": {},
   "outputs": [],
   "source": [
    "#Instantiate lasso model\n",
    "lasso = Lasso()"
   ]
  },
  {
   "cell_type": "code",
   "execution_count": 12,
   "metadata": {},
   "outputs": [],
   "source": [
    "#Determine cross validation performance on lasso model with 5 folds\n",
    "lasso_r2_scores, lasso_mae_scores = cv_performance(lasso, X_train, y_train, 5)"
   ]
  },
  {
   "cell_type": "code",
   "execution_count": 13,
   "metadata": {
    "scrolled": true
   },
   "outputs": [
    {
     "data": {
      "text/plain": [
       "array([0.76139904, 0.67038378, 0.724201  , 0.75742846, 0.77098693])"
      ]
     },
     "execution_count": 13,
     "metadata": {},
     "output_type": "execute_result"
    }
   ],
   "source": [
    "#Check r2 cross validation scores\n",
    "lasso_r2_scores"
   ]
  },
  {
   "cell_type": "code",
   "execution_count": 14,
   "metadata": {},
   "outputs": [
    {
     "data": {
      "text/plain": [
       "(0.736879842220721, 0.036794592864321185)"
      ]
     },
     "execution_count": 14,
     "metadata": {},
     "output_type": "execute_result"
    }
   ],
   "source": [
    "#Check mean and standard deviation of r2 cross validation scores\n",
    "lasso_r2_mean, lasso_r2_std = cv_mean_std(lasso_r2_scores)\n",
    "lasso_r2_mean, lasso_r2_std"
   ]
  },
  {
   "cell_type": "code",
   "execution_count": 15,
   "metadata": {},
   "outputs": [
    {
     "data": {
      "text/plain": [
       "(0.7000852493563998, 0.7736744350850422)"
      ]
     },
     "execution_count": 15,
     "metadata": {},
     "output_type": "execute_result"
    }
   ],
   "source": [
    "#Lasso model r2 lower and upper limits\n",
    "limits(lasso_r2_mean, lasso_r2_std)"
   ]
  },
  {
   "cell_type": "code",
   "execution_count": 16,
   "metadata": {
    "scrolled": true
   },
   "outputs": [],
   "source": [
    "#Fit lasso model to data\n",
    "lasso.fit(X_train, y_train);"
   ]
  },
  {
   "cell_type": "code",
   "execution_count": 17,
   "metadata": {},
   "outputs": [],
   "source": [
    "#Determine performance of lasso model on test set\n",
    "lasso_r2_test_score, lasso_mae_test_score = test_performance(lasso)"
   ]
  },
  {
   "cell_type": "code",
   "execution_count": 18,
   "metadata": {
    "scrolled": true
   },
   "outputs": [
    {
     "data": {
      "text/plain": [
       "0.7282111064368844"
      ]
     },
     "execution_count": 18,
     "metadata": {},
     "output_type": "execute_result"
    }
   ],
   "source": [
    "#Check r2 performance on lasso on test set\n",
    "lasso_r2_test_score"
   ]
  },
  {
   "cell_type": "markdown",
   "metadata": {},
   "source": [
    "We note that our test score for lasso falls within the standard deviation of our cross validation score. This suggests that our model is not overfitting and is appropriate for the data."
   ]
  },
  {
   "cell_type": "markdown",
   "metadata": {},
   "source": [
    "### Feature importance - Lasso"
   ]
  },
  {
   "cell_type": "code",
   "execution_count": 19,
   "metadata": {
    "scrolled": true
   },
   "outputs": [
    {
     "data": {
      "text/plain": [
       "array([ 8.21227791e+01,  2.65480554e+02, -3.02378814e+01,  5.11986477e+00,\n",
       "        0.00000000e+00,  2.75971522e+01,  0.00000000e+00, -0.00000000e+00,\n",
       "        5.90267604e+01,  0.00000000e+00, -3.26724394e+00, -9.98220560e+01,\n",
       "        1.01258845e+02, -3.53188792e+01,  1.83875209e+01, -2.20684140e-01,\n",
       "       -1.65291234e+01,  3.80476699e+00,  1.46088235e+01, -6.73647574e+00,\n",
       "        0.00000000e+00,  5.61676530e+01,  4.63543087e+00,  1.05164326e+01,\n",
       "        2.73264467e+01, -3.87139231e+00, -1.72380925e+00,  5.15584012e+00,\n",
       "       -2.61699062e+01, -0.00000000e+00, -3.19304788e+00, -0.00000000e+00,\n",
       "        0.00000000e+00, -2.37793888e+00, -3.08836073e+01,  0.00000000e+00,\n",
       "        8.13850387e-01,  0.00000000e+00, -1.78412394e+01,  0.00000000e+00,\n",
       "        2.15377945e-01, -0.00000000e+00, -2.63299910e+01,  5.43670549e-15,\n",
       "        1.77732334e+01,  7.65442768e+00, -3.32685027e+00,  1.17013955e+01,\n",
       "       -4.78914259e+00, -3.82858863e+00, -1.46268206e+00, -0.00000000e+00,\n",
       "        0.00000000e+00,  5.98689501e+00, -1.70150208e+01,  4.41623720e+01,\n",
       "       -1.10757186e+01, -2.37597641e+00,  5.94494623e+00, -0.00000000e+00,\n",
       "       -2.08459443e+01,  2.19742690e-13,  0.00000000e+00, -0.00000000e+00,\n",
       "       -1.94138095e+00, -1.17036571e-01,  0.00000000e+00, -1.36090042e+00,\n",
       "        1.32452060e+01, -1.28729669e+00, -1.19294721e+00, -0.00000000e+00,\n",
       "        1.09040579e+01])"
      ]
     },
     "execution_count": 19,
     "metadata": {},
     "output_type": "execute_result"
    }
   ],
   "source": [
    "#Review coefficients of the 73 features\n",
    "lasso.coef_"
   ]
  },
  {
   "cell_type": "markdown",
   "metadata": {},
   "source": [
    "We note that some of the coefficients are zero, which is one great feature of the lasso algorithm."
   ]
  },
  {
   "cell_type": "code",
   "execution_count": 20,
   "metadata": {
    "scrolled": true
   },
   "outputs": [
    {
     "data": {
      "text/html": [
       "<div>\n",
       "<style scoped>\n",
       "    .dataframe tbody tr th:only-of-type {\n",
       "        vertical-align: middle;\n",
       "    }\n",
       "\n",
       "    .dataframe tbody tr th {\n",
       "        vertical-align: top;\n",
       "    }\n",
       "\n",
       "    .dataframe thead th {\n",
       "        text-align: right;\n",
       "    }\n",
       "</style>\n",
       "<table border=\"1\" class=\"dataframe\">\n",
       "  <thead>\n",
       "    <tr style=\"text-align: right;\">\n",
       "      <th></th>\n",
       "      <th>feature</th>\n",
       "      <th>coefficient</th>\n",
       "    </tr>\n",
       "  </thead>\n",
       "  <tbody>\n",
       "    <tr>\n",
       "      <th>0</th>\n",
       "      <td>medianLivingSpace_ct</td>\n",
       "      <td>-99.822056</td>\n",
       "    </tr>\n",
       "    <tr>\n",
       "      <th>1</th>\n",
       "      <td>medianThermalChar_ct</td>\n",
       "      <td>-35.318879</td>\n",
       "    </tr>\n",
       "    <tr>\n",
       "      <th>2</th>\n",
       "      <td>state_Sachsen</td>\n",
       "      <td>-30.883607</td>\n",
       "    </tr>\n",
       "    <tr>\n",
       "      <th>3</th>\n",
       "      <td>noRooms</td>\n",
       "      <td>-30.237881</td>\n",
       "    </tr>\n",
       "    <tr>\n",
       "      <th>4</th>\n",
       "      <td>hasKitchen_No</td>\n",
       "      <td>-26.329991</td>\n",
       "    </tr>\n",
       "  </tbody>\n",
       "</table>\n",
       "</div>"
      ],
      "text/plain": [
       "                feature  coefficient\n",
       "0  medianLivingSpace_ct   -99.822056\n",
       "1  medianThermalChar_ct   -35.318879\n",
       "2         state_Sachsen   -30.883607\n",
       "3               noRooms   -30.237881\n",
       "4         hasKitchen_No   -26.329991"
      ]
     },
     "execution_count": 20,
     "metadata": {},
     "output_type": "execute_result"
    }
   ],
   "source": [
    "#Create lasso coefficent data frame\n",
    "lasso_coeff_df = pd.DataFrame(lasso.coef_, index = X_features, columns = ['coefficient']).\\\n",
    "sort_values(by = 'coefficient').reset_index().rename(columns = {'index': 'feature'})\n",
    "lasso_coeff_df.head()"
   ]
  },
  {
   "cell_type": "code",
   "execution_count": 21,
   "metadata": {
    "scrolled": false
   },
   "outputs": [
    {
     "data": {
      "image/png": "[encoded data removed]",
      "text/plain": [
       "<Figure size 1296x360 with 1 Axes>"
      ]
     },
     "metadata": {
      "needs_background": "light"
     },
     "output_type": "display_data"
    }
   ],
   "source": [
    "#View plot of features and their significance\n",
    "lasso_coeff_df.plot.bar(x = 'feature', y = 'coefficient', figsize = (18, 5))\n",
    "plt.title('Plot of feature coefficient versus feature')\n",
    "plt.xlabel('Feature')\n",
    "plt.ylabel('Lasso coefficient');"
   ]
  },
  {
   "cell_type": "markdown",
   "metadata": {},
   "source": [
    "We observe that the living area and the service charge are the two most important features that positively contribute to base rent. Suprisingly, the median living area for the city or town is a drag on the base rent for individual properties, suggesting that the higher the median living area in the city / town available for rent, the lower the rent for an individual property. Perhaps, city / towns that offer larger living areas. "
   ]
  },
  {
   "cell_type": "code",
   "execution_count": 22,
   "metadata": {},
   "outputs": [],
   "source": [
    "#Create dataframe of the top 20 features\n",
    "lasso_feature_importance = lasso_coeff_df.set_index('feature')\n",
    "lasso_feature_importance['coefficient_magnitude'] = abs(lasso_feature_importance.coefficient)\n",
    "lasso_top20_features = lasso_feature_importance.sort_values(by = 'coefficient_magnitude', ascending = False)[:20]\n"
   ]
  },
  {
   "cell_type": "code",
   "execution_count": 23,
   "metadata": {},
   "outputs": [
    {
     "data": {
      "text/html": [
       "<div>\n",
       "<style scoped>\n",
       "    .dataframe tbody tr th:only-of-type {\n",
       "        vertical-align: middle;\n",
       "    }\n",
       "\n",
       "    .dataframe tbody tr th {\n",
       "        vertical-align: top;\n",
       "    }\n",
       "\n",
       "    .dataframe thead th {\n",
       "        text-align: right;\n",
       "    }\n",
       "</style>\n",
       "<table border=\"1\" class=\"dataframe\">\n",
       "  <thead>\n",
       "    <tr style=\"text-align: right;\">\n",
       "      <th></th>\n",
       "      <th>coefficient</th>\n",
       "      <th>coefficient_magnitude</th>\n",
       "    </tr>\n",
       "    <tr>\n",
       "      <th>feature</th>\n",
       "      <th></th>\n",
       "      <th></th>\n",
       "    </tr>\n",
       "  </thead>\n",
       "  <tbody>\n",
       "    <tr>\n",
       "      <th>livingSpace</th>\n",
       "      <td>265.480554</td>\n",
       "      <td>265.480554</td>\n",
       "    </tr>\n",
       "    <tr>\n",
       "      <th>medianServiceCharge_ct</th>\n",
       "      <td>101.258845</td>\n",
       "      <td>101.258845</td>\n",
       "    </tr>\n",
       "    <tr>\n",
       "      <th>medianLivingSpace_ct</th>\n",
       "      <td>-99.822056</td>\n",
       "      <td>99.822056</td>\n",
       "    </tr>\n",
       "    <tr>\n",
       "      <th>serviceCharge</th>\n",
       "      <td>82.122779</td>\n",
       "      <td>82.122779</td>\n",
       "    </tr>\n",
       "    <tr>\n",
       "      <th>medianHeatingCosts_state</th>\n",
       "      <td>59.026760</td>\n",
       "      <td>59.026760</td>\n",
       "    </tr>\n",
       "    <tr>\n",
       "      <th>medianServiceCharge_zip</th>\n",
       "      <td>56.167653</td>\n",
       "      <td>56.167653</td>\n",
       "    </tr>\n",
       "    <tr>\n",
       "      <th>interiorQual_luxury</th>\n",
       "      <td>44.162372</td>\n",
       "      <td>44.162372</td>\n",
       "    </tr>\n",
       "    <tr>\n",
       "      <th>medianThermalChar_ct</th>\n",
       "      <td>-35.318879</td>\n",
       "      <td>35.318879</td>\n",
       "    </tr>\n",
       "    <tr>\n",
       "      <th>state_Sachsen</th>\n",
       "      <td>-30.883607</td>\n",
       "      <td>30.883607</td>\n",
       "    </tr>\n",
       "    <tr>\n",
       "      <th>noRooms</th>\n",
       "      <td>-30.237881</td>\n",
       "      <td>30.237881</td>\n",
       "    </tr>\n",
       "    <tr>\n",
       "      <th>medianLivingSpace_state</th>\n",
       "      <td>27.597152</td>\n",
       "      <td>27.597152</td>\n",
       "    </tr>\n",
       "    <tr>\n",
       "      <th>state_Berlin</th>\n",
       "      <td>27.326447</td>\n",
       "      <td>27.326447</td>\n",
       "    </tr>\n",
       "    <tr>\n",
       "      <th>hasKitchen_No</th>\n",
       "      <td>-26.329991</td>\n",
       "      <td>26.329991</td>\n",
       "    </tr>\n",
       "    <tr>\n",
       "      <th>state_Hessen</th>\n",
       "      <td>-26.169906</td>\n",
       "      <td>26.169906</td>\n",
       "    </tr>\n",
       "    <tr>\n",
       "      <th>lift_No</th>\n",
       "      <td>-20.845944</td>\n",
       "      <td>20.845944</td>\n",
       "    </tr>\n",
       "    <tr>\n",
       "      <th>medianPictureCount_ct</th>\n",
       "      <td>18.387521</td>\n",
       "      <td>18.387521</td>\n",
       "    </tr>\n",
       "    <tr>\n",
       "      <th>newlyConst_No</th>\n",
       "      <td>-17.841239</td>\n",
       "      <td>17.841239</td>\n",
       "    </tr>\n",
       "    <tr>\n",
       "      <th>condition_first_time_use</th>\n",
       "      <td>17.773233</td>\n",
       "      <td>17.773233</td>\n",
       "    </tr>\n",
       "    <tr>\n",
       "      <th>condition_well_kept</th>\n",
       "      <td>-17.015021</td>\n",
       "      <td>17.015021</td>\n",
       "    </tr>\n",
       "    <tr>\n",
       "      <th>medianLivingSpace_muni</th>\n",
       "      <td>-16.529123</td>\n",
       "      <td>16.529123</td>\n",
       "    </tr>\n",
       "  </tbody>\n",
       "</table>\n",
       "</div>"
      ],
      "text/plain": [
       "                          coefficient  coefficient_magnitude\n",
       "feature                                                     \n",
       "livingSpace                265.480554             265.480554\n",
       "medianServiceCharge_ct     101.258845             101.258845\n",
       "medianLivingSpace_ct       -99.822056              99.822056\n",
       "serviceCharge               82.122779              82.122779\n",
       "medianHeatingCosts_state    59.026760              59.026760\n",
       "medianServiceCharge_zip     56.167653              56.167653\n",
       "interiorQual_luxury         44.162372              44.162372\n",
       "medianThermalChar_ct       -35.318879              35.318879\n",
       "state_Sachsen              -30.883607              30.883607\n",
       "noRooms                    -30.237881              30.237881\n",
       "medianLivingSpace_state     27.597152              27.597152\n",
       "state_Berlin                27.326447              27.326447\n",
       "hasKitchen_No              -26.329991              26.329991\n",
       "state_Hessen               -26.169906              26.169906\n",
       "lift_No                    -20.845944              20.845944\n",
       "medianPictureCount_ct       18.387521              18.387521\n",
       "newlyConst_No              -17.841239              17.841239\n",
       "condition_first_time_use    17.773233              17.773233\n",
       "condition_well_kept        -17.015021              17.015021\n",
       "medianLivingSpace_muni     -16.529123              16.529123"
      ]
     },
     "execution_count": 23,
     "metadata": {},
     "output_type": "execute_result"
    }
   ],
   "source": [
    "#View the top 20 features\n",
    "lasso_top20_features"
   ]
  },
  {
   "cell_type": "markdown",
   "metadata": {},
   "source": [
    "We notice that some of the features that contribute to the base rent are ones that a landlord cannot influence. These include the median service charge for the city / town and the median living area. The features that landlords can influence according to the lasso model are as follows:\n",
    "- livingSpace: Landlords can set higher base rents for properties with a larger area. \n",
    "- interiorQuality: Properties that are considered to be luxurious will elicity higher base rent. Landlords should consider rennovating their properties. \n",
    "- hasKitchen: Landlords should install a kitchen if one is absent. The absence of a kitchen reduces base rent. \n",
    "- condition_first_time_use: New properties command higher rent"
   ]
  },
  {
   "cell_type": "markdown",
   "metadata": {},
   "source": [
    "# Ridge"
   ]
  },
  {
   "cell_type": "code",
   "execution_count": 24,
   "metadata": {},
   "outputs": [],
   "source": [
    "#Instantiate ridge model\n",
    "ridge = Ridge();"
   ]
  },
  {
   "cell_type": "code",
   "execution_count": 25,
   "metadata": {},
   "outputs": [],
   "source": [
    "#Determine cross validation performance on ridge model with 5 folds\n",
    "ridge_r2_scores, ridge_mae_scores = cv_performance(ridge, X_train, y_train, 5)"
   ]
  },
  {
   "cell_type": "code",
   "execution_count": 26,
   "metadata": {},
   "outputs": [
    {
     "data": {
      "text/plain": [
       "array([0.7612815 , 0.67111133, 0.72440346, 0.75757941, 0.77104556])"
      ]
     },
     "execution_count": 26,
     "metadata": {},
     "output_type": "execute_result"
    }
   ],
   "source": [
    "#Check r2 cross validation scores\n",
    "ridge_r2_scores"
   ]
  },
  {
   "cell_type": "code",
   "execution_count": 27,
   "metadata": {},
   "outputs": [
    {
     "data": {
      "text/plain": [
       "(0.7370842525996383, 0.036529870855028096)"
      ]
     },
     "execution_count": 27,
     "metadata": {},
     "output_type": "execute_result"
    }
   ],
   "source": [
    "#Check mean and standard deviation of r2 cross validation scores\n",
    "ridge_r2_mean, ridge_r2_std = cv_mean_std(ridge_r2_scores)\n",
    "ridge_r2_mean, ridge_r2_std"
   ]
  },
  {
   "cell_type": "code",
   "execution_count": 28,
   "metadata": {},
   "outputs": [
    {
     "data": {
      "text/plain": [
       "(0.7005543817446102, 0.7736141234546664)"
      ]
     },
     "execution_count": 28,
     "metadata": {},
     "output_type": "execute_result"
    }
   ],
   "source": [
    "#Ridge model r2 lower and upper limits\n",
    "limits(ridge_r2_mean, ridge_r2_std)"
   ]
  },
  {
   "cell_type": "code",
   "execution_count": 29,
   "metadata": {},
   "outputs": [],
   "source": [
    "#Fit ridge model to data\n",
    "ridge.fit(X_train, y_train);"
   ]
  },
  {
   "cell_type": "code",
   "execution_count": 30,
   "metadata": {},
   "outputs": [],
   "source": [
    "#Determine performance of ridge model on test set\n",
    "ridge_r2_test_score, ridge_mae_test_score = test_performance(ridge)"
   ]
  },
  {
   "cell_type": "code",
   "execution_count": 31,
   "metadata": {},
   "outputs": [
    {
     "data": {
      "text/plain": [
       "0.728541451338594"
      ]
     },
     "execution_count": 31,
     "metadata": {},
     "output_type": "execute_result"
    }
   ],
   "source": [
    "#Check r2 performance on ridge on test set\n",
    "ridge_r2_test_score"
   ]
  },
  {
   "cell_type": "markdown",
   "metadata": {},
   "source": [
    "We get a similar performance for the test set with the ridge model as with the lasso model. The r2 score also falls within the standard deviation of the cross validation values, suggesting a representative model. "
   ]
  },
  {
   "cell_type": "markdown",
   "metadata": {},
   "source": [
    "### Feature importance - ridge"
   ]
  },
  {
   "cell_type": "code",
   "execution_count": 32,
   "metadata": {
    "scrolled": false
   },
   "outputs": [
    {
     "data": {
      "text/plain": [
       "array([  81.55985148,  270.79133086,  -34.64244378,   15.21263667,\n",
       "          6.06797309,   17.15351939,    7.6559147 ,   -0.82884454,\n",
       "         25.79722809,    3.21851997,  -26.55127728, -109.89351909,\n",
       "        105.60675836,  -37.62401332,   18.50070285,    2.41758679,\n",
       "        -25.20262213,    8.8570319 ,   15.07034052,   -9.12884205,\n",
       "          9.08959807,   50.28420507,    9.59840677,   18.67485192,\n",
       "         28.03405143,   -3.52776382,   -3.71419357,    4.1924492 ,\n",
       "        -19.71575021,    2.57035589,    5.39770737,   -2.41039067,\n",
       "          3.04875141,   -2.61039803,  -28.18770777,   11.02911225,\n",
       "         10.74125723,   -7.99844468,   -9.01972935,    9.01972939,\n",
       "          0.96545833,   -0.96545846,  -13.27780282,   13.27780286,\n",
       "         17.67269314,    7.73346385,   -5.07788314,   11.49539966,\n",
       "         -6.52985478,   -4.88900823,   -2.63697667,   -1.06986083,\n",
       "          0.34588622,    5.49435597,  -18.91019453,   43.30045545,\n",
       "        -14.11954071,   -3.66697761,    3.532753  ,   -3.83354779,\n",
       "        -10.1637597 ,   10.1637598 ,   -2.23905428,   -1.85775494,\n",
       "         -3.51842985,   -1.93350265,   -1.1299512 ,   -3.36771536,\n",
       "         12.95685543,   -2.98357741,   -3.96422912,   -1.25331928,\n",
       "          9.86064667])"
      ]
     },
     "execution_count": 32,
     "metadata": {},
     "output_type": "execute_result"
    }
   ],
   "source": [
    "#Review coefficients of the 73 features\n",
    "ridge.coef_"
   ]
  },
  {
   "cell_type": "markdown",
   "metadata": {},
   "source": [
    "Unlike lasso, the ridge reduces the coefficients of useless features to a very low value, but not to zero."
   ]
  },
  {
   "cell_type": "code",
   "execution_count": 33,
   "metadata": {},
   "outputs": [
    {
     "data": {
      "text/html": [
       "<div>\n",
       "<style scoped>\n",
       "    .dataframe tbody tr th:only-of-type {\n",
       "        vertical-align: middle;\n",
       "    }\n",
       "\n",
       "    .dataframe tbody tr th {\n",
       "        vertical-align: top;\n",
       "    }\n",
       "\n",
       "    .dataframe thead th {\n",
       "        text-align: right;\n",
       "    }\n",
       "</style>\n",
       "<table border=\"1\" class=\"dataframe\">\n",
       "  <thead>\n",
       "    <tr style=\"text-align: right;\">\n",
       "      <th></th>\n",
       "      <th>feature</th>\n",
       "      <th>coefficient</th>\n",
       "    </tr>\n",
       "  </thead>\n",
       "  <tbody>\n",
       "    <tr>\n",
       "      <th>0</th>\n",
       "      <td>medianLivingSpace_ct</td>\n",
       "      <td>-109.893519</td>\n",
       "    </tr>\n",
       "    <tr>\n",
       "      <th>1</th>\n",
       "      <td>medianThermalChar_ct</td>\n",
       "      <td>-37.624013</td>\n",
       "    </tr>\n",
       "    <tr>\n",
       "      <th>2</th>\n",
       "      <td>noRooms</td>\n",
       "      <td>-34.642444</td>\n",
       "    </tr>\n",
       "    <tr>\n",
       "      <th>3</th>\n",
       "      <td>state_Sachsen</td>\n",
       "      <td>-28.187708</td>\n",
       "    </tr>\n",
       "    <tr>\n",
       "      <th>4</th>\n",
       "      <td>no_Listings_per_100people</td>\n",
       "      <td>-26.551277</td>\n",
       "    </tr>\n",
       "  </tbody>\n",
       "</table>\n",
       "</div>"
      ],
      "text/plain": [
       "                     feature  coefficient\n",
       "0       medianLivingSpace_ct  -109.893519\n",
       "1       medianThermalChar_ct   -37.624013\n",
       "2                    noRooms   -34.642444\n",
       "3              state_Sachsen   -28.187708\n",
       "4  no_Listings_per_100people   -26.551277"
      ]
     },
     "execution_count": 33,
     "metadata": {},
     "output_type": "execute_result"
    }
   ],
   "source": [
    "#Create ridge coefficent data frame\n",
    "ridge_coeff_df = pd.DataFrame(ridge.coef_, index = X_features, columns = ['coefficient']).\\\n",
    "sort_values(by = 'coefficient').reset_index().rename(columns = {'index': 'feature'})\n",
    "ridge_coeff_df.head()"
   ]
  },
  {
   "cell_type": "code",
   "execution_count": 34,
   "metadata": {
    "scrolled": false
   },
   "outputs": [
    {
     "data": {
      "image/png": "[encoded data removed]",
      "text/plain": [
       "<Figure size 1296x360 with 1 Axes>"
      ]
     },
     "metadata": {
      "needs_background": "light"
     },
     "output_type": "display_data"
    }
   ],
   "source": [
    "#View plot of features and their significance\n",
    "ridge_coeff_df.plot.bar(x = 'feature', y = 'coefficient', figsize = (18, 5))\n",
    "plt.title('Plot of feature coefficient versus feature')\n",
    "plt.xlabel('Feature')\n",
    "plt.ylabel('Ridge coefficient');"
   ]
  },
  {
   "cell_type": "markdown",
   "metadata": {},
   "source": [
    "Here again, we notice that the living and service charge positively influence the base rent, while the median living area of the city and median thermal characterisitics of the city reduces base rent. "
   ]
  },
  {
   "cell_type": "code",
   "execution_count": 35,
   "metadata": {},
   "outputs": [],
   "source": [
    "#Create dataframe of the top 20 features\n",
    "ridge_feature_importance = ridge_coeff_df.set_index('feature')\n",
    "ridge_feature_importance['coefficient_magnitude'] = abs(ridge_feature_importance.coefficient)\n",
    "ridge_top20_features = ridge_feature_importance.sort_values(by = 'coefficient_magnitude', ascending = False)[:20]"
   ]
  },
  {
   "cell_type": "code",
   "execution_count": 36,
   "metadata": {},
   "outputs": [
    {
     "data": {
      "text/html": [
       "<div>\n",
       "<style scoped>\n",
       "    .dataframe tbody tr th:only-of-type {\n",
       "        vertical-align: middle;\n",
       "    }\n",
       "\n",
       "    .dataframe tbody tr th {\n",
       "        vertical-align: top;\n",
       "    }\n",
       "\n",
       "    .dataframe thead th {\n",
       "        text-align: right;\n",
       "    }\n",
       "</style>\n",
       "<table border=\"1\" class=\"dataframe\">\n",
       "  <thead>\n",
       "    <tr style=\"text-align: right;\">\n",
       "      <th></th>\n",
       "      <th>coefficient</th>\n",
       "      <th>coefficient_magnitude</th>\n",
       "    </tr>\n",
       "    <tr>\n",
       "      <th>feature</th>\n",
       "      <th></th>\n",
       "      <th></th>\n",
       "    </tr>\n",
       "  </thead>\n",
       "  <tbody>\n",
       "    <tr>\n",
       "      <th>livingSpace</th>\n",
       "      <td>270.791331</td>\n",
       "      <td>270.791331</td>\n",
       "    </tr>\n",
       "    <tr>\n",
       "      <th>medianLivingSpace_ct</th>\n",
       "      <td>-109.893519</td>\n",
       "      <td>109.893519</td>\n",
       "    </tr>\n",
       "    <tr>\n",
       "      <th>medianServiceCharge_ct</th>\n",
       "      <td>105.606758</td>\n",
       "      <td>105.606758</td>\n",
       "    </tr>\n",
       "    <tr>\n",
       "      <th>serviceCharge</th>\n",
       "      <td>81.559851</td>\n",
       "      <td>81.559851</td>\n",
       "    </tr>\n",
       "    <tr>\n",
       "      <th>medianServiceCharge_zip</th>\n",
       "      <td>50.284205</td>\n",
       "      <td>50.284205</td>\n",
       "    </tr>\n",
       "    <tr>\n",
       "      <th>interiorQual_luxury</th>\n",
       "      <td>43.300455</td>\n",
       "      <td>43.300455</td>\n",
       "    </tr>\n",
       "    <tr>\n",
       "      <th>medianThermalChar_ct</th>\n",
       "      <td>-37.624013</td>\n",
       "      <td>37.624013</td>\n",
       "    </tr>\n",
       "    <tr>\n",
       "      <th>noRooms</th>\n",
       "      <td>-34.642444</td>\n",
       "      <td>34.642444</td>\n",
       "    </tr>\n",
       "    <tr>\n",
       "      <th>state_Sachsen</th>\n",
       "      <td>-28.187708</td>\n",
       "      <td>28.187708</td>\n",
       "    </tr>\n",
       "    <tr>\n",
       "      <th>state_Berlin</th>\n",
       "      <td>28.034051</td>\n",
       "      <td>28.034051</td>\n",
       "    </tr>\n",
       "    <tr>\n",
       "      <th>no_Listings_per_100people</th>\n",
       "      <td>-26.551277</td>\n",
       "      <td>26.551277</td>\n",
       "    </tr>\n",
       "    <tr>\n",
       "      <th>medianHeatingCosts_state</th>\n",
       "      <td>25.797228</td>\n",
       "      <td>25.797228</td>\n",
       "    </tr>\n",
       "    <tr>\n",
       "      <th>medianLivingSpace_muni</th>\n",
       "      <td>-25.202622</td>\n",
       "      <td>25.202622</td>\n",
       "    </tr>\n",
       "    <tr>\n",
       "      <th>state_Hessen</th>\n",
       "      <td>-19.715750</td>\n",
       "      <td>19.715750</td>\n",
       "    </tr>\n",
       "    <tr>\n",
       "      <th>condition_well_kept</th>\n",
       "      <td>-18.910195</td>\n",
       "      <td>18.910195</td>\n",
       "    </tr>\n",
       "    <tr>\n",
       "      <th>state_Bayern</th>\n",
       "      <td>18.674852</td>\n",
       "      <td>18.674852</td>\n",
       "    </tr>\n",
       "    <tr>\n",
       "      <th>medianPictureCount_ct</th>\n",
       "      <td>18.500703</td>\n",
       "      <td>18.500703</td>\n",
       "    </tr>\n",
       "    <tr>\n",
       "      <th>condition_first_time_use</th>\n",
       "      <td>17.672693</td>\n",
       "      <td>17.672693</td>\n",
       "    </tr>\n",
       "    <tr>\n",
       "      <th>medianLivingSpace_state</th>\n",
       "      <td>17.153519</td>\n",
       "      <td>17.153519</td>\n",
       "    </tr>\n",
       "    <tr>\n",
       "      <th>gdp_per_capita_2018</th>\n",
       "      <td>15.212637</td>\n",
       "      <td>15.212637</td>\n",
       "    </tr>\n",
       "  </tbody>\n",
       "</table>\n",
       "</div>"
      ],
      "text/plain": [
       "                           coefficient  coefficient_magnitude\n",
       "feature                                                      \n",
       "livingSpace                 270.791331             270.791331\n",
       "medianLivingSpace_ct       -109.893519             109.893519\n",
       "medianServiceCharge_ct      105.606758             105.606758\n",
       "serviceCharge                81.559851              81.559851\n",
       "medianServiceCharge_zip      50.284205              50.284205\n",
       "interiorQual_luxury          43.300455              43.300455\n",
       "medianThermalChar_ct        -37.624013              37.624013\n",
       "noRooms                     -34.642444              34.642444\n",
       "state_Sachsen               -28.187708              28.187708\n",
       "state_Berlin                 28.034051              28.034051\n",
       "no_Listings_per_100people   -26.551277              26.551277\n",
       "medianHeatingCosts_state     25.797228              25.797228\n",
       "medianLivingSpace_muni      -25.202622              25.202622\n",
       "state_Hessen                -19.715750              19.715750\n",
       "condition_well_kept         -18.910195              18.910195\n",
       "state_Bayern                 18.674852              18.674852\n",
       "medianPictureCount_ct        18.500703              18.500703\n",
       "condition_first_time_use     17.672693              17.672693\n",
       "medianLivingSpace_state      17.153519              17.153519\n",
       "gdp_per_capita_2018          15.212637              15.212637"
      ]
     },
     "execution_count": 36,
     "metadata": {},
     "output_type": "execute_result"
    }
   ],
   "source": [
    "#View the top 20 features\n",
    "ridge_top20_features"
   ]
  },
  {
   "cell_type": "markdown",
   "metadata": {},
   "source": [
    "We note that the ridge model has similar top 20 features as the lasso model, althought these are not the same."
   ]
  },
  {
   "cell_type": "markdown",
   "metadata": {},
   "source": [
    "### Feature importance comparison "
   ]
  },
  {
   "cell_type": "code",
   "execution_count": 37,
   "metadata": {
    "scrolled": true
   },
   "outputs": [
    {
     "data": {
      "text/plain": [
       "['serviceCharge',\n",
       " 'medianServiceCharge_ct',\n",
       " 'state_Hessen',\n",
       " 'condition_well_kept',\n",
       " 'medianHeatingCosts_state',\n",
       " 'noRooms',\n",
       " 'condition_first_time_use',\n",
       " 'medianLivingSpace_state',\n",
       " 'medianLivingSpace_ct',\n",
       " 'state_Berlin',\n",
       " 'interiorQual_luxury',\n",
       " 'livingSpace',\n",
       " 'medianLivingSpace_muni',\n",
       " 'state_Sachsen',\n",
       " 'medianServiceCharge_zip',\n",
       " 'medianThermalChar_ct',\n",
       " 'medianPictureCount_ct']"
      ]
     },
     "execution_count": 37,
     "metadata": {},
     "output_type": "execute_result"
    }
   ],
   "source": [
    "common_features_ridge_lasso = list(set(ridge_top20_features.index).intersection(set(lasso_top20_features.index)))\n",
    "common_features_ridge_lasso"
   ]
  },
  {
   "cell_type": "code",
   "execution_count": 38,
   "metadata": {},
   "outputs": [
    {
     "data": {
      "text/plain": [
       "17"
      ]
     },
     "execution_count": 38,
     "metadata": {},
     "output_type": "execute_result"
    }
   ],
   "source": [
    "len(common_features_ridge_lasso)"
   ]
  },
  {
   "cell_type": "markdown",
   "metadata": {},
   "source": [
    "Of the 20 top features determined by both models, 17 of them are featured in both, suggesting that both models are interpreting the data in a similar manner."
   ]
  },
  {
   "cell_type": "code",
   "execution_count": 39,
   "metadata": {},
   "outputs": [],
   "source": [
    "diff_features_ridge_lasso = list(set(ridge_top20_features.index).difference(set(lasso_top20_features.index))) + list(set(lasso_top20_features.index).difference(set(ridge_top20_features.index)))"
   ]
  },
  {
   "cell_type": "code",
   "execution_count": 40,
   "metadata": {},
   "outputs": [
    {
     "data": {
      "text/plain": [
       "['state_Bayern',\n",
       " 'no_Listings_per_100people',\n",
       " 'gdp_per_capita_2018',\n",
       " 'hasKitchen_No',\n",
       " 'newlyConst_No',\n",
       " 'lift_No']"
      ]
     },
     "execution_count": 40,
     "metadata": {},
     "output_type": "execute_result"
    }
   ],
   "source": [
    "diff_features_ridge_lasso"
   ]
  },
  {
   "cell_type": "markdown",
   "metadata": {},
   "source": [
    "The six features that are featured in one, but not both models include no_Listings_per_100people, gdp_per_capita_2018, state_Bayern, lift_No, newlyConst_No, hasKitchen_No, and none of these feature in the top 10."
   ]
  },
  {
   "cell_type": "markdown",
   "metadata": {},
   "source": [
    "# Tree induction ensemble models"
   ]
  },
  {
   "cell_type": "markdown",
   "metadata": {},
   "source": [
    "The linear models we developed were appropriate; however,  tree induction ensemble models may provide better performance because they are not constrained by limitations of a model. For instance, outliers are unlikely to affect tree induction models. We will trial a random forest model and an XGBoost model to determine if we can improve performance."
   ]
  },
  {
   "cell_type": "markdown",
   "metadata": {},
   "source": [
    "## Random forest"
   ]
  },
  {
   "cell_type": "code",
   "execution_count": 41,
   "metadata": {},
   "outputs": [],
   "source": [
    "#Instantiate random forest model\n",
    "rf = RandomForestRegressor(n_estimators = 10, max_depth = 15, random_state = 77)"
   ]
  },
  {
   "cell_type": "code",
   "execution_count": 42,
   "metadata": {},
   "outputs": [],
   "source": [
    "#Determine cross validation performance on random forest model with 5 folds\n",
    "rf_r2_scores, rf_mae_scores = cv_performance(rf, X_train, y_train, 5)"
   ]
  },
  {
   "cell_type": "code",
   "execution_count": 43,
   "metadata": {},
   "outputs": [
    {
     "data": {
      "text/plain": [
       "array([0.85717382, 0.75774106, 0.83146012, 0.86731928, 0.83374287])"
      ]
     },
     "execution_count": 43,
     "metadata": {},
     "output_type": "execute_result"
    }
   ],
   "source": [
    "#Check r2 cross validation scores\n",
    "rf_r2_scores"
   ]
  },
  {
   "cell_type": "markdown",
   "metadata": {},
   "source": [
    "We observe that our cross-validation r2-scores for the random forest model are better than the ones obtained from our linear models. "
   ]
  },
  {
   "cell_type": "code",
   "execution_count": 44,
   "metadata": {},
   "outputs": [
    {
     "data": {
      "text/plain": [
       "(0.8294874308391587, 0.03838574383963326)"
      ]
     },
     "execution_count": 44,
     "metadata": {},
     "output_type": "execute_result"
    }
   ],
   "source": [
    "#Check mean and standard deviation of r2 cross validation scores\n",
    "rf_r2_mean, rf_r2_std = cv_mean_std(rf_r2_scores)\n",
    "rf_r2_mean, rf_r2_std"
   ]
  },
  {
   "cell_type": "code",
   "execution_count": 45,
   "metadata": {},
   "outputs": [
    {
     "data": {
      "text/plain": [
       "(0.7911016869995254, 0.8678731746787919)"
      ]
     },
     "execution_count": 45,
     "metadata": {},
     "output_type": "execute_result"
    }
   ],
   "source": [
    "#Random forest model r2 lower and upper limits\n",
    "limits(rf_r2_mean, rf_r2_std)"
   ]
  },
  {
   "cell_type": "code",
   "execution_count": 46,
   "metadata": {},
   "outputs": [],
   "source": [
    "#Fit random forest model to data\n",
    "rf.fit(X_train, y_train);"
   ]
  },
  {
   "cell_type": "code",
   "execution_count": 47,
   "metadata": {},
   "outputs": [],
   "source": [
    "#Determine performance of random forest model on test set\n",
    "rf_r2_test_score, rf_mae_test_score = test_performance(rf)"
   ]
  },
  {
   "cell_type": "code",
   "execution_count": 48,
   "metadata": {},
   "outputs": [
    {
     "data": {
      "text/plain": [
       "0.8188367291712011"
      ]
     },
     "execution_count": 48,
     "metadata": {},
     "output_type": "execute_result"
    }
   ],
   "source": [
    "#Check r2 performance on random forest on test set\n",
    "rf_r2_test_score"
   ]
  },
  {
   "cell_type": "markdown",
   "metadata": {},
   "source": [
    "Our test score falls within the range of the model's standard deviation for the cross-validation scores. Our random forest model is our best model so far."
   ]
  },
  {
   "cell_type": "markdown",
   "metadata": {},
   "source": [
    "### Hyperparameter tuning of random forest model"
   ]
  },
  {
   "cell_type": "markdown",
   "metadata": {},
   "source": [
    "We can check if we can improve the performance of our random forest model, while being cautious of overfitting the model with a cross validation random search on the number of trees to use and their max depth."
   ]
  },
  {
   "cell_type": "code",
   "execution_count": 49,
   "metadata": {},
   "outputs": [],
   "source": [
    "#Instantiate random forest estimator for grid search\n",
    "rf_grid = RandomForestRegressor()"
   ]
  },
  {
   "cell_type": "code",
   "execution_count": 50,
   "metadata": {},
   "outputs": [],
   "source": [
    "#Create hyperparameter grid\n",
    "n_est = np.arange(10, 30, 5)\n",
    "max_depth = max_depth = np.arange(5, 30, 5)\n",
    "grid_params = {'n_estimators': n_est, 'max_depth': max_depth}"
   ]
  },
  {
   "cell_type": "code",
   "execution_count": 51,
   "metadata": {},
   "outputs": [],
   "source": [
    "#Perform cross validated randomized search on the parameter grid\n",
    "rf_grid_cv = RandomizedSearchCV(rf_grid, param_distributions = grid_params, n_iter = 2, scoring = 'r2', cv= 5, random_state = 77)"
   ]
  },
  {
   "cell_type": "code",
   "execution_count": 52,
   "metadata": {},
   "outputs": [],
   "source": [
    "#Fit randomized search model to data\n",
    "rf_grid_cv.fit(X_train, y_train);"
   ]
  },
  {
   "cell_type": "code",
   "execution_count": 53,
   "metadata": {
    "scrolled": true
   },
   "outputs": [
    {
     "data": {
      "text/plain": [
       "{'n_estimators': 20, 'max_depth': 20}"
      ]
     },
     "execution_count": 53,
     "metadata": {},
     "output_type": "execute_result"
    }
   ],
   "source": [
    "rf_grid_cv.best_params_"
   ]
  },
  {
   "cell_type": "markdown",
   "metadata": {},
   "source": [
    "We observe that best parameters are 20 estimators and a max depth of 20, which is a change from the previous number of estimators we had. Let us determine if the performance has improved."
   ]
  },
  {
   "cell_type": "code",
   "execution_count": 54,
   "metadata": {},
   "outputs": [],
   "source": [
    "#Instantiate random forest model with updated parameters\n",
    "rf_search = RandomForestRegressor(n_estimators = 20, max_depth = 20, random_state = 77)"
   ]
  },
  {
   "cell_type": "code",
   "execution_count": 55,
   "metadata": {},
   "outputs": [],
   "source": [
    "#Determine cross validation performance on updated random forest model with 5 folds\n",
    "rf_search_r2_scores, rf_search_mae_scores = cv_performance(rf_search, X_train, y_train, 5)"
   ]
  },
  {
   "cell_type": "code",
   "execution_count": 56,
   "metadata": {},
   "outputs": [
    {
     "data": {
      "text/plain": [
       "array([0.86559696, 0.76356628, 0.83612583, 0.88308455, 0.85133525])"
      ]
     },
     "execution_count": 56,
     "metadata": {},
     "output_type": "execute_result"
    }
   ],
   "source": [
    "#Check updated r2 cross validation scores\n",
    "rf_search_r2_scores"
   ]
  },
  {
   "cell_type": "code",
   "execution_count": 57,
   "metadata": {},
   "outputs": [
    {
     "data": {
      "text/plain": [
       "(0.8399417744721205, 0.04122396803568293)"
      ]
     },
     "execution_count": 57,
     "metadata": {},
     "output_type": "execute_result"
    }
   ],
   "source": [
    "#Check updated mean and standard deviation of r2 cross validation scores\n",
    "rf_search_r2_mean, rf_search_r2_std = cv_mean_std(rf_search_r2_scores)\n",
    "rf_search_r2_mean, rf_search_r2_std"
   ]
  },
  {
   "cell_type": "code",
   "execution_count": 58,
   "metadata": {},
   "outputs": [
    {
     "data": {
      "text/plain": [
       "(0.7987178064364375, 0.8811657425078034)"
      ]
     },
     "execution_count": 58,
     "metadata": {},
     "output_type": "execute_result"
    }
   ],
   "source": [
    "#Updated random forest model r2 lower and upper limits\n",
    "limits(rf_search_r2_mean, rf_search_r2_std)"
   ]
  },
  {
   "cell_type": "code",
   "execution_count": 59,
   "metadata": {},
   "outputs": [],
   "source": [
    "#Fit updated random forest model to data\n",
    "rf_search.fit(X_train, y_train);"
   ]
  },
  {
   "cell_type": "code",
   "execution_count": 60,
   "metadata": {},
   "outputs": [],
   "source": [
    "#Determine updated performance of random forest model on test set\n",
    "rf_search_r2_test_score, rf_search_mae_test_score = test_performance(rf_search)"
   ]
  },
  {
   "cell_type": "code",
   "execution_count": 61,
   "metadata": {},
   "outputs": [
    {
     "data": {
      "text/plain": [
       "0.829282811437949"
      ]
     },
     "execution_count": 61,
     "metadata": {},
     "output_type": "execute_result"
    }
   ],
   "source": [
    "#Check updated r2 performance on random forest on test set\n",
    "rf_search_r2_test_score"
   ]
  },
  {
   "cell_type": "markdown",
   "metadata": {},
   "source": [
    "We observe slightly better performance with the current parameters than the previous parameters."
   ]
  },
  {
   "cell_type": "markdown",
   "metadata": {},
   "source": [
    "### Feature importance - random forest"
   ]
  },
  {
   "cell_type": "code",
   "execution_count": 62,
   "metadata": {
    "scrolled": true
   },
   "outputs": [
    {
     "data": {
      "text/plain": [
       "array([1.48469475e-01, 4.47747583e-01, 6.14521285e-03, 3.36969324e-03,\n",
       "       2.98360126e-03, 1.25747445e-03, 1.43524614e-03, 1.70097212e-03,\n",
       "       2.29759144e-03, 1.38794597e-03, 9.25597032e-03, 4.08537063e-02,\n",
       "       1.60515538e-01, 9.21531131e-03, 1.01935136e-02, 2.04071790e-03,\n",
       "       1.62505119e-02, 1.10460595e-02, 9.05028127e-03, 2.32809672e-03,\n",
       "       1.03266444e-02, 2.04004678e-02, 3.22854511e-04, 2.71216829e-03,\n",
       "       4.68956909e-04, 6.24069839e-05, 2.44536155e-05, 6.79043213e-05,\n",
       "       4.93531946e-04, 2.11440591e-05, 2.37445498e-04, 1.69835863e-04,\n",
       "       1.54675253e-04, 5.82516059e-06, 1.48472034e-03, 1.10056560e-05,\n",
       "       1.51730260e-04, 2.53838057e-05, 3.09226631e-03, 4.10306980e-03,\n",
       "       1.03529093e-03, 8.70422772e-04, 2.20836183e-03, 3.29464550e-03,\n",
       "       6.55795313e-03, 1.15829952e-03, 6.89658466e-04, 5.27147312e-03,\n",
       "       5.71406274e-04, 2.94134645e-05, 6.64532636e-05, 1.02056743e-03,\n",
       "       2.88898852e-08, 2.50021444e-03, 1.96747578e-03, 6.50112467e-03,\n",
       "       4.09203812e-03, 1.05186820e-04, 4.04748521e-03, 1.28755296e-03,\n",
       "       7.56660283e-03, 6.55858202e-03, 1.38619769e-03, 8.17908450e-04,\n",
       "       9.82941905e-05, 2.29992643e-04, 7.30211645e-04, 5.87393397e-04,\n",
       "       1.34249048e-03, 2.57237945e-04, 1.49898358e-03, 3.18259741e-04,\n",
       "       3.45179917e-03])"
      ]
     },
     "execution_count": 62,
     "metadata": {},
     "output_type": "execute_result"
    }
   ],
   "source": [
    "#Get feature importance for random forest\n",
    "rf_search.feature_importances_"
   ]
  },
  {
   "cell_type": "code",
   "execution_count": 63,
   "metadata": {},
   "outputs": [
    {
     "data": {
      "text/html": [
       "<div>\n",
       "<style scoped>\n",
       "    .dataframe tbody tr th:only-of-type {\n",
       "        vertical-align: middle;\n",
       "    }\n",
       "\n",
       "    .dataframe tbody tr th {\n",
       "        vertical-align: top;\n",
       "    }\n",
       "\n",
       "    .dataframe thead th {\n",
       "        text-align: right;\n",
       "    }\n",
       "</style>\n",
       "<table border=\"1\" class=\"dataframe\">\n",
       "  <thead>\n",
       "    <tr style=\"text-align: right;\">\n",
       "      <th></th>\n",
       "      <th>feature</th>\n",
       "      <th>coefficient</th>\n",
       "    </tr>\n",
       "  </thead>\n",
       "  <tbody>\n",
       "    <tr>\n",
       "      <th>0</th>\n",
       "      <td>condition_ripe_for_demolition</td>\n",
       "      <td>2.888989e-08</td>\n",
       "    </tr>\n",
       "    <tr>\n",
       "      <th>1</th>\n",
       "      <td>state_Saarland</td>\n",
       "      <td>5.825161e-06</td>\n",
       "    </tr>\n",
       "    <tr>\n",
       "      <th>2</th>\n",
       "      <td>state_Sachsen_Anhalt</td>\n",
       "      <td>1.100566e-05</td>\n",
       "    </tr>\n",
       "    <tr>\n",
       "      <th>3</th>\n",
       "      <td>state_Mecklenburg_Vorpommern</td>\n",
       "      <td>2.114406e-05</td>\n",
       "    </tr>\n",
       "    <tr>\n",
       "      <th>4</th>\n",
       "      <td>state_Bremen</td>\n",
       "      <td>2.445362e-05</td>\n",
       "    </tr>\n",
       "  </tbody>\n",
       "</table>\n",
       "</div>"
      ],
      "text/plain": [
       "                         feature   coefficient\n",
       "0  condition_ripe_for_demolition  2.888989e-08\n",
       "1                 state_Saarland  5.825161e-06\n",
       "2           state_Sachsen_Anhalt  1.100566e-05\n",
       "3   state_Mecklenburg_Vorpommern  2.114406e-05\n",
       "4                   state_Bremen  2.445362e-05"
      ]
     },
     "execution_count": 63,
     "metadata": {},
     "output_type": "execute_result"
    }
   ],
   "source": [
    "#Create random forest coefficent data frame\n",
    "rf_search_coeff_df = pd.DataFrame(rf_search.feature_importances_, index = X_features, columns = ['coefficient']).\\\n",
    "sort_values(by = 'coefficient').reset_index().rename(columns = {'index': 'feature'})\n",
    "rf_search_coeff_df.head()"
   ]
  },
  {
   "cell_type": "code",
   "execution_count": 64,
   "metadata": {},
   "outputs": [
    {
     "data": {
      "image/png": "[encoded data removed]",
      "text/plain": [
       "<Figure size 1296x360 with 1 Axes>"
      ]
     },
     "metadata": {
      "needs_background": "light"
     },
     "output_type": "display_data"
    }
   ],
   "source": [
    "#View plot of features and their significance\n",
    "rf_search_coeff_df.plot.bar(x = 'feature', y = 'coefficient', figsize = (18, 5))\n",
    "plt.title('Plot of feature coefficient versus feature')\n",
    "plt.xlabel('Feature')\n",
    "plt.ylabel('Random forest coefficients');"
   ]
  },
  {
   "cell_type": "code",
   "execution_count": 65,
   "metadata": {},
   "outputs": [],
   "source": [
    "#Create dataframe of the top 20 features\n",
    "rf_search_feature_importance = rf_search_coeff_df.set_index('feature')\n",
    "rf_search_top20_features = rf_search_coeff_df.sort_values(by = 'coefficient', ascending = False)[:20]"
   ]
  },
  {
   "cell_type": "code",
   "execution_count": 66,
   "metadata": {},
   "outputs": [
    {
     "data": {
      "text/html": [
       "<div>\n",
       "<style scoped>\n",
       "    .dataframe tbody tr th:only-of-type {\n",
       "        vertical-align: middle;\n",
       "    }\n",
       "\n",
       "    .dataframe tbody tr th {\n",
       "        vertical-align: top;\n",
       "    }\n",
       "\n",
       "    .dataframe thead th {\n",
       "        text-align: right;\n",
       "    }\n",
       "</style>\n",
       "<table border=\"1\" class=\"dataframe\">\n",
       "  <thead>\n",
       "    <tr style=\"text-align: right;\">\n",
       "      <th></th>\n",
       "      <th>feature</th>\n",
       "      <th>coefficient</th>\n",
       "    </tr>\n",
       "  </thead>\n",
       "  <tbody>\n",
       "    <tr>\n",
       "      <th>72</th>\n",
       "      <td>livingSpace</td>\n",
       "      <td>0.447748</td>\n",
       "    </tr>\n",
       "    <tr>\n",
       "      <th>71</th>\n",
       "      <td>medianServiceCharge_ct</td>\n",
       "      <td>0.160516</td>\n",
       "    </tr>\n",
       "    <tr>\n",
       "      <th>70</th>\n",
       "      <td>serviceCharge</td>\n",
       "      <td>0.148469</td>\n",
       "    </tr>\n",
       "    <tr>\n",
       "      <th>69</th>\n",
       "      <td>medianLivingSpace_ct</td>\n",
       "      <td>0.040854</td>\n",
       "    </tr>\n",
       "    <tr>\n",
       "      <th>68</th>\n",
       "      <td>medianServiceCharge_zip</td>\n",
       "      <td>0.020400</td>\n",
       "    </tr>\n",
       "    <tr>\n",
       "      <th>67</th>\n",
       "      <td>medianLivingSpace_muni</td>\n",
       "      <td>0.016251</td>\n",
       "    </tr>\n",
       "    <tr>\n",
       "      <th>66</th>\n",
       "      <td>medianServiceCharge_muni</td>\n",
       "      <td>0.011046</td>\n",
       "    </tr>\n",
       "    <tr>\n",
       "      <th>65</th>\n",
       "      <td>medianLivingSpace_zip</td>\n",
       "      <td>0.010327</td>\n",
       "    </tr>\n",
       "    <tr>\n",
       "      <th>64</th>\n",
       "      <td>medianPictureCount_ct</td>\n",
       "      <td>0.010194</td>\n",
       "    </tr>\n",
       "    <tr>\n",
       "      <th>63</th>\n",
       "      <td>no_Listings_per_100people</td>\n",
       "      <td>0.009256</td>\n",
       "    </tr>\n",
       "    <tr>\n",
       "      <th>62</th>\n",
       "      <td>medianThermalChar_ct</td>\n",
       "      <td>0.009215</td>\n",
       "    </tr>\n",
       "    <tr>\n",
       "      <th>61</th>\n",
       "      <td>medianPictureCount_muni</td>\n",
       "      <td>0.009050</td>\n",
       "    </tr>\n",
       "    <tr>\n",
       "      <th>60</th>\n",
       "      <td>lift_No</td>\n",
       "      <td>0.007567</td>\n",
       "    </tr>\n",
       "    <tr>\n",
       "      <th>59</th>\n",
       "      <td>lift_Yes</td>\n",
       "      <td>0.006559</td>\n",
       "    </tr>\n",
       "    <tr>\n",
       "      <th>58</th>\n",
       "      <td>condition_first_time_use</td>\n",
       "      <td>0.006558</td>\n",
       "    </tr>\n",
       "    <tr>\n",
       "      <th>57</th>\n",
       "      <td>interiorQual_luxury</td>\n",
       "      <td>0.006501</td>\n",
       "    </tr>\n",
       "    <tr>\n",
       "      <th>56</th>\n",
       "      <td>noRooms</td>\n",
       "      <td>0.006145</td>\n",
       "    </tr>\n",
       "    <tr>\n",
       "      <th>55</th>\n",
       "      <td>condition_mint_condition</td>\n",
       "      <td>0.005271</td>\n",
       "    </tr>\n",
       "    <tr>\n",
       "      <th>54</th>\n",
       "      <td>newlyConst_Yes</td>\n",
       "      <td>0.004103</td>\n",
       "    </tr>\n",
       "    <tr>\n",
       "      <th>53</th>\n",
       "      <td>interiorQual_normal</td>\n",
       "      <td>0.004092</td>\n",
       "    </tr>\n",
       "  </tbody>\n",
       "</table>\n",
       "</div>"
      ],
      "text/plain": [
       "                      feature  coefficient\n",
       "72                livingSpace     0.447748\n",
       "71     medianServiceCharge_ct     0.160516\n",
       "70              serviceCharge     0.148469\n",
       "69       medianLivingSpace_ct     0.040854\n",
       "68    medianServiceCharge_zip     0.020400\n",
       "67     medianLivingSpace_muni     0.016251\n",
       "66   medianServiceCharge_muni     0.011046\n",
       "65      medianLivingSpace_zip     0.010327\n",
       "64      medianPictureCount_ct     0.010194\n",
       "63  no_Listings_per_100people     0.009256\n",
       "62       medianThermalChar_ct     0.009215\n",
       "61    medianPictureCount_muni     0.009050\n",
       "60                    lift_No     0.007567\n",
       "59                   lift_Yes     0.006559\n",
       "58   condition_first_time_use     0.006558\n",
       "57        interiorQual_luxury     0.006501\n",
       "56                    noRooms     0.006145\n",
       "55   condition_mint_condition     0.005271\n",
       "54             newlyConst_Yes     0.004103\n",
       "53        interiorQual_normal     0.004092"
      ]
     },
     "execution_count": 66,
     "metadata": {},
     "output_type": "execute_result"
    }
   ],
   "source": [
    "#View the top 20 features\n",
    "rf_search_top20_features"
   ]
  },
  {
   "cell_type": "markdown",
   "metadata": {},
   "source": [
    "### Feature importance comparison - random forest / lasso"
   ]
  },
  {
   "cell_type": "code",
   "execution_count": 67,
   "metadata": {},
   "outputs": [
    {
     "data": {
      "text/plain": [
       "['serviceCharge',\n",
       " 'medianServiceCharge_ct',\n",
       " 'noRooms',\n",
       " 'condition_first_time_use',\n",
       " 'medianLivingSpace_ct',\n",
       " 'lift_No',\n",
       " 'interiorQual_luxury',\n",
       " 'livingSpace',\n",
       " 'medianLivingSpace_muni',\n",
       " 'medianServiceCharge_zip',\n",
       " 'medianThermalChar_ct',\n",
       " 'medianPictureCount_ct']"
      ]
     },
     "execution_count": 67,
     "metadata": {},
     "output_type": "execute_result"
    }
   ],
   "source": [
    "#Get common features between lasso and random forest model\n",
    "common_features_rf_search_lasso = list(set(rf_search_top20_features.feature).intersection(set(lasso_top20_features.index)))\n",
    "common_features_rf_search_lasso"
   ]
  },
  {
   "cell_type": "code",
   "execution_count": 68,
   "metadata": {},
   "outputs": [
    {
     "data": {
      "text/plain": [
       "12"
      ]
     },
     "execution_count": 68,
     "metadata": {},
     "output_type": "execute_result"
    }
   ],
   "source": [
    "#Get count of features common to lasso and random forest\n",
    "len(common_features_rf_search_lasso)"
   ]
  },
  {
   "cell_type": "markdown",
   "metadata": {},
   "source": [
    "We observe that 12 of the top features of the lasso model were found in the random forest model. "
   ]
  },
  {
   "cell_type": "code",
   "execution_count": 69,
   "metadata": {},
   "outputs": [],
   "source": [
    "#Get features that were different between the random forest and lasso model\n",
    "diff_features_rf_search_lasso  = list(set(rf_search_top20_features.feature).difference(set(lasso_top20_features.index))) "
   ]
  },
  {
   "cell_type": "code",
   "execution_count": 70,
   "metadata": {},
   "outputs": [
    {
     "data": {
      "text/plain": [
       "['medianPictureCount_muni',\n",
       " 'interiorQual_normal',\n",
       " 'medianLivingSpace_zip',\n",
       " 'newlyConst_Yes',\n",
       " 'condition_mint_condition',\n",
       " 'medianServiceCharge_muni',\n",
       " 'no_Listings_per_100people',\n",
       " 'lift_Yes']"
      ]
     },
     "execution_count": 70,
     "metadata": {},
     "output_type": "execute_result"
    }
   ],
   "source": [
    "#Check the different features\n",
    "diff_features_rf_search_lasso"
   ]
  },
  {
   "cell_type": "markdown",
   "metadata": {},
   "source": [
    "We note that of the seven features that were not picked up in the lasso's top 20 features list by the random forest model, the medianServiceCharge_muni and medianLivingSpace_zip were in the top ten. The different selection of features may account by the better performance of the random forest model. "
   ]
  },
  {
   "cell_type": "markdown",
   "metadata": {},
   "source": [
    "## XGBoost"
   ]
  },
  {
   "cell_type": "code",
   "execution_count": 71,
   "metadata": {},
   "outputs": [],
   "source": [
    "#Instantiate XGBoost learner\n",
    "xg = xgb.XGBRegressor(objective = 'reg:squarederror', seed = 77)"
   ]
  },
  {
   "cell_type": "code",
   "execution_count": 72,
   "metadata": {},
   "outputs": [],
   "source": [
    "#Determine cross validation performance on random forest model with 5 folds\n",
    "xg_r2_scores, xg_mae_scores = cv_performance(xg, X_train, y_train, 5)"
   ]
  },
  {
   "cell_type": "code",
   "execution_count": 73,
   "metadata": {},
   "outputs": [
    {
     "data": {
      "text/plain": [
       "array([0.87730438, 0.77207787, 0.85208803, 0.88835724, 0.86347631])"
      ]
     },
     "execution_count": 73,
     "metadata": {},
     "output_type": "execute_result"
    }
   ],
   "source": [
    "#Check r2 cross validation scores\n",
    "xg_r2_scores"
   ]
  },
  {
   "cell_type": "code",
   "execution_count": 74,
   "metadata": {},
   "outputs": [
    {
     "data": {
      "text/plain": [
       "(0.8506607675602798, 0.04116418885752121)"
      ]
     },
     "execution_count": 74,
     "metadata": {},
     "output_type": "execute_result"
    }
   ],
   "source": [
    "#Check mean and standard deviation of r2 cross validation scores\n",
    "xg_r2_mean, xg_r2_std = cv_mean_std(xg_r2_scores)\n",
    "xg_r2_mean, xg_r2_std"
   ]
  },
  {
   "cell_type": "code",
   "execution_count": 75,
   "metadata": {},
   "outputs": [
    {
     "data": {
      "text/plain": [
       "(0.8094965787027586, 0.8918249564178009)"
      ]
     },
     "execution_count": 75,
     "metadata": {},
     "output_type": "execute_result"
    }
   ],
   "source": [
    "#Random forest model r2 lower and upper limits\n",
    "limits(xg_r2_mean, xg_r2_std)"
   ]
  },
  {
   "cell_type": "code",
   "execution_count": 76,
   "metadata": {},
   "outputs": [],
   "source": [
    "#Fit random forest model to data\n",
    "xg.fit(X_train, y_train);"
   ]
  },
  {
   "cell_type": "code",
   "execution_count": 77,
   "metadata": {},
   "outputs": [],
   "source": [
    "#Determine performance of random forest model on test set\n",
    "xg_r2_test_score, xg_mae_test_score = test_performance(xg)"
   ]
  },
  {
   "cell_type": "code",
   "execution_count": 78,
   "metadata": {},
   "outputs": [
    {
     "data": {
      "text/plain": [
       "0.8348090854298527"
      ]
     },
     "execution_count": 78,
     "metadata": {},
     "output_type": "execute_result"
    }
   ],
   "source": [
    "#Check r2 performance on random forest on test set\n",
    "xg_r2_test_score"
   ]
  },
  {
   "cell_type": "markdown",
   "metadata": {},
   "source": [
    "The XGBoost model seems to give us the best performance on the test set amongst all the models."
   ]
  },
  {
   "cell_type": "markdown",
   "metadata": {},
   "source": [
    "### Hyperparameter tuning for  XGBoost"
   ]
  },
  {
   "cell_type": "code",
   "execution_count": 79,
   "metadata": {},
   "outputs": [],
   "source": [
    "#Instatiate XGBoost grid search model\n",
    "xg_grid = xgb.XGBRegressor(objective = 'reg:squarederror')"
   ]
  },
  {
   "cell_type": "code",
   "execution_count": 80,
   "metadata": {},
   "outputs": [],
   "source": [
    "#Set up search grid for XGBoost parameters\n",
    "xg_params = {'subsample': np.arange(0.1, 1, 0.1), \n",
    "                 'max_depth':np.arange(3, 5, 1),\n",
    "                 'colsample_bytree': np.arange(0.1, 1, 0.1)}"
   ]
  },
  {
   "cell_type": "code",
   "execution_count": 81,
   "metadata": {},
   "outputs": [],
   "source": [
    "#Set up randomized search with the xg boost learner over the search grid\n",
    "search_xg = RandomizedSearchCV(estimator = xg_grid, param_distributions = xg_params, n_iter = 5, \\\n",
    "                            scoring = 'r2', cv = 4, random_state = 77)"
   ]
  },
  {
   "cell_type": "code",
   "execution_count": 82,
   "metadata": {},
   "outputs": [],
   "source": [
    "#Fit xg boost learner with search grid to data\n",
    "search_xg.fit(X_train, y_train.values.ravel());"
   ]
  },
  {
   "cell_type": "code",
   "execution_count": 83,
   "metadata": {
    "scrolled": false
   },
   "outputs": [
    {
     "data": {
      "text/plain": [
       "{'subsample': 0.7000000000000001, 'max_depth': 4, 'colsample_bytree': 0.2}"
      ]
     },
     "execution_count": 83,
     "metadata": {},
     "output_type": "execute_result"
    }
   ],
   "source": [
    "#Check xg boost learner's best parameters\n",
    "search_xg.best_params_"
   ]
  },
  {
   "cell_type": "markdown",
   "metadata": {},
   "source": [
    "Our optimal parameters require that we subsample 70% of the observations, subsample 2% of the features and go to a maximum tree depth 4. "
   ]
  },
  {
   "cell_type": "code",
   "execution_count": 84,
   "metadata": {},
   "outputs": [],
   "source": [
    "xg_search = xgb.XGBRegressor(subsample = 0.7, max_depth = 4, colsample_bytree = 0.2, objective = 'reg:squarederror')"
   ]
  },
  {
   "cell_type": "code",
   "execution_count": 85,
   "metadata": {},
   "outputs": [],
   "source": [
    "#Determine cross validation performance on updated random forest model with 5 folds\n",
    "xg_search_r2_scores, xg_search_mae_scores = cv_performance(xg_search, X_train, y_train, 5)"
   ]
  },
  {
   "cell_type": "code",
   "execution_count": 86,
   "metadata": {},
   "outputs": [
    {
     "data": {
      "text/plain": [
       "array([0.86444086, 0.75592361, 0.83021036, 0.86959132, 0.8595596 ])"
      ]
     },
     "execution_count": 86,
     "metadata": {},
     "output_type": "execute_result"
    }
   ],
   "source": [
    "#Check updated r2 cross validation scores\n",
    "xg_search_r2_scores"
   ]
  },
  {
   "cell_type": "code",
   "execution_count": 87,
   "metadata": {},
   "outputs": [
    {
     "data": {
      "text/plain": [
       "(0.8359451514521605, 0.04228013008948254)"
      ]
     },
     "execution_count": 87,
     "metadata": {},
     "output_type": "execute_result"
    }
   ],
   "source": [
    "#Check updated mean and standard deviation of r2 cross validation scores\n",
    "xg_search_r2_mean, xg_search_r2_std = cv_mean_std(xg_search_r2_scores)\n",
    "xg_search_r2_mean, xg_search_r2_std"
   ]
  },
  {
   "cell_type": "code",
   "execution_count": 88,
   "metadata": {},
   "outputs": [
    {
     "data": {
      "text/plain": [
       "(0.793665021362678, 0.878225281541643)"
      ]
     },
     "execution_count": 88,
     "metadata": {},
     "output_type": "execute_result"
    }
   ],
   "source": [
    "#Updated random forest model r2 lower and upper limits\n",
    "limits(xg_search_r2_mean, xg_search_r2_std)"
   ]
  },
  {
   "cell_type": "code",
   "execution_count": 89,
   "metadata": {},
   "outputs": [],
   "source": [
    "#Fit updated random forest model to data\n",
    "xg_search.fit(X_train, y_train);"
   ]
  },
  {
   "cell_type": "code",
   "execution_count": 90,
   "metadata": {},
   "outputs": [],
   "source": [
    "#Determine updated performance of random forest model on test set\n",
    "xg_search_r2_test_score, xg_search_mae_test_score = test_performance(xg_search)"
   ]
  },
  {
   "cell_type": "code",
   "execution_count": 91,
   "metadata": {},
   "outputs": [
    {
     "data": {
      "text/plain": [
       "0.8203339059565137"
      ]
     },
     "execution_count": 91,
     "metadata": {},
     "output_type": "execute_result"
    }
   ],
   "source": [
    "#Check updated r2 performance on random forest on test set\n",
    "xg_search_r2_test_score"
   ]
  },
  {
   "cell_type": "markdown",
   "metadata": {},
   "source": [
    "We observe that tuning hyperparameters did not improve our XGBoost model."
   ]
  },
  {
   "cell_type": "markdown",
   "metadata": {},
   "source": [
    "### Feature importance - XGBoost"
   ]
  },
  {
   "cell_type": "code",
   "execution_count": 92,
   "metadata": {},
   "outputs": [
    {
     "data": {
      "text/plain": [
       "array([0.04585626, 0.11247151, 0.00310476, 0.01235552, 0.00836174,\n",
       "       0.00572546, 0.00372195, 0.00377418, 0.1168148 , 0.00478888,\n",
       "       0.01489788, 0.03334   , 0.12126505, 0.00624577, 0.02602532,\n",
       "       0.00406396, 0.0113605 , 0.00633636, 0.00602473, 0.00728827,\n",
       "       0.00539275, 0.02409717, 0.        , 0.05735881, 0.01364255,\n",
       "       0.00271916, 0.00118812, 0.        , 0.        , 0.        ,\n",
       "       0.00468419, 0.        , 0.00169103, 0.        , 0.        ,\n",
       "       0.        , 0.00305653, 0.        , 0.03053292, 0.        ,\n",
       "       0.0055649 , 0.        , 0.0131475 , 0.        , 0.02778919,\n",
       "       0.00677158, 0.00466842, 0.0480022 , 0.00187472, 0.00323989,\n",
       "       0.00108641, 0.0012967 , 0.        , 0.00338693, 0.01566215,\n",
       "       0.04527647, 0.01984011, 0.00567393, 0.02295457, 0.00302571,\n",
       "       0.03680725, 0.        , 0.00129065, 0.00081413, 0.00123758,\n",
       "       0.00126631, 0.00182189, 0.00111807, 0.00735197, 0.00018819,\n",
       "       0.01145712, 0.00079218, 0.00840712], dtype=float32)"
      ]
     },
     "execution_count": 92,
     "metadata": {},
     "output_type": "execute_result"
    }
   ],
   "source": [
    "#Get feature importance for XGBoost model\n",
    "xg.feature_importances_"
   ]
  },
  {
   "cell_type": "code",
   "execution_count": 93,
   "metadata": {},
   "outputs": [
    {
     "data": {
      "text/html": [
       "<div>\n",
       "<style scoped>\n",
       "    .dataframe tbody tr th:only-of-type {\n",
       "        vertical-align: middle;\n",
       "    }\n",
       "\n",
       "    .dataframe tbody tr th {\n",
       "        vertical-align: top;\n",
       "    }\n",
       "\n",
       "    .dataframe thead th {\n",
       "        text-align: right;\n",
       "    }\n",
       "</style>\n",
       "<table border=\"1\" class=\"dataframe\">\n",
       "  <thead>\n",
       "    <tr style=\"text-align: right;\">\n",
       "      <th></th>\n",
       "      <th>feature</th>\n",
       "      <th>coefficient</th>\n",
       "    </tr>\n",
       "  </thead>\n",
       "  <tbody>\n",
       "    <tr>\n",
       "      <th>0</th>\n",
       "      <td>state_Nordrhein_Westfalen</td>\n",
       "      <td>0.0</td>\n",
       "    </tr>\n",
       "    <tr>\n",
       "      <th>1</th>\n",
       "      <td>state_Hessen</td>\n",
       "      <td>0.0</td>\n",
       "    </tr>\n",
       "    <tr>\n",
       "      <th>2</th>\n",
       "      <td>state_Hamburg</td>\n",
       "      <td>0.0</td>\n",
       "    </tr>\n",
       "    <tr>\n",
       "      <th>3</th>\n",
       "      <td>state_Baden_Württemberg</td>\n",
       "      <td>0.0</td>\n",
       "    </tr>\n",
       "    <tr>\n",
       "      <th>4</th>\n",
       "      <td>hasKitchen_Yes</td>\n",
       "      <td>0.0</td>\n",
       "    </tr>\n",
       "  </tbody>\n",
       "</table>\n",
       "</div>"
      ],
      "text/plain": [
       "                     feature  coefficient\n",
       "0  state_Nordrhein_Westfalen          0.0\n",
       "1               state_Hessen          0.0\n",
       "2              state_Hamburg          0.0\n",
       "3    state_Baden_Württemberg          0.0\n",
       "4             hasKitchen_Yes          0.0"
      ]
     },
     "execution_count": 93,
     "metadata": {},
     "output_type": "execute_result"
    }
   ],
   "source": [
    "#Create XGBoost coefficent data frame\n",
    "xg_coeff_df = pd.DataFrame(xg.feature_importances_, index = X_features, columns = ['coefficient']).\\\n",
    "sort_values(by = 'coefficient').reset_index().rename(columns = {'index': 'feature'})\n",
    "xg_coeff_df.head()"
   ]
  },
  {
   "cell_type": "code",
   "execution_count": 94,
   "metadata": {
    "scrolled": false
   },
   "outputs": [
    {
     "data": {
      "image/png": "[encoded data removed]",
      "text/plain": [
       "<Figure size 1296x360 with 1 Axes>"
      ]
     },
     "metadata": {
      "needs_background": "light"
     },
     "output_type": "display_data"
    }
   ],
   "source": [
    "#View plot of features and their significance\n",
    "xg_coeff_df.plot.bar(x = 'feature', y = 'coefficient', figsize = (18, 5))\n",
    "plt.title('Plot of feature coefficient versus feature')\n",
    "plt.xlabel('Feature')\n",
    "plt.ylabel('XGBoost coefficients');"
   ]
  },
  {
   "cell_type": "code",
   "execution_count": 95,
   "metadata": {},
   "outputs": [],
   "source": [
    "#Create dataframe of the top 20 features\n",
    "xg_feature_importance = xg_coeff_df.set_index('feature')\n",
    "xg_top20_features = xg_coeff_df.sort_values(by = 'coefficient', ascending = False)[:20]"
   ]
  },
  {
   "cell_type": "code",
   "execution_count": 96,
   "metadata": {},
   "outputs": [
    {
     "data": {
      "text/html": [
       "<div>\n",
       "<style scoped>\n",
       "    .dataframe tbody tr th:only-of-type {\n",
       "        vertical-align: middle;\n",
       "    }\n",
       "\n",
       "    .dataframe tbody tr th {\n",
       "        vertical-align: top;\n",
       "    }\n",
       "\n",
       "    .dataframe thead th {\n",
       "        text-align: right;\n",
       "    }\n",
       "</style>\n",
       "<table border=\"1\" class=\"dataframe\">\n",
       "  <thead>\n",
       "    <tr style=\"text-align: right;\">\n",
       "      <th></th>\n",
       "      <th>feature</th>\n",
       "      <th>coefficient</th>\n",
       "    </tr>\n",
       "  </thead>\n",
       "  <tbody>\n",
       "    <tr>\n",
       "      <th>72</th>\n",
       "      <td>medianServiceCharge_ct</td>\n",
       "      <td>0.121265</td>\n",
       "    </tr>\n",
       "    <tr>\n",
       "      <th>71</th>\n",
       "      <td>medianHeatingCosts_state</td>\n",
       "      <td>0.116815</td>\n",
       "    </tr>\n",
       "    <tr>\n",
       "      <th>70</th>\n",
       "      <td>livingSpace</td>\n",
       "      <td>0.112472</td>\n",
       "    </tr>\n",
       "    <tr>\n",
       "      <th>69</th>\n",
       "      <td>state_Bayern</td>\n",
       "      <td>0.057359</td>\n",
       "    </tr>\n",
       "    <tr>\n",
       "      <th>68</th>\n",
       "      <td>condition_mint_condition</td>\n",
       "      <td>0.048002</td>\n",
       "    </tr>\n",
       "    <tr>\n",
       "      <th>67</th>\n",
       "      <td>serviceCharge</td>\n",
       "      <td>0.045856</td>\n",
       "    </tr>\n",
       "    <tr>\n",
       "      <th>66</th>\n",
       "      <td>interiorQual_luxury</td>\n",
       "      <td>0.045276</td>\n",
       "    </tr>\n",
       "    <tr>\n",
       "      <th>65</th>\n",
       "      <td>lift_No</td>\n",
       "      <td>0.036807</td>\n",
       "    </tr>\n",
       "    <tr>\n",
       "      <th>64</th>\n",
       "      <td>medianLivingSpace_ct</td>\n",
       "      <td>0.033340</td>\n",
       "    </tr>\n",
       "    <tr>\n",
       "      <th>63</th>\n",
       "      <td>newlyConst_No</td>\n",
       "      <td>0.030533</td>\n",
       "    </tr>\n",
       "    <tr>\n",
       "      <th>62</th>\n",
       "      <td>condition_first_time_use</td>\n",
       "      <td>0.027789</td>\n",
       "    </tr>\n",
       "    <tr>\n",
       "      <th>61</th>\n",
       "      <td>medianPictureCount_ct</td>\n",
       "      <td>0.026025</td>\n",
       "    </tr>\n",
       "    <tr>\n",
       "      <th>60</th>\n",
       "      <td>medianServiceCharge_zip</td>\n",
       "      <td>0.024097</td>\n",
       "    </tr>\n",
       "    <tr>\n",
       "      <th>59</th>\n",
       "      <td>interiorQual_sophisticated</td>\n",
       "      <td>0.022955</td>\n",
       "    </tr>\n",
       "    <tr>\n",
       "      <th>58</th>\n",
       "      <td>interiorQual_normal</td>\n",
       "      <td>0.019840</td>\n",
       "    </tr>\n",
       "    <tr>\n",
       "      <th>57</th>\n",
       "      <td>condition_well_kept</td>\n",
       "      <td>0.015662</td>\n",
       "    </tr>\n",
       "    <tr>\n",
       "      <th>56</th>\n",
       "      <td>no_Listings_per_100people</td>\n",
       "      <td>0.014898</td>\n",
       "    </tr>\n",
       "    <tr>\n",
       "      <th>55</th>\n",
       "      <td>state_Berlin</td>\n",
       "      <td>0.013643</td>\n",
       "    </tr>\n",
       "    <tr>\n",
       "      <th>54</th>\n",
       "      <td>hasKitchen_No</td>\n",
       "      <td>0.013148</td>\n",
       "    </tr>\n",
       "    <tr>\n",
       "      <th>53</th>\n",
       "      <td>gdp_per_capita_2018</td>\n",
       "      <td>0.012356</td>\n",
       "    </tr>\n",
       "  </tbody>\n",
       "</table>\n",
       "</div>"
      ],
      "text/plain": [
       "                       feature  coefficient\n",
       "72      medianServiceCharge_ct     0.121265\n",
       "71    medianHeatingCosts_state     0.116815\n",
       "70                 livingSpace     0.112472\n",
       "69                state_Bayern     0.057359\n",
       "68    condition_mint_condition     0.048002\n",
       "67               serviceCharge     0.045856\n",
       "66         interiorQual_luxury     0.045276\n",
       "65                     lift_No     0.036807\n",
       "64        medianLivingSpace_ct     0.033340\n",
       "63               newlyConst_No     0.030533\n",
       "62    condition_first_time_use     0.027789\n",
       "61       medianPictureCount_ct     0.026025\n",
       "60     medianServiceCharge_zip     0.024097\n",
       "59  interiorQual_sophisticated     0.022955\n",
       "58         interiorQual_normal     0.019840\n",
       "57         condition_well_kept     0.015662\n",
       "56   no_Listings_per_100people     0.014898\n",
       "55                state_Berlin     0.013643\n",
       "54               hasKitchen_No     0.013148\n",
       "53         gdp_per_capita_2018     0.012356"
      ]
     },
     "execution_count": 96,
     "metadata": {},
     "output_type": "execute_result"
    }
   ],
   "source": [
    "#View the top 20 features\n",
    "xg_top20_features"
   ]
  },
  {
   "cell_type": "markdown",
   "metadata": {},
   "source": [
    "### Feature importance comparison - XGBoost / lasso & random forest"
   ]
  },
  {
   "cell_type": "code",
   "execution_count": 97,
   "metadata": {},
   "outputs": [
    {
     "data": {
      "text/plain": [
       "['serviceCharge',\n",
       " 'medianServiceCharge_ct',\n",
       " 'hasKitchen_No',\n",
       " 'medianHeatingCosts_state',\n",
       " 'condition_well_kept',\n",
       " 'condition_first_time_use',\n",
       " 'medianLivingSpace_ct',\n",
       " 'lift_No',\n",
       " 'state_Berlin',\n",
       " 'interiorQual_luxury',\n",
       " 'livingSpace',\n",
       " 'newlyConst_No',\n",
       " 'medianServiceCharge_zip',\n",
       " 'medianPictureCount_ct']"
      ]
     },
     "execution_count": 97,
     "metadata": {},
     "output_type": "execute_result"
    }
   ],
   "source": [
    "#Get common features between lasso and XGBoost model\n",
    "common_features_xg_lasso = list(set(xg_top20_features.feature).intersection(set(lasso_top20_features.index)))\n",
    "common_features_xg_lasso"
   ]
  },
  {
   "cell_type": "code",
   "execution_count": 98,
   "metadata": {},
   "outputs": [
    {
     "data": {
      "text/plain": [
       "14"
      ]
     },
     "execution_count": 98,
     "metadata": {},
     "output_type": "execute_result"
    }
   ],
   "source": [
    "#Count of common features\n",
    "len(common_features_xg_lasso)"
   ]
  },
  {
   "cell_type": "markdown",
   "metadata": {},
   "source": [
    "We note that the XGBoost and lasso models share 14 of the top 20 features."
   ]
  },
  {
   "cell_type": "code",
   "execution_count": 99,
   "metadata": {},
   "outputs": [
    {
     "data": {
      "text/plain": [
       "['serviceCharge',\n",
       " 'medianServiceCharge_ct',\n",
       " 'condition_first_time_use',\n",
       " 'medianLivingSpace_ct',\n",
       " 'lift_No',\n",
       " 'interiorQual_luxury',\n",
       " 'livingSpace',\n",
       " 'interiorQual_normal',\n",
       " 'medianServiceCharge_zip',\n",
       " 'no_Listings_per_100people',\n",
       " 'condition_mint_condition',\n",
       " 'medianPictureCount_ct']"
      ]
     },
     "execution_count": 99,
     "metadata": {},
     "output_type": "execute_result"
    }
   ],
   "source": [
    "#Get common features between random forest and XGBoost model\n",
    "common_features_xg_rf_search = list(set(xg_top20_features.feature).intersection(set(rf_search_top20_features.feature)))\n",
    "common_features_xg_rf_search"
   ]
  },
  {
   "cell_type": "code",
   "execution_count": 100,
   "metadata": {},
   "outputs": [
    {
     "data": {
      "text/plain": [
       "12"
      ]
     },
     "execution_count": 100,
     "metadata": {},
     "output_type": "execute_result"
    }
   ],
   "source": [
    "#Count of common features\n",
    "len(common_features_xg_rf_search)"
   ]
  },
  {
   "cell_type": "markdown",
   "metadata": {},
   "source": [
    "We note that XGBoost and random forest model only share 11 of the top 20 features. We would have expected them to share more features since they both employ tree-induction for creating models."
   ]
  },
  {
   "cell_type": "code",
   "execution_count": 101,
   "metadata": {},
   "outputs": [],
   "source": [
    "#Get features that were different between the XGBoost and lasso model\n",
    "diff_features_xg_lasso  = list(set(xg_top20_features.feature).difference(set(lasso_top20_features.index))) "
   ]
  },
  {
   "cell_type": "code",
   "execution_count": 102,
   "metadata": {
    "scrolled": true
   },
   "outputs": [
    {
     "data": {
      "text/plain": [
       "['state_Bayern',\n",
       " 'interiorQual_normal',\n",
       " 'interiorQual_sophisticated',\n",
       " 'condition_mint_condition',\n",
       " 'no_Listings_per_100people',\n",
       " 'gdp_per_capita_2018']"
      ]
     },
     "execution_count": 102,
     "metadata": {},
     "output_type": "execute_result"
    }
   ],
   "source": [
    "#Check the different features\n",
    "diff_features_xg_lasso"
   ]
  },
  {
   "cell_type": "code",
   "execution_count": 103,
   "metadata": {},
   "outputs": [],
   "source": [
    "#Get features that were different between the random forest and XGBoost \n",
    "diff_features_xg_rf_search  = list(set(xg_top20_features.feature).difference(set(rf_search_top20_features.feature))) "
   ]
  },
  {
   "cell_type": "code",
   "execution_count": 104,
   "metadata": {},
   "outputs": [
    {
     "data": {
      "text/plain": [
       "['state_Bayern',\n",
       " 'condition_well_kept',\n",
       " 'medianHeatingCosts_state',\n",
       " 'hasKitchen_No',\n",
       " 'state_Berlin',\n",
       " 'newlyConst_No',\n",
       " 'interiorQual_sophisticated',\n",
       " 'gdp_per_capita_2018']"
      ]
     },
     "execution_count": 104,
     "metadata": {},
     "output_type": "execute_result"
    }
   ],
   "source": [
    "#Check the different features\n",
    "diff_features_xg_rf_search"
   ]
  },
  {
   "cell_type": "markdown",
   "metadata": {},
   "source": [
    "### Most common features between all models"
   ]
  },
  {
   "cell_type": "code",
   "execution_count": 105,
   "metadata": {},
   "outputs": [
    {
     "data": {
      "text/plain": [
       "['serviceCharge',\n",
       " 'medianServiceCharge_ct',\n",
       " 'condition_first_time_use',\n",
       " 'medianLivingSpace_ct',\n",
       " 'interiorQual_luxury',\n",
       " 'livingSpace',\n",
       " 'medianServiceCharge_zip',\n",
       " 'medianPictureCount_ct']"
      ]
     },
     "execution_count": 105,
     "metadata": {},
     "output_type": "execute_result"
    }
   ],
   "source": [
    "#Get common features between random forest and XGBoost model\n",
    "common_features_all = list(set(xg_top20_features.feature).intersection(set(rf_search_top20_features.feature))\\\n",
    "                          .intersection(set(ridge_top20_features.index))\\\n",
    "                          .intersection(set(lasso_top20_features.index)))\n",
    "common_features_all"
   ]
  },
  {
   "cell_type": "markdown",
   "metadata": {},
   "source": [
    "For all algorithms, the most important features were\n",
    "- medianServiceCharge_ct\n",
    "- medianLivingSpace_ct\n",
    "- livingSpace\n",
    "- medianPictureCount_ct\n",
    "- interiorQual_luxury\n",
    "- condition_first_time_use\n",
    "- medianServiceCharge_zip\n",
    "- serviceCharge\n",
    "\n",
    "Of these features the landlord has control over the living area, interior quality, service charge and first-time-use. In reality, if a landlord wants to implement a change, only the interior quality can be affected. "
   ]
  },
  {
   "cell_type": "markdown",
   "metadata": {},
   "source": [
    "# Choosing a model"
   ]
  },
  {
   "cell_type": "markdown",
   "metadata": {},
   "source": [
    "## Performance Summary"
   ]
  },
  {
   "cell_type": "code",
   "execution_count": 106,
   "metadata": {},
   "outputs": [],
   "source": [
    "#Define r2 metrics data frame\n",
    "trial_models = ['lasso', 'ridge', 'random_forest', 'random_forest_hyper', 'XGBoost', 'XGBoost_hyper']\n",
    "r2_metrics = ['r2_cv_mean', 'r2_cv_std', 'r2_test_score']\n",
    "r2_mean = [lasso_r2_mean, ridge_r2_mean, rf_r2_mean, rf_search_r2_mean, xg_r2_mean, xg_search_r2_mean]\n",
    "r2_std = [lasso_r2_std, ridge_r2_std, rf_r2_std, rf_search_r2_std, xg_r2_std, xg_search_r2_std]\n",
    "r2_test = [lasso_r2_test_score, ridge_r2_test_score, rf_r2_test_score, rf_search_r2_test_score, \\\n",
    "           xg_r2_test_score, xg_search_r2_test_score]\n",
    "r2_performance= [r2_mean, r2_std, r2_test]\n",
    "r2_performance_df = pd.DataFrame(r2_performance, columns = trial_models, index = r2_metrics).T \\\n",
    "                    .sort_values(by = 'r2_test_score', ascending = False)\n",
    "\n",
    "#Define mae metrics data frame\n",
    "mae_metrics=['mae_cv_mean', 'mae_cv_std', 'mae_test_score']\n",
    "mae_mean = [lasso_mae_scores.mean(), ridge_mae_scores.mean(), rf_mae_scores.mean(), rf_search_mae_scores.mean(),\\\n",
    "            xg_mae_scores.mean(), xg_search_mae_scores.mean()]\n",
    "mae_std = [lasso_mae_scores.std(), ridge_mae_scores.std(), rf_mae_scores.std(), rf_search_mae_scores.std(), \\\n",
    "           xg_mae_scores.std(), xg_search_mae_scores.std()]\n",
    "mae_test = [lasso_mae_test_score, ridge_mae_test_score, rf_mae_test_score, rf_search_mae_test_score, xg_mae_test_score, \\\n",
    "            xg_search_mae_test_score]\n",
    "mae_performance= [mae_mean, mae_std, mae_test]\n",
    "mae_performance_df = pd.DataFrame(mae_performance, columns = trial_models, index = mae_metrics).T \\\n",
    "                    .sort_values(by = 'mae_test_score')"
   ]
  },
  {
   "cell_type": "code",
   "execution_count": 107,
   "metadata": {
    "scrolled": true
   },
   "outputs": [
    {
     "data": {
      "text/html": [
       "<div>\n",
       "<style scoped>\n",
       "    .dataframe tbody tr th:only-of-type {\n",
       "        vertical-align: middle;\n",
       "    }\n",
       "\n",
       "    .dataframe tbody tr th {\n",
       "        vertical-align: top;\n",
       "    }\n",
       "\n",
       "    .dataframe thead th {\n",
       "        text-align: right;\n",
       "    }\n",
       "</style>\n",
       "<table border=\"1\" class=\"dataframe\">\n",
       "  <thead>\n",
       "    <tr style=\"text-align: right;\">\n",
       "      <th></th>\n",
       "      <th>r2_cv_mean</th>\n",
       "      <th>r2_cv_std</th>\n",
       "      <th>r2_test_score</th>\n",
       "    </tr>\n",
       "  </thead>\n",
       "  <tbody>\n",
       "    <tr>\n",
       "      <th>XGBoost</th>\n",
       "      <td>0.850661</td>\n",
       "      <td>0.041164</td>\n",
       "      <td>0.834809</td>\n",
       "    </tr>\n",
       "    <tr>\n",
       "      <th>random_forest_hyper</th>\n",
       "      <td>0.839942</td>\n",
       "      <td>0.041224</td>\n",
       "      <td>0.829283</td>\n",
       "    </tr>\n",
       "    <tr>\n",
       "      <th>XGBoost_hyper</th>\n",
       "      <td>0.835945</td>\n",
       "      <td>0.042280</td>\n",
       "      <td>0.820334</td>\n",
       "    </tr>\n",
       "    <tr>\n",
       "      <th>random_forest</th>\n",
       "      <td>0.829487</td>\n",
       "      <td>0.038386</td>\n",
       "      <td>0.818837</td>\n",
       "    </tr>\n",
       "    <tr>\n",
       "      <th>ridge</th>\n",
       "      <td>0.737084</td>\n",
       "      <td>0.036530</td>\n",
       "      <td>0.728541</td>\n",
       "    </tr>\n",
       "    <tr>\n",
       "      <th>lasso</th>\n",
       "      <td>0.736880</td>\n",
       "      <td>0.036795</td>\n",
       "      <td>0.728211</td>\n",
       "    </tr>\n",
       "  </tbody>\n",
       "</table>\n",
       "</div>"
      ],
      "text/plain": [
       "                     r2_cv_mean  r2_cv_std  r2_test_score\n",
       "XGBoost                0.850661   0.041164       0.834809\n",
       "random_forest_hyper    0.839942   0.041224       0.829283\n",
       "XGBoost_hyper          0.835945   0.042280       0.820334\n",
       "random_forest          0.829487   0.038386       0.818837\n",
       "ridge                  0.737084   0.036530       0.728541\n",
       "lasso                  0.736880   0.036795       0.728211"
      ]
     },
     "execution_count": 107,
     "metadata": {},
     "output_type": "execute_result"
    }
   ],
   "source": [
    "#Check r2 performance\n",
    "r2_performance_df"
   ]
  },
  {
   "cell_type": "code",
   "execution_count": 108,
   "metadata": {
    "scrolled": false
   },
   "outputs": [
    {
     "data": {
      "text/html": [
       "<div>\n",
       "<style scoped>\n",
       "    .dataframe tbody tr th:only-of-type {\n",
       "        vertical-align: middle;\n",
       "    }\n",
       "\n",
       "    .dataframe tbody tr th {\n",
       "        vertical-align: top;\n",
       "    }\n",
       "\n",
       "    .dataframe thead th {\n",
       "        text-align: right;\n",
       "    }\n",
       "</style>\n",
       "<table border=\"1\" class=\"dataframe\">\n",
       "  <thead>\n",
       "    <tr style=\"text-align: right;\">\n",
       "      <th></th>\n",
       "      <th>mae_cv_mean</th>\n",
       "      <th>mae_cv_std</th>\n",
       "      <th>mae_test_score</th>\n",
       "    </tr>\n",
       "  </thead>\n",
       "  <tbody>\n",
       "    <tr>\n",
       "      <th>random_forest_hyper</th>\n",
       "      <td>90.748024</td>\n",
       "      <td>0.935389</td>\n",
       "      <td>89.138054</td>\n",
       "    </tr>\n",
       "    <tr>\n",
       "      <th>XGBoost</th>\n",
       "      <td>92.108343</td>\n",
       "      <td>0.693799</td>\n",
       "      <td>92.476135</td>\n",
       "    </tr>\n",
       "    <tr>\n",
       "      <th>random_forest</th>\n",
       "      <td>97.172547</td>\n",
       "      <td>0.975654</td>\n",
       "      <td>95.836247</td>\n",
       "    </tr>\n",
       "    <tr>\n",
       "      <th>XGBoost_hyper</th>\n",
       "      <td>102.670443</td>\n",
       "      <td>1.127958</td>\n",
       "      <td>103.301763</td>\n",
       "    </tr>\n",
       "    <tr>\n",
       "      <th>lasso</th>\n",
       "      <td>146.475853</td>\n",
       "      <td>1.029786</td>\n",
       "      <td>146.548822</td>\n",
       "    </tr>\n",
       "    <tr>\n",
       "      <th>ridge</th>\n",
       "      <td>147.222076</td>\n",
       "      <td>0.989770</td>\n",
       "      <td>147.266011</td>\n",
       "    </tr>\n",
       "  </tbody>\n",
       "</table>\n",
       "</div>"
      ],
      "text/plain": [
       "                     mae_cv_mean  mae_cv_std  mae_test_score\n",
       "random_forest_hyper    90.748024    0.935389       89.138054\n",
       "XGBoost                92.108343    0.693799       92.476135\n",
       "random_forest          97.172547    0.975654       95.836247\n",
       "XGBoost_hyper         102.670443    1.127958      103.301763\n",
       "lasso                 146.475853    1.029786      146.548822\n",
       "ridge                 147.222076    0.989770      147.266011"
      ]
     },
     "execution_count": 108,
     "metadata": {},
     "output_type": "execute_result"
    }
   ],
   "source": [
    "#Check mae performance\n",
    "mae_performance_df"
   ]
  },
  {
   "cell_type": "markdown",
   "metadata": {},
   "source": [
    "Our best models are the random forest and the XGBoost models. The XGBoost performs better on the r2 measure, while the random forest model performs better on the mean absolute error score.\n",
    "\n",
    "The linear models (lasso and ridge) have lower standard deviations on the r2 score than the tree induction models. \n",
    "\n",
    "We will select the random forest model because it offers the best mean absolute error score and the r2 score is acceptable"
   ]
  },
  {
   "cell_type": "markdown",
   "metadata": {},
   "source": [
    "# Save Best Model"
   ]
  },
  {
   "cell_type": "code",
   "execution_count": 109,
   "metadata": {},
   "outputs": [],
   "source": [
    "best_model = rf_grid_cv.best_estimator_\n",
    "best_model.version = '1.0'\n",
    "best_model.pandas_version = pd.__version__\n",
    "best_model.numpy_version = np.__version__\n",
    "best_model.sklearn_version = str(sklearn.__version__)\n",
    "best_model.X_columns = [col for col in X_features]\n",
    "best_model.build_datetime = datetime.datetime.now()\n",
    "    \n",
    "modelpath = '..\\models'\n",
    "if not os.path.exists(modelpath):\n",
    "    os.mkdir(modelpath)\n",
    "rentalsmodel_path = os.path.join(modelpath, 'apartment_pricing_model.pkl')\n",
    "if not os.path.exists(rentalsmodel_path):\n",
    "    with open(rentalsmodel_path, 'wb') as f:\n",
    "        pickle.dump(best_model, f)"
   ]
  }
 ],
 "metadata": {
  "kernelspec": {
   "display_name": "Python 3",
   "language": "python",
   "name": "python3"
  },
  "language_info": {
   "codemirror_mode": {
    "name": "ipython",
    "version": 3
   },
   "file_extension": ".py",
   "mimetype": "text/x-python",
   "name": "python",
   "nbconvert_exporter": "python",
   "pygments_lexer": "ipython3",
   "version": "3.8.10"
  }
 },
 "nbformat": 4,
 "nbformat_minor": 4
}
